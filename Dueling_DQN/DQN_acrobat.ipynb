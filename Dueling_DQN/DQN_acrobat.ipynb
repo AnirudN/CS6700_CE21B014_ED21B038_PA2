{
  "cells": [
    {
      "cell_type": "markdown",
      "metadata": {
        "id": "pn7PKu9r0asK"
      },
      "source": [
        "#Tutorial 5 - DQN\n",
        "\n",
        "Please follow this tutorial to understand the structure (code) of DQN algorithm.\n",
        "\n",
        "\n",
        "### References:\n",
        "\n",
        "Please follow [Human-level control through deep reinforcement learning](https://www.nature.com/articles/nature14236) for the original publication as well as the psuedocode. Watch Prof. Ravi's lectures on moodle or nptel for further understanding of the core concepts. Contact the TAs for further resources if needed.\n"
      ]
    },
    {
      "cell_type": "code",
      "source": [
        "'''\n",
        "Installing packages for rendering the game on Colab\n",
        "'''\n",
        "\n",
        "!pip install gym pyvirtualdisplay > /dev/null 2>&1\n",
        "!apt-get install -y xvfb python-opengl ffmpeg > /dev/null 2>&1\n",
        "!apt-get update > /dev/null 2>&1\n",
        "!apt-get install cmake > /dev/null 2>&1\n",
        "!pip install --upgrade setuptools 2>&1\n",
        "!pip install ez_setup > /dev/null 2>&1\n",
        "!pip install gym[atari] > /dev/null 2>&1\n",
        "!pip install git+https://github.com/tensorflow/docs > /dev/null 2>&1\n",
        "!pip install gym[classic_control]"
      ],
      "metadata": {
        "colab": {
          "base_uri": "https://localhost:8080/"
        },
        "id": "Jil99WogEz_-",
        "outputId": "6fb955b6-9dd0-414e-bd03-f5144f37d35a"
      },
      "execution_count": 1,
      "outputs": [
        {
          "output_type": "stream",
          "name": "stdout",
          "text": [
            "Requirement already satisfied: setuptools in /usr/local/lib/python3.10/dist-packages (69.2.0)\n",
            "Requirement already satisfied: gym[classic_control] in /usr/local/lib/python3.10/dist-packages (0.25.2)\n",
            "Requirement already satisfied: numpy>=1.18.0 in /usr/local/lib/python3.10/dist-packages (from gym[classic_control]) (1.25.2)\n",
            "Requirement already satisfied: cloudpickle>=1.2.0 in /usr/local/lib/python3.10/dist-packages (from gym[classic_control]) (2.2.1)\n",
            "Requirement already satisfied: gym-notices>=0.0.4 in /usr/local/lib/python3.10/dist-packages (from gym[classic_control]) (0.0.8)\n",
            "Collecting pygame==2.1.0 (from gym[classic_control])\n",
            "  Downloading pygame-2.1.0-cp310-cp310-manylinux_2_17_x86_64.manylinux2014_x86_64.whl (18.3 MB)\n",
            "\u001b[2K     \u001b[90m━━━━━━━━━━━━━━━━━━━━━━━━━━━━━━━━━━━━━━━━\u001b[0m \u001b[32m18.3/18.3 MB\u001b[0m \u001b[31m39.0 MB/s\u001b[0m eta \u001b[36m0:00:00\u001b[0m\n",
            "\u001b[?25hInstalling collected packages: pygame\n",
            "  Attempting uninstall: pygame\n",
            "    Found existing installation: pygame 2.5.2\n",
            "    Uninstalling pygame-2.5.2:\n",
            "      Successfully uninstalled pygame-2.5.2\n",
            "Successfully installed pygame-2.1.0\n"
          ]
        }
      ]
    },
    {
      "cell_type": "code",
      "execution_count": 2,
      "metadata": {
        "id": "P_DODRgW_ZKS"
      },
      "outputs": [],
      "source": [
        "'''\n",
        "A bunch of imports, you don't have to worry about these\n",
        "'''\n",
        "\n",
        "import numpy as np\n",
        "import random\n",
        "import torch\n",
        "import torch.nn as nn\n",
        "import torch.nn.functional as F\n",
        "from collections import namedtuple, deque\n",
        "import torch.optim as optim\n",
        "import datetime\n",
        "import gym\n",
        "from gym.wrappers.record_video import RecordVideo\n",
        "import glob\n",
        "import io\n",
        "import base64\n",
        "import matplotlib.pyplot as plt\n",
        "from IPython.display import HTML\n",
        "from pyvirtualdisplay import Display\n",
        "from IPython import display as ipythondisplay\n",
        "from PIL import Image"
      ]
    },
    {
      "cell_type": "code",
      "execution_count": 4,
      "metadata": {
        "colab": {
          "base_uri": "https://localhost:8080/"
        },
        "id": "fYNA5kiH_esJ",
        "outputId": "7af923fd-add1-4be4-acdc-2a7feae3337c"
      },
      "outputs": [
        {
          "output_type": "stream",
          "name": "stdout",
          "text": [
            "6\n",
            "3\n",
            "0\n",
            "----\n",
            "[ 0.99962485  0.02738891  0.9989402  -0.04602639 -0.09180529 -0.09669447]\n",
            "----\n",
            "2\n",
            "----\n",
            "[ 0.99996984 -0.0077642   0.9997182  -0.02373883 -0.25169677  0.31000718]\n",
            "-1.0\n",
            "False\n",
            "{}\n",
            "----\n"
          ]
        }
      ],
      "source": [
        "'''\n",
        "Please refer to the first tutorial for more details on the specifics of environments\n",
        "We've only added important commands you might find useful for experiments.\n",
        "'''\n",
        "\n",
        "'''\n",
        "List of example environments\n",
        "(Source - https://gym.openai.com/envs/#classic_control)\n",
        "\n",
        "'Acrobot-v1'\n",
        "'Cartpole-v1'\n",
        "'MountainCar-v0'\n",
        "'''\n",
        "\n",
        "env = gym.make('Acrobot-v1')\n",
        "env.seed(0)\n",
        "\n",
        "state_shape = env.observation_space.shape[0]\n",
        "no_of_actions = env.action_space.n\n",
        "\n",
        "print(state_shape)\n",
        "print(no_of_actions)\n",
        "print(env.action_space.sample())\n",
        "print(\"----\")\n",
        "\n",
        "'''\n",
        "# Understanding State, Action, Reward Dynamics\n",
        "\n",
        "The agent decides an action to take depending on the state.\n",
        "\n",
        "The Environment keeps a variable specifically for the current state.\n",
        "- Everytime an action is passed to the environment, it calculates the new state and updates the current state variable.\n",
        "- It returns the new current state and reward for the agent to take the next action\n",
        "\n",
        "'''\n",
        "\n",
        "state = env.reset()\n",
        "''' This returns the initial state (when environment is reset) '''\n",
        "\n",
        "print(state)\n",
        "print(\"----\")\n",
        "\n",
        "action = env.action_space.sample()\n",
        "''' We take a random action now '''\n",
        "\n",
        "print(action)\n",
        "print(\"----\")\n",
        "\n",
        "next_state, reward, done, info = env.step(action)\n",
        "''' env.step is used to calculate new state and obtain reward based on old state and action taken  '''\n",
        "\n",
        "print(next_state)\n",
        "print(reward)\n",
        "print(done)\n",
        "print(info)\n",
        "print(\"----\")\n"
      ]
    },
    {
      "cell_type": "markdown",
      "metadata": {
        "id": "apuaOxavDXus"
      },
      "source": [
        "## DQN\n",
        "\n",
        "Using NNs as substitutes isn't something new. It has been tried earlier, but the 'human control' paper really popularised using NNs by providing a few stability ideas (Q-Targets, Experience Replay & Truncation). The 'Deep-Q Network' (DQN) Algorithm can be broken down into having the following components.\n",
        "\n",
        "### Q-Network:\n",
        "The neural network used as a function approximator is defined below"
      ]
    },
    {
      "cell_type": "code",
      "execution_count": 5,
      "metadata": {
        "id": "g4MRC1p2DZbp"
      },
      "outputs": [],
      "source": [
        "\n",
        "import torch\n",
        "import torch.nn as nn\n",
        "import torch.nn.functional as F\n",
        "\n",
        "\n",
        "\n",
        "class QNetwork1(nn.Module):\n",
        "    def __init__(self, state_size, action_size, seed, fc1_units=64, fc_value_units=256, fc_adv_units=256):\n",
        "        super(QNetwork1, self).__init__()\n",
        "\n",
        "        self.fc1 = nn.Linear(6, 64)\n",
        "        self.relu = nn.ReLU()\n",
        "        self.fc_value = nn.Linear(64, 256)\n",
        "        self.fc_adv = nn.Linear(64, 256)\n",
        "\n",
        "        self.value = nn.Linear(256, 1)\n",
        "        self.adv = nn.Linear(256, action_size)\n",
        "\n",
        "    def forward(self, state):\n",
        "        y = self.relu(self.fc1(state))\n",
        "        value = self.relu(self.fc_value(y))\n",
        "        adv = self.relu(self.fc_adv(y))\n",
        "\n",
        "        value = self.value(value)\n",
        "        adv = self.adv(adv)\n",
        "\n",
        "        max_adv = torch.max(adv, dim=1, keepdim=True)[0]\n",
        "        Q = value + adv - max_adv\n",
        "\n",
        "        return Q\n",
        "\n",
        "\n"
      ]
    },
    {
      "cell_type": "code",
      "execution_count": 6,
      "metadata": {
        "id": "alAQE0sW171_"
      },
      "outputs": [],
      "source": [
        "class QNetwork2(nn.Module):\n",
        "    def __init__(self, state_size, action_size, seed, fc1_units=64, fc_value_units=256, fc_adv_units=256):\n",
        "        super(QNetwork2, self).__init__()\n",
        "\n",
        "        self.fc1 = nn.Linear(6, 64)\n",
        "        self.relu = nn.ReLU()\n",
        "        self.fc_value = nn.Linear(64, 256)\n",
        "        self.fc_adv = nn.Linear(64, 256)\n",
        "\n",
        "        self.value = nn.Linear(256, 1)\n",
        "        self.adv = nn.Linear(256, action_size)\n",
        "\n",
        "    def forward(self, state):\n",
        "        y = self.relu(self.fc1(state))\n",
        "        value = self.relu(self.fc_value(y))\n",
        "        adv = self.relu(self.fc_adv(y))\n",
        "\n",
        "        value = self.value(value)\n",
        "        adv = self.adv(adv)\n",
        "\n",
        "        advAverage = torch.mean(adv, dim=1, keepdim=True)\n",
        "        Q = value + adv - advAverage\n",
        "\n",
        "\n",
        "        return Q\n",
        "\n",
        "\n"
      ]
    },
    {
      "cell_type": "markdown",
      "metadata": {
        "id": "Jmv5c0XoK8GA"
      },
      "source": [
        "### Replay Buffer:\n",
        "\n",
        "Recall why we use such a technique."
      ]
    },
    {
      "cell_type": "code",
      "execution_count": 7,
      "metadata": {
        "id": "bh_oghc7Ledh"
      },
      "outputs": [],
      "source": [
        "import random\n",
        "import torch\n",
        "import numpy as np\n",
        "from collections import deque, namedtuple\n",
        "\n",
        "device = torch.device(\"cuda:0\" if torch.cuda.is_available() else \"cpu\")\n",
        "\n",
        "class ReplayBuffer:\n",
        "    \"\"\"Fixed-size buffer to store experience tuples.\"\"\"\n",
        "\n",
        "    def __init__(self, action_size, buffer_size, batch_size, seed):\n",
        "        \"\"\"Initialize a ReplayBuffer object.\n",
        "\n",
        "        Params\n",
        "        ======\n",
        "            action_size (int): dimension of each action\n",
        "            buffer_size (int): maximum size of buffer\n",
        "            batch_size (int): size of each training batch\n",
        "            seed (int): random seed\n",
        "        \"\"\"\n",
        "        self.action_size = action_size\n",
        "        self.memory = deque(maxlen=buffer_size)\n",
        "        self.batch_size = batch_size\n",
        "        self.experience = namedtuple(\"Experience\", field_names=[\"state\", \"action\", \"reward\", \"next_state\", \"done\"])\n",
        "        self.seed = random.seed(seed)\n",
        "\n",
        "    def add(self, state, action, reward, next_state, done):\n",
        "        \"\"\"Add a new experience to memory.\"\"\"\n",
        "        e = self.experience(state, action, reward, next_state, done)\n",
        "        self.memory.append(e)\n",
        "\n",
        "    def sample(self):\n",
        "        \"\"\"Randomly sample a batch of experiences from memory.\"\"\"\n",
        "        experiences = random.sample(self.memory, k=self.batch_size)\n",
        "\n",
        "        states = torch.from_numpy(np.vstack([e.state for e in experiences if e is not None])).float().to(device)\n",
        "        actions = torch.from_numpy(np.vstack([e.action for e in experiences if e is not None])).long().to(device)\n",
        "        rewards = torch.from_numpy(np.vstack([e.reward for e in experiences if e is not None])).float().to(device)\n",
        "        next_states = torch.from_numpy(np.vstack([e.next_state for e in experiences if e is not None])).float().to(device)\n",
        "        dones = torch.from_numpy(np.vstack([e.done for e in experiences if e is not None]).astype(np.uint8)).float().to(device)\n",
        "\n",
        "        return (states, actions, rewards, next_states, dones)\n",
        "\n",
        "    def __len__(self):\n",
        "        \"\"\"Return the current size of internal memory.\"\"\"\n",
        "        return len(self.memory)"
      ]
    },
    {
      "cell_type": "markdown",
      "metadata": {
        "id": "N8VJYkqoLqlO"
      },
      "source": [
        "## Tutorial Agent Code:\n"
      ]
    },
    {
      "cell_type": "code",
      "execution_count": 8,
      "metadata": {
        "id": "ok_5eQM7OCTj"
      },
      "outputs": [],
      "source": [
        "class TutorialAgent():\n",
        "\n",
        "    def __init__(self, state_size, action_size, seed, config):\n",
        "\n",
        "        ''' Agent Environment Interaction '''\n",
        "        self.state_size = state_size\n",
        "        self.action_size = action_size\n",
        "        self.seed = random.seed(seed)\n",
        "        self.config = config\n",
        "\n",
        "        ''' Q-Network '''\n",
        "        self.qnetwork_local = QNetwork1(state_size, action_size, seed).to(device)\n",
        "        self.qnetwork_target = QNetwork1(state_size, action_size, seed).to(device)\n",
        "        self.optimizer = optim.Adam(self.qnetwork_local.parameters(), lr=config.LR)\n",
        "\n",
        "        ''' Replay memory '''\n",
        "        self.memory = ReplayBuffer(action_size, config.BUFFER_SIZE, config.BATCH_SIZE, seed)\n",
        "\n",
        "        ''' Initialize time step (for updating every UPDATE_EVERY steps)           -Needed for Q Targets '''\n",
        "        self.t_step = 0\n",
        "\n",
        "    def step(self, state, action, reward, next_state, done):\n",
        "\n",
        "        ''' Save experience in replay memory '''\n",
        "        self.memory.add(state, action, reward, next_state, done)\n",
        "\n",
        "        ''' If enough samples are available in memory, get random subset and learn '''\n",
        "        if len(self.memory) >= self.config.BATCH_SIZE:\n",
        "            experiences = self.memory.sample()\n",
        "            self.learn(experiences, self.config.GAMMA)\n",
        "\n",
        "        \"\"\" +Q TARGETS PRESENT \"\"\"\n",
        "        ''' Updating the Network every 'UPDATE_EVERY' steps taken '''\n",
        "        self.t_step = (self.t_step + 1) % self.config.UPDATE_EVERY\n",
        "        if self.t_step == 0:\n",
        "\n",
        "            self.qnetwork_target.load_state_dict(self.qnetwork_local.state_dict())\n",
        "\n",
        "    def act(self, state, eps=0.):\n",
        "\n",
        "        state = torch.from_numpy(state).float().unsqueeze(0).to(device)\n",
        "        self.qnetwork_local.eval()\n",
        "        with torch.no_grad():\n",
        "            action_values = self.qnetwork_local(state)\n",
        "        self.qnetwork_local.train()\n",
        "\n",
        "        ''' Epsilon-greedy action selection (Already Present) '''\n",
        "        if random.random() > eps:\n",
        "            return np.argmax(action_values.cpu().data.numpy())\n",
        "        else:\n",
        "            return random.choice(np.arange(self.action_size))\n",
        "\n",
        "    def learn(self, experiences, gamma):\n",
        "      \"\"\"Perform a training iteration on a batch of data.\"\"\"\n",
        "      states, actions, rewards, next_states, dones = experiences\n",
        "\n",
        "      # Get max predicted Q values (for next states) from target model\n",
        "      Q_targets_next = self.qnetwork_target(next_states).detach().max(1)[0].unsqueeze(1)\n",
        "\n",
        "      # Compute Q targets for current states\n",
        "      Q_targets = rewards + (gamma * Q_targets_next * (1 - dones))\n",
        "\n",
        "      # Get expected Q values from local model\n",
        "      Q_expected = self.qnetwork_local(states).gather(1, actions)\n",
        "\n",
        "      # Compute loss\n",
        "      loss = F.mse_loss(Q_expected, Q_targets)\n",
        "\n",
        "      # Minimize the loss\n",
        "      self.optimizer.zero_grad()\n",
        "      loss.backward()\n",
        "\n",
        "      # Gradient Clipping\n",
        "      for param in self.qnetwork_local.parameters():\n",
        "          param.grad.data.clamp_(-1, 1)\n",
        "\n",
        "      self.optimizer.step()\n",
        "\n",
        "      return loss.item()  # Convert loss to a scalar value for logging purposes\n"
      ]
    },
    {
      "cell_type": "markdown",
      "metadata": {
        "id": "3SQFbRCHWQyO"
      },
      "source": [
        "### Here, we present the DQN algorithm code."
      ]
    },
    {
      "cell_type": "code",
      "execution_count": 9,
      "metadata": {
        "id": "r6A2TdUHWVUN"
      },
      "outputs": [],
      "source": [
        "''' Defining DQN Algorithm '''\n",
        "\n",
        "state_shape = env.observation_space.shape[0]\n",
        "action_shape = env.action_space.n\n",
        "\n",
        "\n",
        "def dqn(agent,n_episodes=600, max_t=1000, eps_start=1.0, eps_end=0.01, eps_decay=0.995):\n",
        "\n",
        "    scores_window = deque(maxlen=100)\n",
        "    ''' last 100 scores for checking if the avg is more than 195 '''\n",
        "\n",
        "    eps = eps_start\n",
        "    regret = 0\n",
        "    ''' initialize epsilon '''\n",
        "\n",
        "    for i_episode in range(1, n_episodes+1):\n",
        "        state = env.reset()\n",
        "        score = 0\n",
        "        for t in range(max_t):\n",
        "            action = agent.act(state, eps)\n",
        "            next_state, reward, done, _ = env.step(action)\n",
        "            agent.step(state, action, reward, next_state, done)\n",
        "            state = next_state\n",
        "            score += reward\n",
        "            if done:\n",
        "                break\n",
        "\n",
        "        regret += -score\n",
        "        scores_window.append(score)\n",
        "\n",
        "        eps = max(eps_end, eps_decay*eps)\n",
        "        ''' decrease epsilon '''\n",
        "\n",
        "        print('\\rEpisode {}\\tAverage Score: {:.2f}'.format(i_episode, np.mean(scores_window)), end=\"\")\n",
        "\n",
        "        if i_episode % 100 == 0:\n",
        "           print('\\rEpisode {}\\tAverage Score: {:.2f}'.format(i_episode, np.mean(scores_window)))\n",
        "\n",
        "    return regret\n",
        "\n",
        "# Define a function to run the DQN algorithm multiple times and return the average regret over 5 runs\n",
        "def average_return_over_5_runs(agent):\n",
        "    total_regret = 0\n",
        "    for _ in range(1):\n",
        "        regret = dqn(agent=agent)\n",
        "        total_regret += regret\n",
        "    return total_regret / 5\n",
        "\n",
        "\n"
      ]
    },
    {
      "cell_type": "code",
      "execution_count": null,
      "metadata": {
        "colab": {
          "base_uri": "https://localhost:8080/"
        },
        "id": "FLtj2gP8uVYt",
        "outputId": "74344189-c1b0-45e4-9e78-77fdd37392f2"
      },
      "outputs": [
        {
          "name": "stdout",
          "output_type": "stream",
          "text": [
            "\u001b[34m\u001b[1mwandb\u001b[0m: Appending key for api.wandb.ai to your netrc file: /home/leon/.netrc\n"
          ]
        }
      ],
      "source": [
        "!wandb login 121b0a1a592662d289422b9d2bbeb4b36bc0c6e2"
      ]
    },
    {
      "cell_type": "code",
      "execution_count": null,
      "metadata": {
        "colab": {
          "base_uri": "https://localhost:8080/"
        },
        "id": "u82P_dFHXWS2",
        "outputId": "0a508ff0-630c-49ab-f868-72da7245314f"
      },
      "outputs": [
        {
          "name": "stderr",
          "output_type": "stream",
          "text": [
            "Failed to detect the name of this notebook, you can set it manually with the WANDB_NOTEBOOK_NAME environment variable to enable code saving.\n"
          ]
        },
        {
          "name": "stdout",
          "output_type": "stream",
          "text": [
            "Create sweep with ID: 8meafk3y\n",
            "Sweep URL: https://wandb.ai/iitm-ac-in/DQN_max_acrobat_final/sweeps/8meafk3y\n"
          ]
        },
        {
          "name": "stderr",
          "output_type": "stream",
          "text": [
            "\u001b[34m\u001b[1mwandb\u001b[0m: Agent Starting Run: sbday95y with config:\n",
            "\u001b[34m\u001b[1mwandb\u001b[0m: \tBATCH_SIZE: 207\n",
            "\u001b[34m\u001b[1mwandb\u001b[0m: \tBUFFER_SIZE: 10000\n",
            "\u001b[34m\u001b[1mwandb\u001b[0m: \tGAMMA: 0.99\n",
            "\u001b[34m\u001b[1mwandb\u001b[0m: \tLR: 0.0004478892273220252\n",
            "\u001b[34m\u001b[1mwandb\u001b[0m: \tUPDATE_EVERY: 79\n",
            "Failed to detect the name of this notebook, you can set it manually with the WANDB_NOTEBOOK_NAME environment variable to enable code saving.\n",
            "\u001b[34m\u001b[1mwandb\u001b[0m: Currently logged in as: \u001b[33med21b038\u001b[0m (\u001b[33miitm-ac-in\u001b[0m). Use \u001b[1m`wandb login --relogin`\u001b[0m to force relogin\n",
            "\u001b[34m\u001b[1mwandb\u001b[0m: \u001b[33mWARNING\u001b[0m Ignored wandb.init() arg project when running a sweep.\n",
            "/home/leon/miniconda3/envs/RL/lib/python3.10/site-packages/wandb/sdk/lib/ipython.py:77: DeprecationWarning: Importing display from IPython.core.display is deprecated since IPython 7.14, please import from IPython display\n",
            "  from IPython.core.display import HTML, display  # type: ignore\n"
          ]
        },
        {
          "data": {
            "text/html": [
              "Tracking run with wandb version 0.16.6"
            ],
            "text/plain": [
              "<IPython.core.display.HTML object>"
            ]
          },
          "metadata": {},
          "output_type": "display_data"
        },
        {
          "data": {
            "text/html": [
              "Run data is saved locally in <code>/home/leon/Downloads/DQN/wandb/run-20240406_180107-sbday95y</code>"
            ],
            "text/plain": [
              "<IPython.core.display.HTML object>"
            ]
          },
          "metadata": {},
          "output_type": "display_data"
        },
        {
          "data": {
            "text/html": [
              "Syncing run <strong><a href='https://wandb.ai/iitm-ac-in/DQN_max_acrobat_final/runs/sbday95y' target=\"_blank\">trim-sweep-1</a></strong> to <a href='https://wandb.ai/iitm-ac-in/DQN_max_acrobat_final' target=\"_blank\">Weights & Biases</a> (<a href='https://wandb.me/run' target=\"_blank\">docs</a>)<br/>Sweep page: <a href='https://wandb.ai/iitm-ac-in/DQN_max_acrobat_final/sweeps/8meafk3y' target=\"_blank\">https://wandb.ai/iitm-ac-in/DQN_max_acrobat_final/sweeps/8meafk3y</a>"
            ],
            "text/plain": [
              "<IPython.core.display.HTML object>"
            ]
          },
          "metadata": {},
          "output_type": "display_data"
        },
        {
          "data": {
            "text/html": [
              " View project at <a href='https://wandb.ai/iitm-ac-in/DQN_max_acrobat_final' target=\"_blank\">https://wandb.ai/iitm-ac-in/DQN_max_acrobat_final</a>"
            ],
            "text/plain": [
              "<IPython.core.display.HTML object>"
            ]
          },
          "metadata": {},
          "output_type": "display_data"
        },
        {
          "data": {
            "text/html": [
              " View sweep at <a href='https://wandb.ai/iitm-ac-in/DQN_max_acrobat_final/sweeps/8meafk3y' target=\"_blank\">https://wandb.ai/iitm-ac-in/DQN_max_acrobat_final/sweeps/8meafk3y</a>"
            ],
            "text/plain": [
              "<IPython.core.display.HTML object>"
            ]
          },
          "metadata": {},
          "output_type": "display_data"
        },
        {
          "data": {
            "text/html": [
              " View run at <a href='https://wandb.ai/iitm-ac-in/DQN_max_acrobat_final/runs/sbday95y' target=\"_blank\">https://wandb.ai/iitm-ac-in/DQN_max_acrobat_final/runs/sbday95y</a>"
            ],
            "text/plain": [
              "<IPython.core.display.HTML object>"
            ]
          },
          "metadata": {},
          "output_type": "display_data"
        },
        {
          "name": "stdout",
          "output_type": "stream",
          "text": [
            "Episode 100\tAverage Score: -354.02\n",
            "Episode 200\tAverage Score: -231.42\n",
            "Episode 300\tAverage Score: -130.89\n",
            "Episode 400\tAverage Score: -109.44\n",
            "Episode 500\tAverage Score: -103.66\n",
            "Episode 600\tAverage Score: -91.025\n"
          ]
        },
        {
          "name": "stderr",
          "output_type": "stream",
          "text": [
            "/home/leon/miniconda3/envs/RL/lib/python3.10/site-packages/wandb/sdk/lib/ipython.py:77: DeprecationWarning: Importing display from IPython.core.display is deprecated since IPython 7.14, please import from IPython display\n",
            "  from IPython.core.display import HTML, display  # type: ignore\n"
          ]
        },
        {
          "data": {
            "text/html": [
              "<style>\n",
              "    table.wandb td:nth-child(1) { padding: 0 10px; text-align: left ; width: auto;} td:nth-child(2) {text-align: left ; width: 100%}\n",
              "    .wandb-row { display: flex; flex-direction: row; flex-wrap: wrap; justify-content: flex-start; width: 100% }\n",
              "    .wandb-col { display: flex; flex-direction: column; flex-basis: 100%; flex: 1; padding: 10px; }\n",
              "    </style>\n",
              "<div class=\"wandb-row\"><div class=\"wandb-col\"><h3>Run history:</h3><br/><table class=\"wandb\"><tr><td>score</td><td>▁</td></tr></table><br/></div><div class=\"wandb-col\"><h3>Run summary:</h3><br/><table class=\"wandb\"><tr><td>score</td><td>102045.0</td></tr></table><br/></div></div>"
            ],
            "text/plain": [
              "<IPython.core.display.HTML object>"
            ]
          },
          "metadata": {},
          "output_type": "display_data"
        },
        {
          "data": {
            "text/html": [
              " View run <strong style=\"color:#cdcd00\">trim-sweep-1</strong> at: <a href='https://wandb.ai/iitm-ac-in/DQN_max_acrobat_final/runs/sbday95y' target=\"_blank\">https://wandb.ai/iitm-ac-in/DQN_max_acrobat_final/runs/sbday95y</a><br/> View project at: <a href='https://wandb.ai/iitm-ac-in/DQN_max_acrobat_final' target=\"_blank\">https://wandb.ai/iitm-ac-in/DQN_max_acrobat_final</a><br/>Synced 6 W&B file(s), 0 media file(s), 0 artifact file(s) and 0 other file(s)"
            ],
            "text/plain": [
              "<IPython.core.display.HTML object>"
            ]
          },
          "metadata": {},
          "output_type": "display_data"
        },
        {
          "data": {
            "text/html": [
              "Find logs at: <code>./wandb/run-20240406_180107-sbday95y/logs</code>"
            ],
            "text/plain": [
              "<IPython.core.display.HTML object>"
            ]
          },
          "metadata": {},
          "output_type": "display_data"
        },
        {
          "name": "stderr",
          "output_type": "stream",
          "text": [
            "\u001b[34m\u001b[1mwandb\u001b[0m: Agent Starting Run: jm1u9b97 with config:\n",
            "\u001b[34m\u001b[1mwandb\u001b[0m: \tBATCH_SIZE: 128\n",
            "\u001b[34m\u001b[1mwandb\u001b[0m: \tBUFFER_SIZE: 10000\n",
            "\u001b[34m\u001b[1mwandb\u001b[0m: \tGAMMA: 0.99\n",
            "\u001b[34m\u001b[1mwandb\u001b[0m: \tLR: 0.0001814819662204888\n",
            "\u001b[34m\u001b[1mwandb\u001b[0m: \tUPDATE_EVERY: 100\n",
            "Failed to detect the name of this notebook, you can set it manually with the WANDB_NOTEBOOK_NAME environment variable to enable code saving.\n",
            "\u001b[34m\u001b[1mwandb\u001b[0m: \u001b[33mWARNING\u001b[0m Ignored wandb.init() arg project when running a sweep.\n",
            "/home/leon/miniconda3/envs/RL/lib/python3.10/site-packages/wandb/sdk/lib/ipython.py:77: DeprecationWarning: Importing display from IPython.core.display is deprecated since IPython 7.14, please import from IPython display\n",
            "  from IPython.core.display import HTML, display  # type: ignore\n"
          ]
        },
        {
          "data": {
            "text/html": [
              "Tracking run with wandb version 0.16.6"
            ],
            "text/plain": [
              "<IPython.core.display.HTML object>"
            ]
          },
          "metadata": {},
          "output_type": "display_data"
        },
        {
          "data": {
            "text/html": [
              "Run data is saved locally in <code>/home/leon/Downloads/DQN/wandb/run-20240406_183013-jm1u9b97</code>"
            ],
            "text/plain": [
              "<IPython.core.display.HTML object>"
            ]
          },
          "metadata": {},
          "output_type": "display_data"
        },
        {
          "data": {
            "text/html": [
              "Syncing run <strong><a href='https://wandb.ai/iitm-ac-in/DQN_max_acrobat_final/runs/jm1u9b97' target=\"_blank\">wise-sweep-2</a></strong> to <a href='https://wandb.ai/iitm-ac-in/DQN_max_acrobat_final' target=\"_blank\">Weights & Biases</a> (<a href='https://wandb.me/run' target=\"_blank\">docs</a>)<br/>Sweep page: <a href='https://wandb.ai/iitm-ac-in/DQN_max_acrobat_final/sweeps/8meafk3y' target=\"_blank\">https://wandb.ai/iitm-ac-in/DQN_max_acrobat_final/sweeps/8meafk3y</a>"
            ],
            "text/plain": [
              "<IPython.core.display.HTML object>"
            ]
          },
          "metadata": {},
          "output_type": "display_data"
        },
        {
          "data": {
            "text/html": [
              " View project at <a href='https://wandb.ai/iitm-ac-in/DQN_max_acrobat_final' target=\"_blank\">https://wandb.ai/iitm-ac-in/DQN_max_acrobat_final</a>"
            ],
            "text/plain": [
              "<IPython.core.display.HTML object>"
            ]
          },
          "metadata": {},
          "output_type": "display_data"
        },
        {
          "data": {
            "text/html": [
              " View sweep at <a href='https://wandb.ai/iitm-ac-in/DQN_max_acrobat_final/sweeps/8meafk3y' target=\"_blank\">https://wandb.ai/iitm-ac-in/DQN_max_acrobat_final/sweeps/8meafk3y</a>"
            ],
            "text/plain": [
              "<IPython.core.display.HTML object>"
            ]
          },
          "metadata": {},
          "output_type": "display_data"
        },
        {
          "data": {
            "text/html": [
              " View run at <a href='https://wandb.ai/iitm-ac-in/DQN_max_acrobat_final/runs/jm1u9b97' target=\"_blank\">https://wandb.ai/iitm-ac-in/DQN_max_acrobat_final/runs/jm1u9b97</a>"
            ],
            "text/plain": [
              "<IPython.core.display.HTML object>"
            ]
          },
          "metadata": {},
          "output_type": "display_data"
        },
        {
          "name": "stdout",
          "output_type": "stream",
          "text": [
            "Episode 100\tAverage Score: -328.56\n",
            "Episode 200\tAverage Score: -142.93\n",
            "Episode 300\tAverage Score: -119.51\n",
            "Episode 400\tAverage Score: -99.641\n",
            "Episode 500\tAverage Score: -96.183\n",
            "Episode 600\tAverage Score: -93.47\n"
          ]
        },
        {
          "data": {
            "text/html": [
              "<style>\n",
              "    table.wandb td:nth-child(1) { padding: 0 10px; text-align: left ; width: auto;} td:nth-child(2) {text-align: left ; width: 100%}\n",
              "    .wandb-row { display: flex; flex-direction: row; flex-wrap: wrap; justify-content: flex-start; width: 100% }\n",
              "    .wandb-col { display: flex; flex-direction: column; flex-basis: 100%; flex: 1; padding: 10px; }\n",
              "    </style>\n",
              "<div class=\"wandb-row\"><div class=\"wandb-col\"><h3>Run history:</h3><br/><table class=\"wandb\"><tr><td>score</td><td>▁</td></tr></table><br/></div><div class=\"wandb-col\"><h3>Run summary:</h3><br/><table class=\"wandb\"><tr><td>score</td><td>88029.0</td></tr></table><br/></div></div>"
            ],
            "text/plain": [
              "<IPython.core.display.HTML object>"
            ]
          },
          "metadata": {},
          "output_type": "display_data"
        },
        {
          "data": {
            "text/html": [
              " View run <strong style=\"color:#cdcd00\">wise-sweep-2</strong> at: <a href='https://wandb.ai/iitm-ac-in/DQN_max_acrobat_final/runs/jm1u9b97' target=\"_blank\">https://wandb.ai/iitm-ac-in/DQN_max_acrobat_final/runs/jm1u9b97</a><br/> View project at: <a href='https://wandb.ai/iitm-ac-in/DQN_max_acrobat_final' target=\"_blank\">https://wandb.ai/iitm-ac-in/DQN_max_acrobat_final</a><br/>Synced 6 W&B file(s), 0 media file(s), 0 artifact file(s) and 0 other file(s)"
            ],
            "text/plain": [
              "<IPython.core.display.HTML object>"
            ]
          },
          "metadata": {},
          "output_type": "display_data"
        },
        {
          "data": {
            "text/html": [
              "Find logs at: <code>./wandb/run-20240406_183013-jm1u9b97/logs</code>"
            ],
            "text/plain": [
              "<IPython.core.display.HTML object>"
            ]
          },
          "metadata": {},
          "output_type": "display_data"
        },
        {
          "name": "stderr",
          "output_type": "stream",
          "text": [
            "\u001b[34m\u001b[1mwandb\u001b[0m: Agent Starting Run: zitsdez3 with config:\n",
            "\u001b[34m\u001b[1mwandb\u001b[0m: \tBATCH_SIZE: 180\n",
            "\u001b[34m\u001b[1mwandb\u001b[0m: \tBUFFER_SIZE: 10000\n",
            "\u001b[34m\u001b[1mwandb\u001b[0m: \tGAMMA: 0.99\n",
            "\u001b[34m\u001b[1mwandb\u001b[0m: \tLR: 0.0007880856074323002\n",
            "\u001b[34m\u001b[1mwandb\u001b[0m: \tUPDATE_EVERY: 37\n",
            "Failed to detect the name of this notebook, you can set it manually with the WANDB_NOTEBOOK_NAME environment variable to enable code saving.\n",
            "\u001b[34m\u001b[1mwandb\u001b[0m: \u001b[33mWARNING\u001b[0m Ignored wandb.init() arg project when running a sweep.\n",
            "/home/leon/miniconda3/envs/RL/lib/python3.10/site-packages/wandb/sdk/lib/ipython.py:77: DeprecationWarning: Importing display from IPython.core.display is deprecated since IPython 7.14, please import from IPython display\n",
            "  from IPython.core.display import HTML, display  # type: ignore\n"
          ]
        },
        {
          "data": {
            "text/html": [
              "Tracking run with wandb version 0.16.6"
            ],
            "text/plain": [
              "<IPython.core.display.HTML object>"
            ]
          },
          "metadata": {},
          "output_type": "display_data"
        },
        {
          "data": {
            "text/html": [
              "Run data is saved locally in <code>/home/leon/Downloads/DQN/wandb/run-20240406_185147-zitsdez3</code>"
            ],
            "text/plain": [
              "<IPython.core.display.HTML object>"
            ]
          },
          "metadata": {},
          "output_type": "display_data"
        },
        {
          "data": {
            "text/html": [
              "Syncing run <strong><a href='https://wandb.ai/iitm-ac-in/DQN_max_acrobat_final/runs/zitsdez3' target=\"_blank\">dry-sweep-3</a></strong> to <a href='https://wandb.ai/iitm-ac-in/DQN_max_acrobat_final' target=\"_blank\">Weights & Biases</a> (<a href='https://wandb.me/run' target=\"_blank\">docs</a>)<br/>Sweep page: <a href='https://wandb.ai/iitm-ac-in/DQN_max_acrobat_final/sweeps/8meafk3y' target=\"_blank\">https://wandb.ai/iitm-ac-in/DQN_max_acrobat_final/sweeps/8meafk3y</a>"
            ],
            "text/plain": [
              "<IPython.core.display.HTML object>"
            ]
          },
          "metadata": {},
          "output_type": "display_data"
        },
        {
          "data": {
            "text/html": [
              " View project at <a href='https://wandb.ai/iitm-ac-in/DQN_max_acrobat_final' target=\"_blank\">https://wandb.ai/iitm-ac-in/DQN_max_acrobat_final</a>"
            ],
            "text/plain": [
              "<IPython.core.display.HTML object>"
            ]
          },
          "metadata": {},
          "output_type": "display_data"
        },
        {
          "data": {
            "text/html": [
              " View sweep at <a href='https://wandb.ai/iitm-ac-in/DQN_max_acrobat_final/sweeps/8meafk3y' target=\"_blank\">https://wandb.ai/iitm-ac-in/DQN_max_acrobat_final/sweeps/8meafk3y</a>"
            ],
            "text/plain": [
              "<IPython.core.display.HTML object>"
            ]
          },
          "metadata": {},
          "output_type": "display_data"
        },
        {
          "data": {
            "text/html": [
              " View run at <a href='https://wandb.ai/iitm-ac-in/DQN_max_acrobat_final/runs/zitsdez3' target=\"_blank\">https://wandb.ai/iitm-ac-in/DQN_max_acrobat_final/runs/zitsdez3</a>"
            ],
            "text/plain": [
              "<IPython.core.display.HTML object>"
            ]
          },
          "metadata": {},
          "output_type": "display_data"
        },
        {
          "name": "stdout",
          "output_type": "stream",
          "text": [
            "Episode 100\tAverage Score: -445.72\n",
            "Episode 200\tAverage Score: -330.89\n",
            "Episode 300\tAverage Score: -169.88\n",
            "Episode 400\tAverage Score: -126.83\n",
            "Episode 500\tAverage Score: -113.22\n",
            "Episode 600\tAverage Score: -100.40\n"
          ]
        },
        {
          "data": {
            "text/html": [
              "<style>\n",
              "    table.wandb td:nth-child(1) { padding: 0 10px; text-align: left ; width: auto;} td:nth-child(2) {text-align: left ; width: 100%}\n",
              "    .wandb-row { display: flex; flex-direction: row; flex-wrap: wrap; justify-content: flex-start; width: 100% }\n",
              "    .wandb-col { display: flex; flex-direction: column; flex-basis: 100%; flex: 1; padding: 10px; }\n",
              "    </style>\n",
              "<div class=\"wandb-row\"><div class=\"wandb-col\"><h3>Run history:</h3><br/><table class=\"wandb\"><tr><td>score</td><td>▁</td></tr></table><br/></div><div class=\"wandb-col\"><h3>Run summary:</h3><br/><table class=\"wandb\"><tr><td>score</td><td>128694.0</td></tr></table><br/></div></div>"
            ],
            "text/plain": [
              "<IPython.core.display.HTML object>"
            ]
          },
          "metadata": {},
          "output_type": "display_data"
        },
        {
          "data": {
            "text/html": [
              " View run <strong style=\"color:#cdcd00\">dry-sweep-3</strong> at: <a href='https://wandb.ai/iitm-ac-in/DQN_max_acrobat_final/runs/zitsdez3' target=\"_blank\">https://wandb.ai/iitm-ac-in/DQN_max_acrobat_final/runs/zitsdez3</a><br/> View project at: <a href='https://wandb.ai/iitm-ac-in/DQN_max_acrobat_final' target=\"_blank\">https://wandb.ai/iitm-ac-in/DQN_max_acrobat_final</a><br/>Synced 6 W&B file(s), 0 media file(s), 0 artifact file(s) and 0 other file(s)"
            ],
            "text/plain": [
              "<IPython.core.display.HTML object>"
            ]
          },
          "metadata": {},
          "output_type": "display_data"
        },
        {
          "data": {
            "text/html": [
              "Find logs at: <code>./wandb/run-20240406_185147-zitsdez3/logs</code>"
            ],
            "text/plain": [
              "<IPython.core.display.HTML object>"
            ]
          },
          "metadata": {},
          "output_type": "display_data"
        },
        {
          "name": "stderr",
          "output_type": "stream",
          "text": [
            "\u001b[34m\u001b[1mwandb\u001b[0m: Agent Starting Run: rvp5zii1 with config:\n",
            "\u001b[34m\u001b[1mwandb\u001b[0m: \tBATCH_SIZE: 132\n",
            "\u001b[34m\u001b[1mwandb\u001b[0m: \tBUFFER_SIZE: 10000\n",
            "\u001b[34m\u001b[1mwandb\u001b[0m: \tGAMMA: 0.99\n",
            "\u001b[34m\u001b[1mwandb\u001b[0m: \tLR: 0.00024152865780333388\n",
            "\u001b[34m\u001b[1mwandb\u001b[0m: \tUPDATE_EVERY: 100\n",
            "Failed to detect the name of this notebook, you can set it manually with the WANDB_NOTEBOOK_NAME environment variable to enable code saving.\n",
            "\u001b[34m\u001b[1mwandb\u001b[0m: \u001b[33mWARNING\u001b[0m Ignored wandb.init() arg project when running a sweep.\n",
            "/home/leon/miniconda3/envs/RL/lib/python3.10/site-packages/wandb/sdk/lib/ipython.py:77: DeprecationWarning: Importing display from IPython.core.display is deprecated since IPython 7.14, please import from IPython display\n",
            "  from IPython.core.display import HTML, display  # type: ignore\n"
          ]
        },
        {
          "data": {
            "text/html": [
              "Tracking run with wandb version 0.16.6"
            ],
            "text/plain": [
              "<IPython.core.display.HTML object>"
            ]
          },
          "metadata": {},
          "output_type": "display_data"
        },
        {
          "data": {
            "text/html": [
              "Run data is saved locally in <code>/home/leon/Downloads/DQN/wandb/run-20240406_193032-rvp5zii1</code>"
            ],
            "text/plain": [
              "<IPython.core.display.HTML object>"
            ]
          },
          "metadata": {},
          "output_type": "display_data"
        },
        {
          "data": {
            "text/html": [
              "Syncing run <strong><a href='https://wandb.ai/iitm-ac-in/DQN_max_acrobat_final/runs/rvp5zii1' target=\"_blank\">confused-sweep-4</a></strong> to <a href='https://wandb.ai/iitm-ac-in/DQN_max_acrobat_final' target=\"_blank\">Weights & Biases</a> (<a href='https://wandb.me/run' target=\"_blank\">docs</a>)<br/>Sweep page: <a href='https://wandb.ai/iitm-ac-in/DQN_max_acrobat_final/sweeps/8meafk3y' target=\"_blank\">https://wandb.ai/iitm-ac-in/DQN_max_acrobat_final/sweeps/8meafk3y</a>"
            ],
            "text/plain": [
              "<IPython.core.display.HTML object>"
            ]
          },
          "metadata": {},
          "output_type": "display_data"
        },
        {
          "data": {
            "text/html": [
              " View project at <a href='https://wandb.ai/iitm-ac-in/DQN_max_acrobat_final' target=\"_blank\">https://wandb.ai/iitm-ac-in/DQN_max_acrobat_final</a>"
            ],
            "text/plain": [
              "<IPython.core.display.HTML object>"
            ]
          },
          "metadata": {},
          "output_type": "display_data"
        },
        {
          "data": {
            "text/html": [
              " View sweep at <a href='https://wandb.ai/iitm-ac-in/DQN_max_acrobat_final/sweeps/8meafk3y' target=\"_blank\">https://wandb.ai/iitm-ac-in/DQN_max_acrobat_final/sweeps/8meafk3y</a>"
            ],
            "text/plain": [
              "<IPython.core.display.HTML object>"
            ]
          },
          "metadata": {},
          "output_type": "display_data"
        },
        {
          "data": {
            "text/html": [
              " View run at <a href='https://wandb.ai/iitm-ac-in/DQN_max_acrobat_final/runs/rvp5zii1' target=\"_blank\">https://wandb.ai/iitm-ac-in/DQN_max_acrobat_final/runs/rvp5zii1</a>"
            ],
            "text/plain": [
              "<IPython.core.display.HTML object>"
            ]
          },
          "metadata": {},
          "output_type": "display_data"
        },
        {
          "name": "stdout",
          "output_type": "stream",
          "text": [
            "Episode 100\tAverage Score: -317.36\n",
            "Episode 200\tAverage Score: -152.60\n",
            "Episode 300\tAverage Score: -114.39\n",
            "Episode 400\tAverage Score: -97.941\n",
            "Episode 500\tAverage Score: -92.56\n",
            "Episode 600\tAverage Score: -90.90\n"
          ]
        },
        {
          "data": {
            "text/html": [
              "<style>\n",
              "    table.wandb td:nth-child(1) { padding: 0 10px; text-align: left ; width: auto;} td:nth-child(2) {text-align: left ; width: 100%}\n",
              "    .wandb-row { display: flex; flex-direction: row; flex-wrap: wrap; justify-content: flex-start; width: 100% }\n",
              "    .wandb-col { display: flex; flex-direction: column; flex-basis: 100%; flex: 1; padding: 10px; }\n",
              "    </style>\n",
              "<div class=\"wandb-row\"><div class=\"wandb-col\"><h3>Run history:</h3><br/><table class=\"wandb\"><tr><td>score</td><td>▁</td></tr></table><br/></div><div class=\"wandb-col\"><h3>Run summary:</h3><br/><table class=\"wandb\"><tr><td>score</td><td>86575.0</td></tr></table><br/></div></div>"
            ],
            "text/plain": [
              "<IPython.core.display.HTML object>"
            ]
          },
          "metadata": {},
          "output_type": "display_data"
        },
        {
          "data": {
            "text/html": [
              " View run <strong style=\"color:#cdcd00\">confused-sweep-4</strong> at: <a href='https://wandb.ai/iitm-ac-in/DQN_max_acrobat_final/runs/rvp5zii1' target=\"_blank\">https://wandb.ai/iitm-ac-in/DQN_max_acrobat_final/runs/rvp5zii1</a><br/> View project at: <a href='https://wandb.ai/iitm-ac-in/DQN_max_acrobat_final' target=\"_blank\">https://wandb.ai/iitm-ac-in/DQN_max_acrobat_final</a><br/>Synced 6 W&B file(s), 0 media file(s), 0 artifact file(s) and 0 other file(s)"
            ],
            "text/plain": [
              "<IPython.core.display.HTML object>"
            ]
          },
          "metadata": {},
          "output_type": "display_data"
        },
        {
          "data": {
            "text/html": [
              "Find logs at: <code>./wandb/run-20240406_193032-rvp5zii1/logs</code>"
            ],
            "text/plain": [
              "<IPython.core.display.HTML object>"
            ]
          },
          "metadata": {},
          "output_type": "display_data"
        },
        {
          "name": "stderr",
          "output_type": "stream",
          "text": [
            "\u001b[34m\u001b[1mwandb\u001b[0m: Agent Starting Run: 4bt3qo7w with config:\n",
            "\u001b[34m\u001b[1mwandb\u001b[0m: \tBATCH_SIZE: 69\n",
            "\u001b[34m\u001b[1mwandb\u001b[0m: \tBUFFER_SIZE: 10000\n",
            "\u001b[34m\u001b[1mwandb\u001b[0m: \tGAMMA: 0.99\n",
            "\u001b[34m\u001b[1mwandb\u001b[0m: \tLR: 0.00019885816182225495\n",
            "\u001b[34m\u001b[1mwandb\u001b[0m: \tUPDATE_EVERY: 95\n",
            "Failed to detect the name of this notebook, you can set it manually with the WANDB_NOTEBOOK_NAME environment variable to enable code saving.\n",
            "\u001b[34m\u001b[1mwandb\u001b[0m: \u001b[33mWARNING\u001b[0m Ignored wandb.init() arg project when running a sweep.\n",
            "/home/leon/miniconda3/envs/RL/lib/python3.10/site-packages/wandb/sdk/lib/ipython.py:77: DeprecationWarning: Importing display from IPython.core.display is deprecated since IPython 7.14, please import from IPython display\n",
            "  from IPython.core.display import HTML, display  # type: ignore\n"
          ]
        },
        {
          "data": {
            "text/html": [
              "Tracking run with wandb version 0.16.6"
            ],
            "text/plain": [
              "<IPython.core.display.HTML object>"
            ]
          },
          "metadata": {},
          "output_type": "display_data"
        },
        {
          "data": {
            "text/html": [
              "Run data is saved locally in <code>/home/leon/Downloads/DQN/wandb/run-20240406_195351-4bt3qo7w</code>"
            ],
            "text/plain": [
              "<IPython.core.display.HTML object>"
            ]
          },
          "metadata": {},
          "output_type": "display_data"
        },
        {
          "data": {
            "text/html": [
              "Syncing run <strong><a href='https://wandb.ai/iitm-ac-in/DQN_max_acrobat_final/runs/4bt3qo7w' target=\"_blank\">electric-sweep-5</a></strong> to <a href='https://wandb.ai/iitm-ac-in/DQN_max_acrobat_final' target=\"_blank\">Weights & Biases</a> (<a href='https://wandb.me/run' target=\"_blank\">docs</a>)<br/>Sweep page: <a href='https://wandb.ai/iitm-ac-in/DQN_max_acrobat_final/sweeps/8meafk3y' target=\"_blank\">https://wandb.ai/iitm-ac-in/DQN_max_acrobat_final/sweeps/8meafk3y</a>"
            ],
            "text/plain": [
              "<IPython.core.display.HTML object>"
            ]
          },
          "metadata": {},
          "output_type": "display_data"
        },
        {
          "data": {
            "text/html": [
              " View project at <a href='https://wandb.ai/iitm-ac-in/DQN_max_acrobat_final' target=\"_blank\">https://wandb.ai/iitm-ac-in/DQN_max_acrobat_final</a>"
            ],
            "text/plain": [
              "<IPython.core.display.HTML object>"
            ]
          },
          "metadata": {},
          "output_type": "display_data"
        },
        {
          "data": {
            "text/html": [
              " View sweep at <a href='https://wandb.ai/iitm-ac-in/DQN_max_acrobat_final/sweeps/8meafk3y' target=\"_blank\">https://wandb.ai/iitm-ac-in/DQN_max_acrobat_final/sweeps/8meafk3y</a>"
            ],
            "text/plain": [
              "<IPython.core.display.HTML object>"
            ]
          },
          "metadata": {},
          "output_type": "display_data"
        },
        {
          "data": {
            "text/html": [
              " View run at <a href='https://wandb.ai/iitm-ac-in/DQN_max_acrobat_final/runs/4bt3qo7w' target=\"_blank\">https://wandb.ai/iitm-ac-in/DQN_max_acrobat_final/runs/4bt3qo7w</a>"
            ],
            "text/plain": [
              "<IPython.core.display.HTML object>"
            ]
          },
          "metadata": {},
          "output_type": "display_data"
        },
        {
          "name": "stdout",
          "output_type": "stream",
          "text": [
            "Episode 100\tAverage Score: -328.67\n",
            "Episode 200\tAverage Score: -152.46\n",
            "Episode 300\tAverage Score: -117.48\n",
            "Episode 400\tAverage Score: -102.57\n",
            "Episode 500\tAverage Score: -94.545\n",
            "Episode 600\tAverage Score: -92.25\n"
          ]
        },
        {
          "data": {
            "text/html": [
              "<style>\n",
              "    table.wandb td:nth-child(1) { padding: 0 10px; text-align: left ; width: auto;} td:nth-child(2) {text-align: left ; width: 100%}\n",
              "    .wandb-row { display: flex; flex-direction: row; flex-wrap: wrap; justify-content: flex-start; width: 100% }\n",
              "    .wandb-col { display: flex; flex-direction: column; flex-basis: 100%; flex: 1; padding: 10px; }\n",
              "    </style>\n",
              "<div class=\"wandb-row\"><div class=\"wandb-col\"><h3>Run history:</h3><br/><table class=\"wandb\"><tr><td>score</td><td>▁</td></tr></table><br/></div><div class=\"wandb-col\"><h3>Run summary:</h3><br/><table class=\"wandb\"><tr><td>score</td><td>88797.0</td></tr></table><br/></div></div>"
            ],
            "text/plain": [
              "<IPython.core.display.HTML object>"
            ]
          },
          "metadata": {},
          "output_type": "display_data"
        },
        {
          "data": {
            "text/html": [
              " View run <strong style=\"color:#cdcd00\">electric-sweep-5</strong> at: <a href='https://wandb.ai/iitm-ac-in/DQN_max_acrobat_final/runs/4bt3qo7w' target=\"_blank\">https://wandb.ai/iitm-ac-in/DQN_max_acrobat_final/runs/4bt3qo7w</a><br/> View project at: <a href='https://wandb.ai/iitm-ac-in/DQN_max_acrobat_final' target=\"_blank\">https://wandb.ai/iitm-ac-in/DQN_max_acrobat_final</a><br/>Synced 6 W&B file(s), 0 media file(s), 0 artifact file(s) and 0 other file(s)"
            ],
            "text/plain": [
              "<IPython.core.display.HTML object>"
            ]
          },
          "metadata": {},
          "output_type": "display_data"
        },
        {
          "data": {
            "text/html": [
              "Find logs at: <code>./wandb/run-20240406_195351-4bt3qo7w/logs</code>"
            ],
            "text/plain": [
              "<IPython.core.display.HTML object>"
            ]
          },
          "metadata": {},
          "output_type": "display_data"
        },
        {
          "name": "stderr",
          "output_type": "stream",
          "text": [
            "\u001b[34m\u001b[1mwandb\u001b[0m: Agent Starting Run: ey3txsn9 with config:\n",
            "\u001b[34m\u001b[1mwandb\u001b[0m: \tBATCH_SIZE: 82\n",
            "\u001b[34m\u001b[1mwandb\u001b[0m: \tBUFFER_SIZE: 10000\n",
            "\u001b[34m\u001b[1mwandb\u001b[0m: \tGAMMA: 0.99\n",
            "\u001b[34m\u001b[1mwandb\u001b[0m: \tLR: 0.0002696903401162998\n",
            "\u001b[34m\u001b[1mwandb\u001b[0m: \tUPDATE_EVERY: 99\n",
            "Failed to detect the name of this notebook, you can set it manually with the WANDB_NOTEBOOK_NAME environment variable to enable code saving.\n",
            "\u001b[34m\u001b[1mwandb\u001b[0m: \u001b[33mWARNING\u001b[0m Ignored wandb.init() arg project when running a sweep.\n",
            "/home/leon/miniconda3/envs/RL/lib/python3.10/site-packages/wandb/sdk/lib/ipython.py:77: DeprecationWarning: Importing display from IPython.core.display is deprecated since IPython 7.14, please import from IPython display\n",
            "  from IPython.core.display import HTML, display  # type: ignore\n"
          ]
        },
        {
          "data": {
            "text/html": [
              "Tracking run with wandb version 0.16.6"
            ],
            "text/plain": [
              "<IPython.core.display.HTML object>"
            ]
          },
          "metadata": {},
          "output_type": "display_data"
        },
        {
          "data": {
            "text/html": [
              "Run data is saved locally in <code>/home/leon/Downloads/DQN/wandb/run-20240406_201301-ey3txsn9</code>"
            ],
            "text/plain": [
              "<IPython.core.display.HTML object>"
            ]
          },
          "metadata": {},
          "output_type": "display_data"
        },
        {
          "data": {
            "text/html": [
              "Syncing run <strong><a href='https://wandb.ai/iitm-ac-in/DQN_max_acrobat_final/runs/ey3txsn9' target=\"_blank\">classic-sweep-6</a></strong> to <a href='https://wandb.ai/iitm-ac-in/DQN_max_acrobat_final' target=\"_blank\">Weights & Biases</a> (<a href='https://wandb.me/run' target=\"_blank\">docs</a>)<br/>Sweep page: <a href='https://wandb.ai/iitm-ac-in/DQN_max_acrobat_final/sweeps/8meafk3y' target=\"_blank\">https://wandb.ai/iitm-ac-in/DQN_max_acrobat_final/sweeps/8meafk3y</a>"
            ],
            "text/plain": [
              "<IPython.core.display.HTML object>"
            ]
          },
          "metadata": {},
          "output_type": "display_data"
        },
        {
          "data": {
            "text/html": [
              " View project at <a href='https://wandb.ai/iitm-ac-in/DQN_max_acrobat_final' target=\"_blank\">https://wandb.ai/iitm-ac-in/DQN_max_acrobat_final</a>"
            ],
            "text/plain": [
              "<IPython.core.display.HTML object>"
            ]
          },
          "metadata": {},
          "output_type": "display_data"
        },
        {
          "data": {
            "text/html": [
              " View sweep at <a href='https://wandb.ai/iitm-ac-in/DQN_max_acrobat_final/sweeps/8meafk3y' target=\"_blank\">https://wandb.ai/iitm-ac-in/DQN_max_acrobat_final/sweeps/8meafk3y</a>"
            ],
            "text/plain": [
              "<IPython.core.display.HTML object>"
            ]
          },
          "metadata": {},
          "output_type": "display_data"
        },
        {
          "data": {
            "text/html": [
              " View run at <a href='https://wandb.ai/iitm-ac-in/DQN_max_acrobat_final/runs/ey3txsn9' target=\"_blank\">https://wandb.ai/iitm-ac-in/DQN_max_acrobat_final/runs/ey3txsn9</a>"
            ],
            "text/plain": [
              "<IPython.core.display.HTML object>"
            ]
          },
          "metadata": {},
          "output_type": "display_data"
        },
        {
          "name": "stdout",
          "output_type": "stream",
          "text": [
            "Episode 100\tAverage Score: -339.86\n",
            "Episode 200\tAverage Score: -162.07\n",
            "Episode 300\tAverage Score: -113.39\n",
            "Episode 400\tAverage Score: -104.79\n",
            "Episode 500\tAverage Score: -92.380\n",
            "Episode 600\tAverage Score: -89.51\n"
          ]
        },
        {
          "data": {
            "text/html": [
              "<style>\n",
              "    table.wandb td:nth-child(1) { padding: 0 10px; text-align: left ; width: auto;} td:nth-child(2) {text-align: left ; width: 100%}\n",
              "    .wandb-row { display: flex; flex-direction: row; flex-wrap: wrap; justify-content: flex-start; width: 100% }\n",
              "    .wandb-col { display: flex; flex-direction: column; flex-basis: 100%; flex: 1; padding: 10px; }\n",
              "    </style>\n",
              "<div class=\"wandb-row\"><div class=\"wandb-col\"><h3>Run history:</h3><br/><table class=\"wandb\"><tr><td>score</td><td>▁</td></tr></table><br/></div><div class=\"wandb-col\"><h3>Run summary:</h3><br/><table class=\"wandb\"><tr><td>score</td><td>90200.0</td></tr></table><br/></div></div>"
            ],
            "text/plain": [
              "<IPython.core.display.HTML object>"
            ]
          },
          "metadata": {},
          "output_type": "display_data"
        },
        {
          "data": {
            "text/html": [
              " View run <strong style=\"color:#cdcd00\">classic-sweep-6</strong> at: <a href='https://wandb.ai/iitm-ac-in/DQN_max_acrobat_final/runs/ey3txsn9' target=\"_blank\">https://wandb.ai/iitm-ac-in/DQN_max_acrobat_final/runs/ey3txsn9</a><br/> View project at: <a href='https://wandb.ai/iitm-ac-in/DQN_max_acrobat_final' target=\"_blank\">https://wandb.ai/iitm-ac-in/DQN_max_acrobat_final</a><br/>Synced 6 W&B file(s), 0 media file(s), 0 artifact file(s) and 0 other file(s)"
            ],
            "text/plain": [
              "<IPython.core.display.HTML object>"
            ]
          },
          "metadata": {},
          "output_type": "display_data"
        },
        {
          "data": {
            "text/html": [
              "Find logs at: <code>./wandb/run-20240406_201301-ey3txsn9/logs</code>"
            ],
            "text/plain": [
              "<IPython.core.display.HTML object>"
            ]
          },
          "metadata": {},
          "output_type": "display_data"
        },
        {
          "name": "stderr",
          "output_type": "stream",
          "text": [
            "\u001b[34m\u001b[1mwandb\u001b[0m: Sweep Agent: Waiting for job.\n",
            "\u001b[34m\u001b[1mwandb\u001b[0m: Job received.\n",
            "\u001b[34m\u001b[1mwandb\u001b[0m: Agent Starting Run: kew73ybv with config:\n",
            "\u001b[34m\u001b[1mwandb\u001b[0m: \tBATCH_SIZE: 52\n",
            "\u001b[34m\u001b[1mwandb\u001b[0m: \tBUFFER_SIZE: 1000000\n",
            "\u001b[34m\u001b[1mwandb\u001b[0m: \tGAMMA: 0.99\n",
            "\u001b[34m\u001b[1mwandb\u001b[0m: \tLR: 1.2826908049107016e-05\n",
            "\u001b[34m\u001b[1mwandb\u001b[0m: \tUPDATE_EVERY: 99\n",
            "Failed to detect the name of this notebook, you can set it manually with the WANDB_NOTEBOOK_NAME environment variable to enable code saving.\n",
            "\u001b[34m\u001b[1mwandb\u001b[0m: \u001b[33mWARNING\u001b[0m Ignored wandb.init() arg project when running a sweep.\n",
            "/home/leon/miniconda3/envs/RL/lib/python3.10/site-packages/wandb/sdk/lib/ipython.py:77: DeprecationWarning: Importing display from IPython.core.display is deprecated since IPython 7.14, please import from IPython display\n",
            "  from IPython.core.display import HTML, display  # type: ignore\n"
          ]
        },
        {
          "data": {
            "text/html": [
              "Tracking run with wandb version 0.16.6"
            ],
            "text/plain": [
              "<IPython.core.display.HTML object>"
            ]
          },
          "metadata": {},
          "output_type": "display_data"
        },
        {
          "data": {
            "text/html": [
              "Run data is saved locally in <code>/home/leon/Downloads/DQN/wandb/run-20240406_203259-kew73ybv</code>"
            ],
            "text/plain": [
              "<IPython.core.display.HTML object>"
            ]
          },
          "metadata": {},
          "output_type": "display_data"
        },
        {
          "data": {
            "text/html": [
              "Syncing run <strong><a href='https://wandb.ai/iitm-ac-in/DQN_max_acrobat_final/runs/kew73ybv' target=\"_blank\">drawn-sweep-7</a></strong> to <a href='https://wandb.ai/iitm-ac-in/DQN_max_acrobat_final' target=\"_blank\">Weights & Biases</a> (<a href='https://wandb.me/run' target=\"_blank\">docs</a>)<br/>Sweep page: <a href='https://wandb.ai/iitm-ac-in/DQN_max_acrobat_final/sweeps/8meafk3y' target=\"_blank\">https://wandb.ai/iitm-ac-in/DQN_max_acrobat_final/sweeps/8meafk3y</a>"
            ],
            "text/plain": [
              "<IPython.core.display.HTML object>"
            ]
          },
          "metadata": {},
          "output_type": "display_data"
        },
        {
          "data": {
            "text/html": [
              " View project at <a href='https://wandb.ai/iitm-ac-in/DQN_max_acrobat_final' target=\"_blank\">https://wandb.ai/iitm-ac-in/DQN_max_acrobat_final</a>"
            ],
            "text/plain": [
              "<IPython.core.display.HTML object>"
            ]
          },
          "metadata": {},
          "output_type": "display_data"
        },
        {
          "data": {
            "text/html": [
              " View sweep at <a href='https://wandb.ai/iitm-ac-in/DQN_max_acrobat_final/sweeps/8meafk3y' target=\"_blank\">https://wandb.ai/iitm-ac-in/DQN_max_acrobat_final/sweeps/8meafk3y</a>"
            ],
            "text/plain": [
              "<IPython.core.display.HTML object>"
            ]
          },
          "metadata": {},
          "output_type": "display_data"
        },
        {
          "data": {
            "text/html": [
              " View run at <a href='https://wandb.ai/iitm-ac-in/DQN_max_acrobat_final/runs/kew73ybv' target=\"_blank\">https://wandb.ai/iitm-ac-in/DQN_max_acrobat_final/runs/kew73ybv</a>"
            ],
            "text/plain": [
              "<IPython.core.display.HTML object>"
            ]
          },
          "metadata": {},
          "output_type": "display_data"
        },
        {
          "name": "stdout",
          "output_type": "stream",
          "text": [
            "Episode 100\tAverage Score: -368.66\n",
            "Episode 200\tAverage Score: -242.87\n",
            "Episode 300\tAverage Score: -142.98\n",
            "Episode 400\tAverage Score: -106.83\n",
            "Episode 500\tAverage Score: -99.606\n",
            "Episode 600\tAverage Score: -98.289\n"
          ]
        },
        {
          "data": {
            "text/html": [
              "<style>\n",
              "    table.wandb td:nth-child(1) { padding: 0 10px; text-align: left ; width: auto;} td:nth-child(2) {text-align: left ; width: 100%}\n",
              "    .wandb-row { display: flex; flex-direction: row; flex-wrap: wrap; justify-content: flex-start; width: 100% }\n",
              "    .wandb-col { display: flex; flex-direction: column; flex-basis: 100%; flex: 1; padding: 10px; }\n",
              "    </style>\n",
              "<div class=\"wandb-row\"><div class=\"wandb-col\"><h3>Run history:</h3><br/><table class=\"wandb\"><tr><td>score</td><td>▁</td></tr></table><br/></div><div class=\"wandb-col\"><h3>Run summary:</h3><br/><table class=\"wandb\"><tr><td>score</td><td>105922.0</td></tr></table><br/></div></div>"
            ],
            "text/plain": [
              "<IPython.core.display.HTML object>"
            ]
          },
          "metadata": {},
          "output_type": "display_data"
        },
        {
          "data": {
            "text/html": [
              " View run <strong style=\"color:#cdcd00\">drawn-sweep-7</strong> at: <a href='https://wandb.ai/iitm-ac-in/DQN_max_acrobat_final/runs/kew73ybv' target=\"_blank\">https://wandb.ai/iitm-ac-in/DQN_max_acrobat_final/runs/kew73ybv</a><br/> View project at: <a href='https://wandb.ai/iitm-ac-in/DQN_max_acrobat_final' target=\"_blank\">https://wandb.ai/iitm-ac-in/DQN_max_acrobat_final</a><br/>Synced 6 W&B file(s), 0 media file(s), 0 artifact file(s) and 0 other file(s)"
            ],
            "text/plain": [
              "<IPython.core.display.HTML object>"
            ]
          },
          "metadata": {},
          "output_type": "display_data"
        },
        {
          "data": {
            "text/html": [
              "Find logs at: <code>./wandb/run-20240406_203259-kew73ybv/logs</code>"
            ],
            "text/plain": [
              "<IPython.core.display.HTML object>"
            ]
          },
          "metadata": {},
          "output_type": "display_data"
        },
        {
          "name": "stderr",
          "output_type": "stream",
          "text": [
            "\u001b[34m\u001b[1mwandb\u001b[0m: Agent Starting Run: k9jgagt3 with config:\n",
            "\u001b[34m\u001b[1mwandb\u001b[0m: \tBATCH_SIZE: 140\n",
            "\u001b[34m\u001b[1mwandb\u001b[0m: \tBUFFER_SIZE: 10000\n",
            "\u001b[34m\u001b[1mwandb\u001b[0m: \tGAMMA: 0.99\n",
            "\u001b[34m\u001b[1mwandb\u001b[0m: \tLR: 0.00012432737628539022\n",
            "\u001b[34m\u001b[1mwandb\u001b[0m: \tUPDATE_EVERY: 91\n",
            "Failed to detect the name of this notebook, you can set it manually with the WANDB_NOTEBOOK_NAME environment variable to enable code saving.\n",
            "\u001b[34m\u001b[1mwandb\u001b[0m: \u001b[33mWARNING\u001b[0m Ignored wandb.init() arg project when running a sweep.\n",
            "/home/leon/miniconda3/envs/RL/lib/python3.10/site-packages/wandb/sdk/lib/ipython.py:77: DeprecationWarning: Importing display from IPython.core.display is deprecated since IPython 7.14, please import from IPython display\n",
            "  from IPython.core.display import HTML, display  # type: ignore\n"
          ]
        },
        {
          "data": {
            "text/html": [
              "Tracking run with wandb version 0.16.6"
            ],
            "text/plain": [
              "<IPython.core.display.HTML object>"
            ]
          },
          "metadata": {},
          "output_type": "display_data"
        },
        {
          "data": {
            "text/html": [
              "Run data is saved locally in <code>/home/leon/Downloads/DQN/wandb/run-20240406_205430-k9jgagt3</code>"
            ],
            "text/plain": [
              "<IPython.core.display.HTML object>"
            ]
          },
          "metadata": {},
          "output_type": "display_data"
        },
        {
          "data": {
            "text/html": [
              "Syncing run <strong><a href='https://wandb.ai/iitm-ac-in/DQN_max_acrobat_final/runs/k9jgagt3' target=\"_blank\">firm-sweep-8</a></strong> to <a href='https://wandb.ai/iitm-ac-in/DQN_max_acrobat_final' target=\"_blank\">Weights & Biases</a> (<a href='https://wandb.me/run' target=\"_blank\">docs</a>)<br/>Sweep page: <a href='https://wandb.ai/iitm-ac-in/DQN_max_acrobat_final/sweeps/8meafk3y' target=\"_blank\">https://wandb.ai/iitm-ac-in/DQN_max_acrobat_final/sweeps/8meafk3y</a>"
            ],
            "text/plain": [
              "<IPython.core.display.HTML object>"
            ]
          },
          "metadata": {},
          "output_type": "display_data"
        },
        {
          "data": {
            "text/html": [
              " View project at <a href='https://wandb.ai/iitm-ac-in/DQN_max_acrobat_final' target=\"_blank\">https://wandb.ai/iitm-ac-in/DQN_max_acrobat_final</a>"
            ],
            "text/plain": [
              "<IPython.core.display.HTML object>"
            ]
          },
          "metadata": {},
          "output_type": "display_data"
        },
        {
          "data": {
            "text/html": [
              " View sweep at <a href='https://wandb.ai/iitm-ac-in/DQN_max_acrobat_final/sweeps/8meafk3y' target=\"_blank\">https://wandb.ai/iitm-ac-in/DQN_max_acrobat_final/sweeps/8meafk3y</a>"
            ],
            "text/plain": [
              "<IPython.core.display.HTML object>"
            ]
          },
          "metadata": {},
          "output_type": "display_data"
        },
        {
          "data": {
            "text/html": [
              " View run at <a href='https://wandb.ai/iitm-ac-in/DQN_max_acrobat_final/runs/k9jgagt3' target=\"_blank\">https://wandb.ai/iitm-ac-in/DQN_max_acrobat_final/runs/k9jgagt3</a>"
            ],
            "text/plain": [
              "<IPython.core.display.HTML object>"
            ]
          },
          "metadata": {},
          "output_type": "display_data"
        },
        {
          "name": "stdout",
          "output_type": "stream",
          "text": [
            "Episode 100\tAverage Score: -332.97\n",
            "Episode 200\tAverage Score: -151.64\n",
            "Episode 300\tAverage Score: -109.37\n",
            "Episode 400\tAverage Score: -98.369\n",
            "Episode 500\tAverage Score: -88.78\n",
            "Episode 600\tAverage Score: -91.36\n"
          ]
        },
        {
          "data": {
            "text/html": [
              "<style>\n",
              "    table.wandb td:nth-child(1) { padding: 0 10px; text-align: left ; width: auto;} td:nth-child(2) {text-align: left ; width: 100%}\n",
              "    .wandb-row { display: flex; flex-direction: row; flex-wrap: wrap; justify-content: flex-start; width: 100% }\n",
              "    .wandb-col { display: flex; flex-direction: column; flex-basis: 100%; flex: 1; padding: 10px; }\n",
              "    </style>\n",
              "<div class=\"wandb-row\"><div class=\"wandb-col\"><h3>Run history:</h3><br/><table class=\"wandb\"><tr><td>score</td><td>▁</td></tr></table><br/></div><div class=\"wandb-col\"><h3>Run summary:</h3><br/><table class=\"wandb\"><tr><td>score</td><td>87248.0</td></tr></table><br/></div></div>"
            ],
            "text/plain": [
              "<IPython.core.display.HTML object>"
            ]
          },
          "metadata": {},
          "output_type": "display_data"
        },
        {
          "data": {
            "text/html": [
              " View run <strong style=\"color:#cdcd00\">firm-sweep-8</strong> at: <a href='https://wandb.ai/iitm-ac-in/DQN_max_acrobat_final/runs/k9jgagt3' target=\"_blank\">https://wandb.ai/iitm-ac-in/DQN_max_acrobat_final/runs/k9jgagt3</a><br/> View project at: <a href='https://wandb.ai/iitm-ac-in/DQN_max_acrobat_final' target=\"_blank\">https://wandb.ai/iitm-ac-in/DQN_max_acrobat_final</a><br/>Synced 6 W&B file(s), 0 media file(s), 0 artifact file(s) and 0 other file(s)"
            ],
            "text/plain": [
              "<IPython.core.display.HTML object>"
            ]
          },
          "metadata": {},
          "output_type": "display_data"
        },
        {
          "data": {
            "text/html": [
              "Find logs at: <code>./wandb/run-20240406_205430-k9jgagt3/logs</code>"
            ],
            "text/plain": [
              "<IPython.core.display.HTML object>"
            ]
          },
          "metadata": {},
          "output_type": "display_data"
        },
        {
          "name": "stderr",
          "output_type": "stream",
          "text": [
            "\u001b[34m\u001b[1mwandb\u001b[0m: Agent Starting Run: t6bfoqkr with config:\n",
            "\u001b[34m\u001b[1mwandb\u001b[0m: \tBATCH_SIZE: 54\n",
            "\u001b[34m\u001b[1mwandb\u001b[0m: \tBUFFER_SIZE: 10000\n",
            "\u001b[34m\u001b[1mwandb\u001b[0m: \tGAMMA: 0.99\n",
            "\u001b[34m\u001b[1mwandb\u001b[0m: \tLR: 0.00022889801536429415\n",
            "\u001b[34m\u001b[1mwandb\u001b[0m: \tUPDATE_EVERY: 96\n",
            "Failed to detect the name of this notebook, you can set it manually with the WANDB_NOTEBOOK_NAME environment variable to enable code saving.\n",
            "\u001b[34m\u001b[1mwandb\u001b[0m: \u001b[33mWARNING\u001b[0m Ignored wandb.init() arg project when running a sweep.\n",
            "/home/leon/miniconda3/envs/RL/lib/python3.10/site-packages/wandb/sdk/lib/ipython.py:77: DeprecationWarning: Importing display from IPython.core.display is deprecated since IPython 7.14, please import from IPython display\n",
            "  from IPython.core.display import HTML, display  # type: ignore\n"
          ]
        },
        {
          "data": {
            "text/html": [
              "Tracking run with wandb version 0.16.6"
            ],
            "text/plain": [
              "<IPython.core.display.HTML object>"
            ]
          },
          "metadata": {},
          "output_type": "display_data"
        },
        {
          "data": {
            "text/html": [
              "Run data is saved locally in <code>/home/leon/Downloads/DQN/wandb/run-20240406_211657-t6bfoqkr</code>"
            ],
            "text/plain": [
              "<IPython.core.display.HTML object>"
            ]
          },
          "metadata": {},
          "output_type": "display_data"
        },
        {
          "data": {
            "text/html": [
              "Syncing run <strong><a href='https://wandb.ai/iitm-ac-in/DQN_max_acrobat_final/runs/t6bfoqkr' target=\"_blank\">magic-sweep-9</a></strong> to <a href='https://wandb.ai/iitm-ac-in/DQN_max_acrobat_final' target=\"_blank\">Weights & Biases</a> (<a href='https://wandb.me/run' target=\"_blank\">docs</a>)<br/>Sweep page: <a href='https://wandb.ai/iitm-ac-in/DQN_max_acrobat_final/sweeps/8meafk3y' target=\"_blank\">https://wandb.ai/iitm-ac-in/DQN_max_acrobat_final/sweeps/8meafk3y</a>"
            ],
            "text/plain": [
              "<IPython.core.display.HTML object>"
            ]
          },
          "metadata": {},
          "output_type": "display_data"
        },
        {
          "data": {
            "text/html": [
              " View project at <a href='https://wandb.ai/iitm-ac-in/DQN_max_acrobat_final' target=\"_blank\">https://wandb.ai/iitm-ac-in/DQN_max_acrobat_final</a>"
            ],
            "text/plain": [
              "<IPython.core.display.HTML object>"
            ]
          },
          "metadata": {},
          "output_type": "display_data"
        },
        {
          "data": {
            "text/html": [
              " View sweep at <a href='https://wandb.ai/iitm-ac-in/DQN_max_acrobat_final/sweeps/8meafk3y' target=\"_blank\">https://wandb.ai/iitm-ac-in/DQN_max_acrobat_final/sweeps/8meafk3y</a>"
            ],
            "text/plain": [
              "<IPython.core.display.HTML object>"
            ]
          },
          "metadata": {},
          "output_type": "display_data"
        },
        {
          "data": {
            "text/html": [
              " View run at <a href='https://wandb.ai/iitm-ac-in/DQN_max_acrobat_final/runs/t6bfoqkr' target=\"_blank\">https://wandb.ai/iitm-ac-in/DQN_max_acrobat_final/runs/t6bfoqkr</a>"
            ],
            "text/plain": [
              "<IPython.core.display.HTML object>"
            ]
          },
          "metadata": {},
          "output_type": "display_data"
        },
        {
          "name": "stdout",
          "output_type": "stream",
          "text": [
            "Episode 100\tAverage Score: -334.73\n",
            "Episode 200\tAverage Score: -145.24\n",
            "Episode 300\tAverage Score: -111.97\n",
            "Episode 400\tAverage Score: -101.51\n",
            "Episode 500\tAverage Score: -96.355\n",
            "Episode 600\tAverage Score: -90.71\n"
          ]
        },
        {
          "data": {
            "text/html": [
              "<style>\n",
              "    table.wandb td:nth-child(1) { padding: 0 10px; text-align: left ; width: auto;} td:nth-child(2) {text-align: left ; width: 100%}\n",
              "    .wandb-row { display: flex; flex-direction: row; flex-wrap: wrap; justify-content: flex-start; width: 100% }\n",
              "    .wandb-col { display: flex; flex-direction: column; flex-basis: 100%; flex: 1; padding: 10px; }\n",
              "    </style>\n",
              "<div class=\"wandb-row\"><div class=\"wandb-col\"><h3>Run history:</h3><br/><table class=\"wandb\"><tr><td>score</td><td>▁</td></tr></table><br/></div><div class=\"wandb-col\"><h3>Run summary:</h3><br/><table class=\"wandb\"><tr><td>score</td><td>88051.0</td></tr></table><br/></div></div>"
            ],
            "text/plain": [
              "<IPython.core.display.HTML object>"
            ]
          },
          "metadata": {},
          "output_type": "display_data"
        },
        {
          "data": {
            "text/html": [
              " View run <strong style=\"color:#cdcd00\">magic-sweep-9</strong> at: <a href='https://wandb.ai/iitm-ac-in/DQN_max_acrobat_final/runs/t6bfoqkr' target=\"_blank\">https://wandb.ai/iitm-ac-in/DQN_max_acrobat_final/runs/t6bfoqkr</a><br/> View project at: <a href='https://wandb.ai/iitm-ac-in/DQN_max_acrobat_final' target=\"_blank\">https://wandb.ai/iitm-ac-in/DQN_max_acrobat_final</a><br/>Synced 6 W&B file(s), 0 media file(s), 0 artifact file(s) and 0 other file(s)"
            ],
            "text/plain": [
              "<IPython.core.display.HTML object>"
            ]
          },
          "metadata": {},
          "output_type": "display_data"
        },
        {
          "data": {
            "text/html": [
              "Find logs at: <code>./wandb/run-20240406_211657-t6bfoqkr/logs</code>"
            ],
            "text/plain": [
              "<IPython.core.display.HTML object>"
            ]
          },
          "metadata": {},
          "output_type": "display_data"
        },
        {
          "name": "stderr",
          "output_type": "stream",
          "text": [
            "\u001b[34m\u001b[1mwandb\u001b[0m: Agent Starting Run: 451jisey with config:\n",
            "\u001b[34m\u001b[1mwandb\u001b[0m: \tBATCH_SIZE: 139\n",
            "\u001b[34m\u001b[1mwandb\u001b[0m: \tBUFFER_SIZE: 10000\n",
            "\u001b[34m\u001b[1mwandb\u001b[0m: \tGAMMA: 0.99\n",
            "\u001b[34m\u001b[1mwandb\u001b[0m: \tLR: 1.9544989595346695e-05\n",
            "\u001b[34m\u001b[1mwandb\u001b[0m: \tUPDATE_EVERY: 97\n",
            "Failed to detect the name of this notebook, you can set it manually with the WANDB_NOTEBOOK_NAME environment variable to enable code saving.\n",
            "\u001b[34m\u001b[1mwandb\u001b[0m: \u001b[33mWARNING\u001b[0m Ignored wandb.init() arg project when running a sweep.\n",
            "/home/leon/miniconda3/envs/RL/lib/python3.10/site-packages/wandb/sdk/lib/ipython.py:77: DeprecationWarning: Importing display from IPython.core.display is deprecated since IPython 7.14, please import from IPython display\n",
            "  from IPython.core.display import HTML, display  # type: ignore\n"
          ]
        },
        {
          "data": {
            "text/html": [
              "Tracking run with wandb version 0.16.6"
            ],
            "text/plain": [
              "<IPython.core.display.HTML object>"
            ]
          },
          "metadata": {},
          "output_type": "display_data"
        },
        {
          "data": {
            "text/html": [
              "Run data is saved locally in <code>/home/leon/Downloads/DQN/wandb/run-20240406_213626-451jisey</code>"
            ],
            "text/plain": [
              "<IPython.core.display.HTML object>"
            ]
          },
          "metadata": {},
          "output_type": "display_data"
        },
        {
          "data": {
            "text/html": [
              "Syncing run <strong><a href='https://wandb.ai/iitm-ac-in/DQN_max_acrobat_final/runs/451jisey' target=\"_blank\">silver-sweep-10</a></strong> to <a href='https://wandb.ai/iitm-ac-in/DQN_max_acrobat_final' target=\"_blank\">Weights & Biases</a> (<a href='https://wandb.me/run' target=\"_blank\">docs</a>)<br/>Sweep page: <a href='https://wandb.ai/iitm-ac-in/DQN_max_acrobat_final/sweeps/8meafk3y' target=\"_blank\">https://wandb.ai/iitm-ac-in/DQN_max_acrobat_final/sweeps/8meafk3y</a>"
            ],
            "text/plain": [
              "<IPython.core.display.HTML object>"
            ]
          },
          "metadata": {},
          "output_type": "display_data"
        },
        {
          "data": {
            "text/html": [
              " View project at <a href='https://wandb.ai/iitm-ac-in/DQN_max_acrobat_final' target=\"_blank\">https://wandb.ai/iitm-ac-in/DQN_max_acrobat_final</a>"
            ],
            "text/plain": [
              "<IPython.core.display.HTML object>"
            ]
          },
          "metadata": {},
          "output_type": "display_data"
        },
        {
          "data": {
            "text/html": [
              " View sweep at <a href='https://wandb.ai/iitm-ac-in/DQN_max_acrobat_final/sweeps/8meafk3y' target=\"_blank\">https://wandb.ai/iitm-ac-in/DQN_max_acrobat_final/sweeps/8meafk3y</a>"
            ],
            "text/plain": [
              "<IPython.core.display.HTML object>"
            ]
          },
          "metadata": {},
          "output_type": "display_data"
        },
        {
          "data": {
            "text/html": [
              " View run at <a href='https://wandb.ai/iitm-ac-in/DQN_max_acrobat_final/runs/451jisey' target=\"_blank\">https://wandb.ai/iitm-ac-in/DQN_max_acrobat_final/runs/451jisey</a>"
            ],
            "text/plain": [
              "<IPython.core.display.HTML object>"
            ]
          },
          "metadata": {},
          "output_type": "display_data"
        },
        {
          "name": "stdout",
          "output_type": "stream",
          "text": [
            "Episode 100\tAverage Score: -375.06\n",
            "Episode 200\tAverage Score: -159.99\n",
            "Episode 300\tAverage Score: -113.91\n",
            "Episode 400\tAverage Score: -106.76\n",
            "Episode 500\tAverage Score: -93.638\n",
            "Episode 600\tAverage Score: -87.99\n"
          ]
        },
        {
          "data": {
            "text/html": [
              "<style>\n",
              "    table.wandb td:nth-child(1) { padding: 0 10px; text-align: left ; width: auto;} td:nth-child(2) {text-align: left ; width: 100%}\n",
              "    .wandb-row { display: flex; flex-direction: row; flex-wrap: wrap; justify-content: flex-start; width: 100% }\n",
              "    .wandb-col { display: flex; flex-direction: column; flex-basis: 100%; flex: 1; padding: 10px; }\n",
              "    </style>\n",
              "<div class=\"wandb-row\"><div class=\"wandb-col\"><h3>Run history:</h3><br/><table class=\"wandb\"><tr><td>score</td><td>▁</td></tr></table><br/></div><div class=\"wandb-col\"><h3>Run summary:</h3><br/><table class=\"wandb\"><tr><td>score</td><td>93734.0</td></tr></table><br/></div></div>"
            ],
            "text/plain": [
              "<IPython.core.display.HTML object>"
            ]
          },
          "metadata": {},
          "output_type": "display_data"
        },
        {
          "data": {
            "text/html": [
              " View run <strong style=\"color:#cdcd00\">silver-sweep-10</strong> at: <a href='https://wandb.ai/iitm-ac-in/DQN_max_acrobat_final/runs/451jisey' target=\"_blank\">https://wandb.ai/iitm-ac-in/DQN_max_acrobat_final/runs/451jisey</a><br/> View project at: <a href='https://wandb.ai/iitm-ac-in/DQN_max_acrobat_final' target=\"_blank\">https://wandb.ai/iitm-ac-in/DQN_max_acrobat_final</a><br/>Synced 6 W&B file(s), 0 media file(s), 0 artifact file(s) and 0 other file(s)"
            ],
            "text/plain": [
              "<IPython.core.display.HTML object>"
            ]
          },
          "metadata": {},
          "output_type": "display_data"
        },
        {
          "data": {
            "text/html": [
              "Find logs at: <code>./wandb/run-20240406_213626-451jisey/logs</code>"
            ],
            "text/plain": [
              "<IPython.core.display.HTML object>"
            ]
          },
          "metadata": {},
          "output_type": "display_data"
        }
      ],
      "source": [
        "import wandb\n",
        "\n",
        "def main():\n",
        "    wandb.init(project=\"DQN_max_acrobat_final\")\n",
        "    agent = TutorialAgent(state_size=state_shape,action_size = action_shape,seed = 0, config=wandb.config)\n",
        "    score = dqn(agent=agent)\n",
        "    wandb.log({\"score\": score})\n",
        "\n",
        "# 2: Define the search space\n",
        "sweep_configuration = {\n",
        "    \"method\": \"bayes\",\n",
        "    \"metric\": {\"goal\": \"minimize\", \"name\": \"score\"},\n",
        "    \"parameters\": {\n",
        "        \"BUFFER_SIZE\": {\"values\": [1e5,1e6,1e4]},\n",
        "        \"BATCH_SIZE\": {\"max\": 256, \"min\": 32},\n",
        "        \"GAMMA\": {\"values\": [0.99]},\n",
        "        \"LR\": {\"max\": 1e-3, \"min\": 1e-5},\n",
        "        \"UPDATE_EVERY\": {\"max\": 100, \"min\": 10},\n",
        "    },\n",
        "}\n",
        "\n",
        "# 3: Start the sweep\n",
        "sweep_id = wandb.sweep(sweep=sweep_configuration, project=\"DQN_max_acrobat_final\")\n",
        "\n",
        "wandb.agent(sweep_id, function=main, count=10)"
      ]
    },
    {
      "cell_type": "code",
      "execution_count": 19,
      "metadata": {
        "id": "HAszsFZQEx1o"
      },
      "outputs": [],
      "source": [
        "LR = 0.00005615\n",
        "BUFFER_SIZE = 1000000\n",
        "BATCH_SIZE = 221\n",
        "GAMMA = 0.99\n",
        "UPDATE_EVERY = 43\n",
        "\n",
        "class TutorialAgentrun():\n",
        "\n",
        "    def __init__(self, state_size, action_size, seed):\n",
        "\n",
        "        ''' Agent Environment Interaction '''\n",
        "        self.state_size = state_size\n",
        "        self.action_size = action_size\n",
        "        self.seed = random.seed(seed)\n",
        "\n",
        "        ''' Q-Network '''\n",
        "        self.qnetwork_local = QNetwork1(state_size, action_size, seed).to(device)\n",
        "        self.qnetwork_target = QNetwork1(state_size, action_size, seed).to(device)\n",
        "        self.optimizer = optim.Adam(self.qnetwork_local.parameters(), lr=LR)\n",
        "\n",
        "        ''' Replay memory '''\n",
        "        self.memory = ReplayBuffer(action_size, BUFFER_SIZE, BATCH_SIZE, seed)\n",
        "\n",
        "        ''' Initialize time step (for updating every UPDATE_EVERY steps)           -Needed for Q Targets '''\n",
        "        self.t_step = 0\n",
        "\n",
        "    def step(self, state, action, reward, next_state, done):\n",
        "\n",
        "        ''' Save experience in replay memory '''\n",
        "        self.memory.add(state, action, reward, next_state, done)\n",
        "\n",
        "        ''' If enough samples are available in memory, get random subset and learn '''\n",
        "        if len(self.memory) >= BATCH_SIZE:\n",
        "            experiences = self.memory.sample()\n",
        "            self.learn(experiences, GAMMA)\n",
        "\n",
        "        \"\"\" +Q TARGETS PRESENT \"\"\"\n",
        "        ''' Updating the Network every 'UPDATE_EVERY' steps taken '''\n",
        "        self.t_step = (self.t_step + 1) % UPDATE_EVERY\n",
        "        if self.t_step == 0:\n",
        "\n",
        "            self.qnetwork_target.load_state_dict(self.qnetwork_local.state_dict())\n",
        "\n",
        "    def act(self, state, eps=0.):\n",
        "\n",
        "        state = torch.from_numpy(state).float().unsqueeze(0).to(device)\n",
        "        self.qnetwork_local.eval()\n",
        "        with torch.no_grad():\n",
        "            action_values = self.qnetwork_local(state)\n",
        "        self.qnetwork_local.train()\n",
        "\n",
        "        ''' Epsilon-greedy action selection (Already Present) '''\n",
        "        if random.random() > eps:\n",
        "            return np.argmax(action_values.cpu().data.numpy())\n",
        "        else:\n",
        "            return random.choice(np.arange(self.action_size))\n",
        "\n",
        "    def learn(self, experiences, gamma):\n",
        "      \"\"\"Perform a training iteration on a batch of data.\"\"\"\n",
        "      states, actions, rewards, next_states, dones = experiences\n",
        "\n",
        "      # Get max predicted Q values (for next states) from target model\n",
        "      Q_targets_next = self.qnetwork_target(next_states).detach().max(1)[0].unsqueeze(1)\n",
        "\n",
        "      # Compute Q targets for current states\n",
        "      Q_targets = rewards + (gamma * Q_targets_next * (1 - dones))\n",
        "\n",
        "      # Get expected Q values from local model\n",
        "      Q_expected = self.qnetwork_local(states).gather(1, actions)\n",
        "\n",
        "      # Compute loss\n",
        "      loss = F.mse_loss(Q_expected, Q_targets)\n",
        "\n",
        "      # Minimize the loss\n",
        "      self.optimizer.zero_grad()\n",
        "      loss.backward()\n",
        "\n",
        "      # Gradient Clipping\n",
        "      for param in self.qnetwork_local.parameters():\n",
        "          param.grad.data.clamp_(-1, 1)\n",
        "\n",
        "      self.optimizer.step()\n",
        "\n",
        "      return loss.item()  # Convert loss to a scalar value for logging purposes\n"
      ]
    },
    {
      "cell_type": "code",
      "execution_count": 17,
      "metadata": {
        "id": "exXjxwkVEx1w"
      },
      "outputs": [],
      "source": [
        "state_shape = env.observation_space.shape[0]\n",
        "action_shape = env.action_space.n\n",
        "\n",
        "def dqn_run(seed_list,n_episodes=2000, max_t=1000, eps_start=1.0, eps_end=0.01, eps_decay=0.995):\n",
        "    all_returns = []  # List to store returns for each episode across all runs\n",
        "\n",
        "    for i in range(5):  # Run the DQN algorithm five times\n",
        "        agent = TutorialAgentrun(state_size=state_shape,action_size = action_shape,seed = seed_list[i])\n",
        "        scores_window = deque(maxlen=100)\n",
        "        eps = eps_start\n",
        "        returns = []  # List to store returns for each episode in this run\n",
        "        for i_episode in range(1, n_episodes+1):\n",
        "            state = env.reset()\n",
        "            score = 0\n",
        "            if i_episode % 100 == 0:\n",
        "              print(i_episode)\n",
        "            for t in range(max_t):\n",
        "                action = agent.act(state, eps)\n",
        "                next_state, reward, done, _ = env.step(action)\n",
        "                agent.step(state, action, reward, next_state, done)\n",
        "                state = next_state\n",
        "                score += reward\n",
        "                if done:\n",
        "                    break\n",
        "\n",
        "            scores_window.append(score)\n",
        "            eps = max(eps_end, eps_decay*eps)\n",
        "\n",
        "            returns.append(score)  # Store the return for this episode\n",
        "\n",
        "        all_returns.append(returns)  # Store the returns for this run\n",
        "\n",
        "    return all_returns\n",
        "\n"
      ]
    },
    {
      "cell_type": "code",
      "execution_count": null,
      "metadata": {
        "id": "fRiO2PGAEx1z"
      },
      "outputs": [],
      "source": [
        "seed_lst = [2,45,33,11,9]\n",
        "DQN_avg_list = dqn_run(seed_lst)"
      ]
    },
    {
      "cell_type": "code",
      "execution_count": 20,
      "metadata": {
        "id": "zB0idDbvEx10"
      },
      "outputs": [],
      "source": [
        "LR = 0.0002415\n",
        "BUFFER_SIZE = 10000\n",
        "BATCH_SIZE = 132\n",
        "GAMMA = 0.99\n",
        "UPDATE_EVERY = 100\n",
        "\n",
        "class TutorialAgentrunmax():\n",
        "\n",
        "    def __init__(self, state_size, action_size, seed):\n",
        "\n",
        "        ''' Agent Environment Interaction '''\n",
        "        self.state_size = state_size\n",
        "        self.action_size = action_size\n",
        "        self.seed = random.seed(seed)\n",
        "\n",
        "        ''' Q-Network '''\n",
        "        self.qnetwork_local = QNetwork2(state_size, action_size, seed).to(device)\n",
        "        self.qnetwork_target = QNetwork2(state_size, action_size, seed).to(device)\n",
        "        self.optimizer = optim.Adam(self.qnetwork_local.parameters(), lr=LR)\n",
        "\n",
        "        ''' Replay memory '''\n",
        "        self.memory = ReplayBuffer(action_size, BUFFER_SIZE, BATCH_SIZE, seed)\n",
        "\n",
        "        ''' Initialize time step (for updating every UPDATE_EVERY steps)           -Needed for Q Targets '''\n",
        "        self.t_step = 0\n",
        "\n",
        "    def step(self, state, action, reward, next_state, done):\n",
        "\n",
        "        ''' Save experience in replay memory '''\n",
        "        self.memory.add(state, action, reward, next_state, done)\n",
        "\n",
        "        ''' If enough samples are available in memory, get random subset and learn '''\n",
        "        if len(self.memory) >= BATCH_SIZE:\n",
        "            experiences = self.memory.sample()\n",
        "            self.learn(experiences, GAMMA)\n",
        "\n",
        "        \"\"\" +Q TARGETS PRESENT \"\"\"\n",
        "        ''' Updating the Network every 'UPDATE_EVERY' steps taken '''\n",
        "        self.t_step = (self.t_step + 1) % UPDATE_EVERY\n",
        "        if self.t_step == 0:\n",
        "\n",
        "            self.qnetwork_target.load_state_dict(self.qnetwork_local.state_dict())\n",
        "\n",
        "    def act(self, state, eps=0.):\n",
        "\n",
        "        state = torch.from_numpy(state).float().unsqueeze(0).to(device)\n",
        "        self.qnetwork_local.eval()\n",
        "        with torch.no_grad():\n",
        "            action_values = self.qnetwork_local(state)\n",
        "        self.qnetwork_local.train()\n",
        "\n",
        "        ''' Epsilon-greedy action selection (Already Present) '''\n",
        "        if random.random() > eps:\n",
        "            return np.argmax(action_values.cpu().data.numpy())\n",
        "        else:\n",
        "            return random.choice(np.arange(self.action_size))\n",
        "\n",
        "    def learn(self, experiences, gamma):\n",
        "      \"\"\"Perform a training iteration on a batch of data.\"\"\"\n",
        "      states, actions, rewards, next_states, dones = experiences\n",
        "\n",
        "      # Get max predicted Q values (for next states) from target model\n",
        "      Q_targets_next = self.qnetwork_target(next_states).detach().max(1)[0].unsqueeze(1)\n",
        "\n",
        "      # Compute Q targets for current states\n",
        "      Q_targets = rewards + (gamma * Q_targets_next * (1 - dones))\n",
        "\n",
        "      # Get expected Q values from local model\n",
        "      Q_expected = self.qnetwork_local(states).gather(1, actions)\n",
        "\n",
        "      # Compute loss\n",
        "      loss = F.mse_loss(Q_expected, Q_targets)\n",
        "\n",
        "      # Minimize the loss\n",
        "      self.optimizer.zero_grad()\n",
        "      loss.backward()\n",
        "\n",
        "      # Gradient Clipping\n",
        "      for param in self.qnetwork_local.parameters():\n",
        "          param.grad.data.clamp_(-1, 1)\n",
        "\n",
        "      self.optimizer.step()\n",
        "\n",
        "      return loss.item()  # Convert loss to a scalar value for logging purposes\n"
      ]
    },
    {
      "cell_type": "code",
      "execution_count": 23,
      "metadata": {
        "id": "07Q7DzXmEx18"
      },
      "outputs": [],
      "source": [
        "def dqn_runmax(seed_list,n_episodes=2000, max_t=1000, eps_start=1.0, eps_end=0.01, eps_decay=0.995):\n",
        "    all_returns = []  # List to store returns for each episode across all runs\n",
        "\n",
        "    for i in range(5):  # Run the DQN algorithm five times\n",
        "        agent = TutorialAgentrunmax(state_size=state_shape,action_size = action_shape,seed = seed_list[i])\n",
        "        scores_window = deque(maxlen=100)\n",
        "        eps = eps_start\n",
        "        returns = []  # List to store returns for each episode in this run\n",
        "        for i_episode in range(1, n_episodes+1):\n",
        "            state = env.reset()\n",
        "            score = 0\n",
        "            for t in range(max_t):\n",
        "                action = agent.act(state, eps)\n",
        "                next_state, reward, done, _ = env.step(action)\n",
        "                agent.step(state, action, reward, next_state, done)\n",
        "                state = next_state\n",
        "                score += reward\n",
        "                if done:\n",
        "                    break\n",
        "\n",
        "            scores_window.append(score)\n",
        "            eps = max(eps_end, eps_decay*eps)\n",
        "            if i_episode % 100 == 0:\n",
        "              print(i_episode)\n",
        "\n",
        "            returns.append(score)  # Store the return for this episode\n",
        "\n",
        "        all_returns.append(returns)  # Store the returns for this run\n",
        "\n",
        "    return all_returns\n",
        "\n",
        "# Example usage:\n",
        "# Replace 'agent' and 'env' with your agent and environment objects\n",
        "# Also, adjust other parameters as needed\n",
        "\n",
        "# all_returns = dqn_run(agent, env)\n"
      ]
    },
    {
      "cell_type": "code",
      "execution_count": null,
      "metadata": {
        "id": "r7lKG-ycEx1-"
      },
      "outputs": [],
      "source": [
        "seed_lst = [2,45,33,11,9]\n",
        "DQN_max_list = dqn_runmax(seed_lst)"
      ]
    },
    {
      "cell_type": "code",
      "source": [
        "import numpy as np\n",
        "import matplotlib.pyplot as plt\n",
        "\n",
        "mean_returns_1 = np.mean(DQN_avg_list, axis=0)\n",
        "variance_returns_1 = np.var(DQN_avg_list, axis=0)\n",
        "\n",
        "mean_returns_2 = np.mean(DQN_max_list, axis=0)\n",
        "variance_returns_2 = np.var(DQN_max_list, axis=0)\n",
        "\n",
        "smooth_mean_returns_1 = np.convolve(mean_returns_1, np.ones((10,))/10, mode='valid')\n",
        "smooth_mean_returns_2 = np.convolve(mean_returns_2, np.ones((10,))/10, mode='valid')\n",
        "\n",
        "variance_returns_1 = variance_returns_1[4:-5]\n",
        "variance_returns_2 = variance_returns_2[4:-5]\n",
        "\n",
        "plt.plot(smooth_mean_returns_1, label='DQN_avg', color='blue')\n",
        "\n",
        "plt.fill_between(range(len(smooth_mean_returns_1)), smooth_mean_returns_1 - np.sqrt(variance_returns_1), smooth_mean_returns_1 + np.sqrt(variance_returns_1), alpha=0.2, color='blue')\n",
        "\n",
        "plt.plot(smooth_mean_returns_2, label='DQN_max', color='orange')\n",
        "\n",
        "plt.fill_between(range(len(smooth_mean_returns_2)), smooth_mean_returns_2 - np.sqrt(variance_returns_2), smooth_mean_returns_2 + np.sqrt(variance_returns_2), alpha=0.2, color='orange')\n",
        "\n",
        "plt.xlabel('Episode Number')\n",
        "plt.ylabel('Episodic Return')\n",
        "plt.title('Episodic Return vs. Episode Number')\n",
        "\n",
        "plt.legend()\n",
        "\n",
        "plt.show()\n"
      ],
      "metadata": {
        "colab": {
          "base_uri": "https://localhost:8080/",
          "height": 472
        },
        "id": "Y5OA3tevebYh",
        "outputId": "d442ae98-2cb2-478a-c12e-cfe8fa26dd38"
      },
      "execution_count": 27,
      "outputs": [
        {
          "output_type": "display_data",
          "data": {
            "text/plain": [
              "<Figure size 640x480 with 1 Axes>"
            ],
            "image/png": "[encoded data removed]"
          },
          "metadata": {}
        }
      ]
    }
  ],
  "metadata": {
    "accelerator": "GPU",
    "colab": {
      "gpuType": "T4",
      "provenance": []
    },
    "kernelspec": {
      "display_name": "Python 3",
      "name": "python3"
    },
    "language_info": {
      "codemirror_mode": {
        "name": "ipython",
        "version": 3
      },
      "file_extension": ".py",
      "mimetype": "text/x-python",
      "name": "python",
      "nbconvert_exporter": "python",
      "pygments_lexer": "ipython3",
      "version": "3.10.14"
    }
  },
  "nbformat": 4,
  "nbformat_minor": 0
}