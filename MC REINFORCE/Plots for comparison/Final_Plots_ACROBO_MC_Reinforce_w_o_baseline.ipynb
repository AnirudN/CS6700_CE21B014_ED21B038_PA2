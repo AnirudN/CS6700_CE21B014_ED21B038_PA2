{
  "cells": [
    {
      "cell_type": "code",
      "execution_count": null,
      "metadata": {
        "id": "eMDMQ81o0Asx"
      },
      "outputs": [],
      "source": [
        "import torch\n",
        "import torch.nn as nn\n",
        "import torch.nn.functional as F\n",
        "import torch.optim as optim\n",
        "from torch.distributions import Categorical\n",
        "\n",
        "import gym\n",
        "from tqdm import tqdm_notebook\n",
        "import numpy as np\n",
        "from collections import deque"
      ]
    },
    {
      "cell_type": "code",
      "execution_count": null,
      "metadata": {
        "id": "shstWM5M0GmH",
        "colab": {
          "base_uri": "https://localhost:8080/"
        },
        "outputId": "e9b64177-a87a-434a-e5ef-f27d0e7ec564"
      },
      "outputs": [
        {
          "output_type": "stream",
          "name": "stderr",
          "text": [
            "/usr/local/lib/python3.10/dist-packages/ipykernel/ipkernel.py:283: DeprecationWarning: `should_run_async` will not call `transform_cell` automatically in the future. Please pass the result to `transformed_cell` argument and any exception that happen during thetransform in `preprocessing_exc_tuple` in IPython 7.17 and above.\n",
            "  and should_run_async(code)\n"
          ]
        }
      ],
      "source": [
        "#discount factor for future utilities\n",
        "DISCOUNT_FACTOR = 0.99\n",
        "gamma = 0.99\n",
        "#number of episodes to run\n",
        "NUM_EPISODES = 5000\n",
        "\n",
        "#max steps per episode\n",
        "MAX_STEPS = 10000\n",
        "\n",
        "#score agent needs for environment to be solved\n",
        "SOLVED_SCORE = 475\n",
        "\n",
        "#device to run model on\n",
        "DEVICE = \"cuda\" if torch.cuda.is_available() else \"cpu\""
      ]
    },
    {
      "cell_type": "code",
      "execution_count": null,
      "metadata": {
        "id": "zUzMP6SW0JiN"
      },
      "outputs": [],
      "source": [
        "class PolicyNetwork(nn.Module):\n",
        "  def __init__(self, observation_space, action_space,seed,layer_size):\n",
        "        super(PolicyNetwork, self).__init__()\n",
        "        self.seed = torch.manual_seed(seed)\n",
        "        self.input_layer = nn.Linear(observation_space, layer_size)\n",
        "        self.output_layer = nn.Linear(layer_size, action_space)\n",
        "  def forward(self, x):\n",
        "        x = self.input_layer(x)\n",
        "        x = F.relu(x)\n",
        "        actions = self.output_layer(x)\n",
        "        action_probs = F.softmax(actions, dim=-1)\n",
        "        return action_probs"
      ]
    },
    {
      "cell_type": "code",
      "execution_count": null,
      "metadata": {
        "id": "tRTcs42v1SnQ"
      },
      "outputs": [],
      "source": [
        "\n",
        "class StateValueNetwork(nn.Module):\n",
        "    def __init__(self, observation_space,seed,layer_size):\n",
        "        super(StateValueNetwork, self).__init__()\n",
        "        self.seed = torch.manual_seed(seed)\n",
        "        self.input_layer = nn.Linear(observation_space, layer_size)\n",
        "        self.output_layer = nn.Linear(layer_size, 1)\n",
        "    def forward(self, x):\n",
        "        x = self.input_layer(x)\n",
        "        x = F.relu(x)\n",
        "        state_value = self.output_layer(x)\n",
        "        return state_value"
      ]
    },
    {
      "cell_type": "code",
      "execution_count": null,
      "metadata": {
        "id": "fjmFbOmX1Zy8"
      },
      "outputs": [],
      "source": [
        "def process_rewards(rewards,gamma):\n",
        "    G = []\n",
        "    total_r = 0\n",
        "    for r in reversed(rewards):\n",
        "        total_r = r + total_r * DISCOUNT_FACTOR\n",
        "        G.insert(0, total_r)\n",
        "    G = torch.tensor(G)\n",
        "    #G = (G - G.mean())/G.std()\n",
        "    return G"
      ]
    },
    {
      "cell_type": "code",
      "execution_count": null,
      "metadata": {
        "id": "LgawT7xh3RWt"
      },
      "outputs": [],
      "source": [
        "def train_value(G, state_vals, optimizer):\n",
        "    val_loss = F.mse_loss(state_vals, G)\n",
        "    optimizer.zero_grad()\n",
        "    val_loss.backward()\n",
        "    optimizer.step()"
      ]
    },
    {
      "cell_type": "code",
      "execution_count": null,
      "metadata": {
        "id": "mL7BCLUX3e6a",
        "colab": {
          "base_uri": "https://localhost:8080/",
          "height": 125
        },
        "outputId": "85449b11-bfeb-4c19-9db3-112730ec6014"
      },
      "outputs": [
        {
          "output_type": "stream",
          "name": "stderr",
          "text": [
            "/usr/local/lib/python3.10/dist-packages/gym/core.py:317: DeprecationWarning: \u001b[33mWARN: Initializing wrapper in old step API which returns one bool instead of two. It is recommended to set `new_step_api=True` to use new step API. This will be the default behaviour in future.\u001b[0m\n",
            "  deprecation(\n",
            "/usr/local/lib/python3.10/dist-packages/gym/wrappers/step_api_compatibility.py:39: DeprecationWarning: \u001b[33mWARN: Initializing environment in old step API which returns one bool instead of two. It is recommended to set `new_step_api=True` to use new step API. This will be the default behaviour in future.\u001b[0m\n",
            "  deprecation(\n"
          ]
        },
        {
          "output_type": "execute_result",
          "data": {
            "text/plain": [
              "'\\npolicy_network = PolicyNetwork(env.observation_space.shape[0], env.action_space.n)\\nstateval_network = StateValueNetwork(env.observation_space.shape[0])'"
            ],
            "application/vnd.google.colaboratory.intrinsic+json": {
              "type": "string"
            }
          },
          "metadata": {},
          "execution_count": 7
        }
      ],
      "source": [
        "#Make environment\n",
        "env = gym.make('Acrobot-v1')\n",
        "#env = gym.make('CartPole-v1')\n",
        "#Init network\n",
        "'''\n",
        "policy_network = PolicyNetwork(env.observation_space.shape[0], env.action_space.n)\n",
        "stateval_network = StateValueNetwork(env.observation_space.shape[0])'''\n",
        "\n",
        "\n",
        "#Init optimizer\n"
      ]
    },
    {
      "cell_type": "code",
      "execution_count": null,
      "metadata": {
        "id": "nDuBXWy0fowR",
        "colab": {
          "base_uri": "https://localhost:8080/"
        },
        "outputId": "000f936a-f20c-467b-d283-ceb7888057f2"
      },
      "outputs": [
        {
          "output_type": "stream",
          "name": "stdout",
          "text": [
            "Collecting scikit-optimize\n",
            "  Downloading scikit_optimize-0.10.1-py2.py3-none-any.whl (107 kB)\n",
            "\u001b[2K     \u001b[90m━━━━━━━━━━━━━━━━━━━━━━━━━━━━━━━━━━━━━━━━\u001b[0m \u001b[32m107.7/107.7 kB\u001b[0m \u001b[31m1.1 MB/s\u001b[0m eta \u001b[36m0:00:00\u001b[0m\n",
            "\u001b[?25hRequirement already satisfied: joblib>=0.11 in /usr/local/lib/python3.10/dist-packages (from scikit-optimize) (1.3.2)\n",
            "Collecting pyaml>=16.9 (from scikit-optimize)\n",
            "  Downloading pyaml-23.12.0-py3-none-any.whl (23 kB)\n",
            "Requirement already satisfied: numpy>=1.20.3 in /usr/local/lib/python3.10/dist-packages (from scikit-optimize) (1.25.2)\n",
            "Requirement already satisfied: scipy>=1.1.0 in /usr/local/lib/python3.10/dist-packages (from scikit-optimize) (1.11.4)\n",
            "Requirement already satisfied: scikit-learn>=1.0.0 in /usr/local/lib/python3.10/dist-packages (from scikit-optimize) (1.2.2)\n",
            "Requirement already satisfied: packaging>=21.3 in /usr/local/lib/python3.10/dist-packages (from scikit-optimize) (24.0)\n",
            "Requirement already satisfied: PyYAML in /usr/local/lib/python3.10/dist-packages (from pyaml>=16.9->scikit-optimize) (6.0.1)\n",
            "Requirement already satisfied: threadpoolctl>=2.0.0 in /usr/local/lib/python3.10/dist-packages (from scikit-learn>=1.0.0->scikit-optimize) (3.4.0)\n",
            "Installing collected packages: pyaml, scikit-optimize\n",
            "Successfully installed pyaml-23.12.0 scikit-optimize-0.10.1\n"
          ]
        }
      ],
      "source": [
        "pip install scikit-optimize\n"
      ]
    },
    {
      "cell_type": "code",
      "execution_count": null,
      "metadata": {
        "id": "eClLxjLqU3rI"
      },
      "outputs": [],
      "source": [
        "seed_list = [1,42,30,25,17]"
      ]
    },
    {
      "cell_type": "code",
      "execution_count": null,
      "metadata": {
        "id": "QMYp_9UEiWxY"
      },
      "outputs": [],
      "source": [
        "def reset_weights(model):\n",
        "    for layer in model.children():\n",
        "        if hasattr(layer, 'reset_parameters'):\n",
        "            layer.reset_parameters()"
      ]
    },
    {
      "cell_type": "code",
      "execution_count": null,
      "metadata": {
        "id": "Yr0q-YJXLkTq"
      },
      "outputs": [],
      "source": [
        "\n",
        "\n",
        "# Define the objective function\n",
        "def objective(params):\n",
        "\n",
        "    regret_avg = 0\n",
        "    reward_per_ep = [0 for i in range(10000)]\n",
        "    reward_per_ep_list = [[475,475,475,475,475] for i in range(5000)]\n",
        "    min_ep = 10000\n",
        "    print(params,\"Its just getting started \")\n",
        "    for iteration in range(5):\n",
        "      seed = seed_list[iteration]\n",
        "      policy_network = PolicyNetwork(env.observation_space.shape[0], env.action_space.n,seed,params[\"network_size\"])\n",
        "      stateval_network = StateValueNetwork(env.observation_space.shape[0],seed,params[\"network_size\"])\n",
        "      reset_weights(policy_network)\n",
        "      reset_weights(stateval_network)\n",
        "      policy_optimizer = optim.Adam(policy_network.parameters(), params[\"LR\"])\n",
        "      stateval_optimizer = optim.Adam(stateval_network.parameters(), params[\"LR\"])\n",
        "      ep = 0\n",
        "      action_space = np.arange(env.action_space.n)\n",
        "      total_rewards = []\n",
        "      avg_rewards_list = []\n",
        "      regret = 0\n",
        "      while ep < NUM_EPISODES:\n",
        "        state = env.reset()\n",
        "        states = []\n",
        "        rewards = []\n",
        "        actions = []\n",
        "        done = False\n",
        "        while done == False:\n",
        "          state = torch.from_numpy(state).float().unsqueeze(0)[0]\n",
        "          action_probability = policy_network.forward(state).detach().numpy()\n",
        "          action = np.random.choice(action_space,p=action_probability)\n",
        "          state.detach()\n",
        "          next_state,r,done,_ = env.step(action)\n",
        "          states.append(state)\n",
        "          rewards.append(r)\n",
        "          actions.append(action)\n",
        "          if done :\n",
        "            break\n",
        "          state = next_state\n",
        "\n",
        "        total_rewards.append(sum(rewards))\n",
        "\n",
        "        G = process_rewards(rewards,gamma)\n",
        "        G = torch.FloatTensor(G)\n",
        "\n",
        "        rewards = torch.FloatTensor(rewards)\n",
        "\n",
        "        policy_optimizer.zero_grad()\n",
        "        state_vals = []\n",
        "\n",
        "        for st in states:\n",
        "            st = st.float().unsqueeze(0)[0]\n",
        "\n",
        "            state_vals.append(stateval_network(st))\n",
        "        state_vals = torch.stack(state_vals).squeeze()\n",
        "        #print(state_vals)\n",
        "        train_value(G, state_vals, stateval_optimizer)\n",
        "\n",
        "        deltas = [gt for gt in zip(G)]\n",
        "        deltas = torch.tensor(deltas)\n",
        "        logprob = [torch.log(policy_network.forward(states[i])) for i in range(len(deltas))]\n",
        "        policy_loss = []\n",
        "        for i in range(len(deltas)):\n",
        "\n",
        "              d = deltas[i]\n",
        "\n",
        "              lp = logprob[i][actions[i]]\n",
        "\n",
        "              policy_loss.append(-d * lp)\n",
        "        policy_optimizer.zero_grad()\n",
        "        #print(policy_loss,len(actions))\n",
        "        sum(policy_loss).backward()\n",
        "        torch.nn.utils.clip_grad_norm_(policy_network.parameters(), 2)\n",
        "        policy_optimizer.step()\n",
        "        avg_rewards = np.mean(total_rewards[-100:])\n",
        "        avg_rewards_list.append(avg_rewards)\n",
        "        ep +=1\n",
        "        if ep % 400  == 0:\n",
        "          print(\"Ep:\",ep,\"last 100 episodes reward is  :\",avg_rewards, end=\"\\n\")\n",
        "\n",
        "        regret -=  avg_rewards\n",
        "        for j in range(len(avg_rewards_list)):\n",
        "            #print(reward_per_ep_list[j])\n",
        "            reward_per_ep_list[j][iteration] = avg_rewards_list[j]\n",
        "      print(iteration,params,regret)\n",
        "      regret_avg += regret\n",
        "      '''for i in range(len(total_rewards)):\n",
        "            reward_per_ep[i] += total_rewards[i]'''\n",
        "      if ep < min_ep:\n",
        "            min_ep = ep\n",
        "      print(params,regret)\n",
        "      regret_avg += regret\n",
        "    print(\"regret_avg:\",regret_avg,\"for\",params)\n",
        "    for i in range(len(reward_per_ep_list)):\n",
        "      if len(reward_per_ep_list[i]) == 5:\n",
        "        #print(reward_per_ep_list[i],\"oohoo\")\n",
        "        reward_per_ep[i] = sum(reward_per_ep_list[i])/5\n",
        "      else:\n",
        "        k = 5 - len(reward_per_ep_list[i])\n",
        "        for h in range(k):\n",
        "          reward_per_ep_list.append(475)\n",
        "        reward_per_ep[i] = sum(reward_per_ep_list[i])/5\n",
        "        #print(reward_per_ep[i],'ohoooo')\n",
        "    return regret_avg/5,reward_per_ep, min_ep,reward_per_ep_list\n",
        "\n",
        "\n",
        "\n",
        "\n",
        "\n"
      ]
    },
    {
      "cell_type": "code",
      "execution_count": null,
      "metadata": {
        "id": "q34Cp61ruCtb"
      },
      "outputs": [],
      "source": [
        "params_without_baseline = {\"LR\": 0.0001407 , \"network_size\": 256}"
      ]
    },
    {
      "cell_type": "code",
      "execution_count": null,
      "metadata": {
        "colab": {
          "base_uri": "https://localhost:8080/"
        },
        "id": "4aAkBSwUuJ1U",
        "outputId": "7ec10833-b76f-46e0-9e71-80a72c10b9ef"
      },
      "outputs": [
        {
          "output_type": "stream",
          "name": "stdout",
          "text": [
            "{'LR': 0.0001407, 'network_size': 256} Its just getting started \n"
          ]
        },
        {
          "output_type": "stream",
          "name": "stderr",
          "text": [
            "/usr/local/lib/python3.10/dist-packages/gym/utils/passive_env_checker.py:241: DeprecationWarning: `np.bool8` is a deprecated alias for `np.bool_`.  (Deprecated NumPy 1.24)\n",
            "  if not isinstance(terminated, (bool, np.bool8)):\n"
          ]
        },
        {
          "output_type": "stream",
          "name": "stdout",
          "text": [
            "Ep: 400 last 100 episodes reward is  : -313.98\n",
            "Ep: 800 last 100 episodes reward is  : -174.21\n",
            "Ep: 1200 last 100 episodes reward is  : -189.7\n",
            "Ep: 1600 last 100 episodes reward is  : -236.69\n",
            "Ep: 2000 last 100 episodes reward is  : -280.31\n",
            "Ep: 2400 last 100 episodes reward is  : -237.0\n",
            "Ep: 2800 last 100 episodes reward is  : -274.06\n",
            "Ep: 3200 last 100 episodes reward is  : -266.38\n",
            "Ep: 3600 last 100 episodes reward is  : -218.92\n",
            "Ep: 4000 last 100 episodes reward is  : -192.9\n",
            "Ep: 4400 last 100 episodes reward is  : -173.49\n",
            "Ep: 4800 last 100 episodes reward is  : -175.01\n",
            "0 {'LR': 0.0001407, 'network_size': 256} 1188413.6993187836\n",
            "{'LR': 0.0001407, 'network_size': 256} 1188413.6993187836\n",
            "Ep: 400 last 100 episodes reward is  : -465.5\n",
            "Ep: 800 last 100 episodes reward is  : -276.22\n",
            "Ep: 1200 last 100 episodes reward is  : -319.05\n",
            "Ep: 1600 last 100 episodes reward is  : -405.91\n",
            "Ep: 2000 last 100 episodes reward is  : -380.39\n",
            "Ep: 2400 last 100 episodes reward is  : -311.97\n",
            "Ep: 2800 last 100 episodes reward is  : -384.8\n",
            "Ep: 3200 last 100 episodes reward is  : -428.95\n",
            "Ep: 3600 last 100 episodes reward is  : -382.46\n",
            "Ep: 4000 last 100 episodes reward is  : -364.67\n",
            "Ep: 4400 last 100 episodes reward is  : -422.59\n",
            "Ep: 4800 last 100 episodes reward is  : -293.54\n",
            "1 {'LR': 0.0001407, 'network_size': 256} 1792361.5748325805\n",
            "{'LR': 0.0001407, 'network_size': 256} 1792361.5748325805\n",
            "Ep: 400 last 100 episodes reward is  : -180.75\n",
            "Ep: 800 last 100 episodes reward is  : -175.57\n",
            "Ep: 1200 last 100 episodes reward is  : -160.47\n",
            "Ep: 1600 last 100 episodes reward is  : -158.82\n",
            "Ep: 2000 last 100 episodes reward is  : -135.58\n",
            "Ep: 2400 last 100 episodes reward is  : -142.76\n",
            "Ep: 2800 last 100 episodes reward is  : -139.3\n",
            "Ep: 3200 last 100 episodes reward is  : -134.77\n",
            "Ep: 3600 last 100 episodes reward is  : -143.22\n",
            "Ep: 4000 last 100 episodes reward is  : -148.96\n",
            "Ep: 4400 last 100 episodes reward is  : -146.13\n",
            "Ep: 4800 last 100 episodes reward is  : -147.61\n",
            "2 {'LR': 0.0001407, 'network_size': 256} 801715.2054686258\n",
            "{'LR': 0.0001407, 'network_size': 256} 801715.2054686258\n",
            "Ep: 400 last 100 episodes reward is  : -268.05\n",
            "Ep: 800 last 100 episodes reward is  : -173.52\n",
            "Ep: 1200 last 100 episodes reward is  : -172.99\n",
            "Ep: 1600 last 100 episodes reward is  : -148.87\n",
            "Ep: 2000 last 100 episodes reward is  : -149.69\n",
            "Ep: 2400 last 100 episodes reward is  : -138.04\n",
            "Ep: 2800 last 100 episodes reward is  : -138.51\n",
            "Ep: 3200 last 100 episodes reward is  : -140.45\n",
            "Ep: 3600 last 100 episodes reward is  : -155.14\n",
            "Ep: 4000 last 100 episodes reward is  : -142.94\n",
            "Ep: 4400 last 100 episodes reward is  : -165.58\n",
            "Ep: 4800 last 100 episodes reward is  : -175.13\n",
            "3 {'LR': 0.0001407, 'network_size': 256} 850014.7978428978\n",
            "{'LR': 0.0001407, 'network_size': 256} 850014.7978428978\n",
            "Ep: 400 last 100 episodes reward is  : -366.28\n",
            "Ep: 800 last 100 episodes reward is  : -199.75\n",
            "Ep: 1200 last 100 episodes reward is  : -176.59\n",
            "Ep: 1600 last 100 episodes reward is  : -181.53\n",
            "Ep: 2000 last 100 episodes reward is  : -180.78\n",
            "Ep: 2400 last 100 episodes reward is  : -195.08\n",
            "Ep: 2800 last 100 episodes reward is  : -187.32\n",
            "Ep: 3200 last 100 episodes reward is  : -168.15\n",
            "Ep: 3600 last 100 episodes reward is  : -150.73\n",
            "Ep: 4000 last 100 episodes reward is  : -153.99\n",
            "Ep: 4400 last 100 episodes reward is  : -157.53\n",
            "Ep: 4800 last 100 episodes reward is  : -159.22\n",
            "4 {'LR': 0.0001407, 'network_size': 256} 1022252.4298271295\n",
            "{'LR': 0.0001407, 'network_size': 256} 1022252.4298271295\n",
            "regret_avg: 11309515.414580034 for {'LR': 0.0001407, 'network_size': 256}\n"
          ]
        }
      ],
      "source": [
        "L_without_baseline = objective(params_without_baseline)"
      ]
    },
    {
      "cell_type": "code",
      "execution_count": null,
      "metadata": {
        "id": "n6iGTsj9uObB",
        "colab": {
          "base_uri": "https://localhost:8080/",
          "height": 107
        },
        "outputId": "9a49ca7a-645e-469a-ebe8-f46483618d0b"
      },
      "outputs": [
        {
          "output_type": "stream",
          "name": "stderr",
          "text": [
            "/usr/local/lib/python3.10/dist-packages/ipykernel/ipkernel.py:283: DeprecationWarning: `should_run_async` will not call `transform_cell` automatically in the future. Please pass the result to `transformed_cell` argument and any exception that happen during thetransform in `preprocessing_exc_tuple` in IPython 7.17 and above.\n",
            "  and should_run_async(code)\n"
          ]
        },
        {
          "output_type": "execute_result",
          "data": {
            "text/plain": [
              "'import matplotlib.pyplot as plt\\nprint(\"average regret = \",L[0] )\\nplot_reward =  L[1][:L[2]]\\nplt.plot(plot_reward)\\nplt.plot()\\nplt.xlabel(\\'Episode\\')\\nplt.ylabel(\\'Reward\\')\\nplt.show()'"
            ],
            "application/vnd.google.colaboratory.intrinsic+json": {
              "type": "string"
            }
          },
          "metadata": {},
          "execution_count": 14
        }
      ],
      "source": [
        "'''import matplotlib.pyplot as plt\n",
        "print(\"average regret = \",L[0] )\n",
        "plot_reward =  L[1][:L[2]]\n",
        "plt.plot(plot_reward)\n",
        "plt.plot()\n",
        "plt.xlabel('Episode')\n",
        "plt.ylabel('Reward')\n",
        "plt.show()'''"
      ]
    },
    {
      "cell_type": "code",
      "source": [
        "def avg_over_5_runs(params):\n",
        "  avg_regret = 0\n",
        "  for i in range(5):\n",
        "    regret = 0\n",
        "    reward_per_ep = [0 for i in range(10000)]\n",
        "    min_ep = 10000\n",
        "    seed = seed_list[i]\n",
        "    #Init network\n",
        "    policy_network = PolicyNetwork(env.observation_space.shape[0], env.action_space.n,seed,params[\"network_size\"])\n",
        "    stateval_network = StateValueNetwork(env.observation_space.shape[0],seed,params[\"network_size\"])\n",
        "    reset_weights(policy_network)\n",
        "    reset_weights(stateval_network)\n",
        "\n",
        "    #Init optimizer\n",
        "    policy_optimizer = optim.Adam(policy_network.parameters(), lr=params[\"LR\"])\n",
        "    stateval_optimizer = optim.Adam(stateval_network.parameters(), lr=params[\"LR\"])\n",
        "\n",
        "    ep = 0\n",
        "    action_space = np.arange(env.action_space.n)\n",
        "    total_rewards1 = []\n",
        "    while ep < NUM_EPISODES:\n",
        "      state = env.reset()\n",
        "      states = []\n",
        "      rewards = []\n",
        "      actions = []\n",
        "      done = False\n",
        "      while done == False:\n",
        "        state = torch.from_numpy(state).float().unsqueeze(0)[0]\n",
        "        action_probability = policy_network.forward(state).detach().numpy()\n",
        "        action = np.random.choice(action_space,p=action_probability)\n",
        "        state.detach()\n",
        "        next_state,r,done,_ = env.step(action)\n",
        "        states.append(state)\n",
        "        rewards.append(r)\n",
        "        actions.append(action)\n",
        "        if done :\n",
        "          break\n",
        "        state = next_state\n",
        "      total_rewards1.append(sum(rewards))\n",
        "      G = process_rewards(rewards,gamma)\n",
        "      G = torch.FloatTensor(G)\n",
        "\n",
        "      rewards = torch.FloatTensor(rewards)\n",
        "\n",
        "      policy_optimizer.zero_grad()\n",
        "      state_vals = []\n",
        "\n",
        "      for st in states:\n",
        "          st = st.float().unsqueeze(0)[0]\n",
        "\n",
        "          state_vals.append(stateval_network(st))\n",
        "      state_vals = torch.stack(state_vals).squeeze()\n",
        "      #print(state_vals)\n",
        "      train_value(G, state_vals, stateval_optimizer)\n",
        "\n",
        "      deltas = [gt - val for gt, val in zip(G, state_vals)]\n",
        "      deltas = torch.tensor(deltas)\n",
        "      logprob = [torch.log(policy_network.forward(states[i])) for i in range(len(deltas))]\n",
        "      policy_loss = []\n",
        "      for i in range(len(deltas)):\n",
        "\n",
        "            d = deltas[i]\n",
        "\n",
        "            lp = logprob[i][actions[i]]\n",
        "\n",
        "            policy_loss.append(-d * lp)\n",
        "      policy_optimizer.zero_grad()\n",
        "      #print(policy_loss,len(actions))\n",
        "      sum(policy_loss).backward()\n",
        "      torch.nn.utils.clip_grad_norm_(policy_network.parameters(), 2)\n",
        "      policy_optimizer.step()\n",
        "      avg_rewards = np.mean(total_rewards1[-100:])\n",
        "      regret = regret - avg_rewards\n",
        "\n",
        "      ep +=1\n",
        "      if ep%400 == 0:\n",
        "          print(\"Ep:\",ep,\"last 100 episodes reward is  :\",avg_rewards, end=\"\\n\")\n",
        "    avg_regret = avg_regret + regret\n",
        "    for i in range(len(total_rewards1)):\n",
        "            reward_per_ep[i] += total_rewards1[i]\n",
        "    if ep < min_ep:\n",
        "          min_ep = ep\n",
        "    print(\"problem solved at episode\",ep)\n",
        "\n",
        "  for i in range(len(reward_per_ep)):\n",
        "      reward_per_ep[i] = reward_per_ep[i] / 5\n",
        "  return avg_regret / 5, reward_per_ep, min_ep\n",
        "\n"
      ],
      "metadata": {
        "id": "7yMQELj6OWQP"
      },
      "execution_count": null,
      "outputs": []
    },
    {
      "cell_type": "code",
      "source": [
        "\n",
        "\n",
        "# Define the objective function\n",
        "def avg_over_5_runs(params):\n",
        "\n",
        "    regret_avg = 0\n",
        "    reward_per_ep = [0 for i in range(10000)]\n",
        "    reward_per_ep_list = [[475,475,475,475,475] for i in range(5000)]\n",
        "    min_ep = 10000\n",
        "    print(params,\"Its just getting started \")\n",
        "    for iteration in range(5):\n",
        "      seed = seed_list[iteration]\n",
        "      policy_network = PolicyNetwork(env.observation_space.shape[0], env.action_space.n,seed,params[\"network_size\"])\n",
        "      stateval_network = StateValueNetwork(env.observation_space.shape[0],seed,params[\"network_size\"])\n",
        "      reset_weights(policy_network)\n",
        "      reset_weights(stateval_network)\n",
        "      policy_optimizer = optim.Adam(policy_network.parameters(), params[\"LR\"])\n",
        "      stateval_optimizer = optim.Adam(stateval_network.parameters(), params[\"LR\"])\n",
        "      ep = 0\n",
        "      action_space = np.arange(env.action_space.n)\n",
        "      total_rewards = []\n",
        "      avg_rewards_list = []\n",
        "      regret = 0\n",
        "      while ep < NUM_EPISODES:\n",
        "        state = env.reset()\n",
        "        states = []\n",
        "        rewards = []\n",
        "        actions = []\n",
        "        done = False\n",
        "        while done == False:\n",
        "          state = torch.from_numpy(state).float().unsqueeze(0)[0]\n",
        "          action_probability = policy_network.forward(state).detach().numpy()\n",
        "          action = np.random.choice(action_space,p=action_probability)\n",
        "          state.detach()\n",
        "          next_state,r,done,_ = env.step(action)\n",
        "          states.append(state)\n",
        "          rewards.append(r)\n",
        "          actions.append(action)\n",
        "          if done :\n",
        "            break\n",
        "          state = next_state\n",
        "\n",
        "        total_rewards.append(sum(rewards))\n",
        "\n",
        "        G = process_rewards(rewards,gamma)\n",
        "        G = torch.FloatTensor(G)\n",
        "\n",
        "        rewards = torch.FloatTensor(rewards)\n",
        "\n",
        "        policy_optimizer.zero_grad()\n",
        "\n",
        "        state_vals = []\n",
        "\n",
        "        for st in states:\n",
        "            st = st.float().unsqueeze(0)[0]\n",
        "\n",
        "            state_vals.append(stateval_network(st))\n",
        "        state_vals = torch.stack(state_vals).squeeze()\n",
        "        #print(state_vals)\n",
        "        train_value(G, state_vals, stateval_optimizer)\n",
        "\n",
        "        deltas = [gt - val for gt, val in zip(G, state_vals)]\n",
        "        deltas = torch.tensor(deltas)\n",
        "        logprob = [torch.log(policy_network.forward(states[i])) for i in range(len(deltas))]\n",
        "        policy_loss = []\n",
        "        for i in range(len(deltas)):\n",
        "\n",
        "              d = deltas[i]\n",
        "\n",
        "              lp = logprob[i][actions[i]]\n",
        "\n",
        "              policy_loss.append(-d * lp)\n",
        "        policy_optimizer.zero_grad()\n",
        "        #print(policy_loss,len(actions))\n",
        "        sum(policy_loss).backward()\n",
        "        torch.nn.utils.clip_grad_norm_(policy_network.parameters(), 2)\n",
        "        policy_optimizer.step()\n",
        "        avg_rewards = np.mean(total_rewards[-100:])\n",
        "        avg_rewards_list.append(avg_rewards)\n",
        "        ep +=1\n",
        "        if ep % 400  == 0:\n",
        "          print(\"Ep:\",ep,\"last 100 episodes reward is  :\",avg_rewards, end=\"\\n\")\n",
        "\n",
        "        regret -=  avg_rewards\n",
        "        for j in range(len(avg_rewards_list)):\n",
        "            #print(reward_per_ep_list[j])\n",
        "            reward_per_ep_list[j][iteration] = avg_rewards_list[j]\n",
        "      print(iteration,params,regret)\n",
        "      regret_avg += regret\n",
        "      '''for i in range(len(total_rewards)):\n",
        "            reward_per_ep[i] += total_rewards[i]'''\n",
        "      if ep < min_ep:\n",
        "            min_ep = ep\n",
        "      print(params,regret)\n",
        "      regret_avg += regret\n",
        "    print(\"regret_avg:\",regret_avg,\"for\",params)\n",
        "    for i in range(len(reward_per_ep_list)):\n",
        "      if len(reward_per_ep_list[i]) == 5:\n",
        "        #print(reward_per_ep_list[i],\"oohoo\")\n",
        "        reward_per_ep[i] = sum(reward_per_ep_list[i])/5\n",
        "      else:\n",
        "        k = 5 - len(reward_per_ep_list[i])\n",
        "        for h in range(k):\n",
        "          reward_per_ep_list.append(475)\n",
        "        reward_per_ep[i] = sum(reward_per_ep_list[i])/5\n",
        "        #print(reward_per_ep[i],'ohoooo')\n",
        "    return regret_avg/5,reward_per_ep, min_ep,reward_per_ep_list"
      ],
      "metadata": {
        "id": "YjeLQQYBNNuT"
      },
      "execution_count": null,
      "outputs": []
    },
    {
      "cell_type": "code",
      "execution_count": null,
      "metadata": {
        "id": "_9cC2bfdvMht"
      },
      "outputs": [],
      "source": [
        "params_with_baseline = {\"LR\": 0.0002264 , \"network_size\": 64}"
      ]
    },
    {
      "cell_type": "code",
      "source": [
        "import matplotlib.pyplot as plt\n",
        "print(\"average regret = \",L_without_baseline[0] )\n",
        "plot_reward_without_baseline =  L_without_baseline[1][:L_without_baseline[2]]\n",
        "\n",
        "plt.plot(plot_reward_without_baseline, label='Without Baseline')\n",
        "\n",
        "plt.plot()\n",
        "plt.xlabel('Episode')\n",
        "plt.ylabel('Reward')\n",
        "plt.legend()\n",
        "plt.show()"
      ],
      "metadata": {
        "colab": {
          "base_uri": "https://localhost:8080/",
          "height": 466
        },
        "id": "lYv_ixtfxeXD",
        "outputId": "9b36d614-7dcc-45a6-ef8d-5eda451b9e4a"
      },
      "execution_count": null,
      "outputs": [
        {
          "output_type": "stream",
          "name": "stdout",
          "text": [
            "average regret =  2261903.082916007\n"
          ]
        },
        {
          "output_type": "display_data",
          "data": {
            "text/plain": [
              "<Figure size 640x480 with 1 Axes>"
            ],
            "image/png": "[encoded data removed]"
          },
          "metadata": {}
        }
      ]
    },
    {
      "cell_type": "code",
      "source": [
        "L_with_baseline = avg_over_5_runs(params_with_baseline)"
      ],
      "metadata": {
        "id": "SDeW_gWBOf40",
        "colab": {
          "base_uri": "https://localhost:8080/"
        },
        "outputId": "87130f8f-6caa-4203-b096-0d3ce4906ed8"
      },
      "execution_count": null,
      "outputs": [
        {
          "output_type": "stream",
          "name": "stdout",
          "text": [
            "{'LR': 0.0002264, 'network_size': 64} Its just getting started \n",
            "Ep: 400 last 100 episodes reward is  : -345.15\n",
            "Ep: 800 last 100 episodes reward is  : -256.25\n",
            "Ep: 1200 last 100 episodes reward is  : -197.74\n",
            "Ep: 1600 last 100 episodes reward is  : -159.12\n",
            "Ep: 2000 last 100 episodes reward is  : -131.65\n",
            "Ep: 2400 last 100 episodes reward is  : -118.23\n",
            "Ep: 2800 last 100 episodes reward is  : -105.22\n",
            "Ep: 3200 last 100 episodes reward is  : -94.19\n",
            "Ep: 3600 last 100 episodes reward is  : -91.57\n",
            "Ep: 4000 last 100 episodes reward is  : -95.31\n",
            "Ep: 4400 last 100 episodes reward is  : -88.67\n",
            "Ep: 4800 last 100 episodes reward is  : -85.78\n",
            "0 {'LR': 0.0002264, 'network_size': 64} 818779.1532035717\n",
            "{'LR': 0.0002264, 'network_size': 64} 818779.1532035717\n",
            "Ep: 400 last 100 episodes reward is  : -395.52\n",
            "Ep: 800 last 100 episodes reward is  : -282.0\n",
            "Ep: 1200 last 100 episodes reward is  : -218.68\n",
            "Ep: 1600 last 100 episodes reward is  : -172.41\n",
            "Ep: 2000 last 100 episodes reward is  : -134.11\n",
            "Ep: 2400 last 100 episodes reward is  : -119.72\n",
            "Ep: 2800 last 100 episodes reward is  : -114.19\n",
            "Ep: 3200 last 100 episodes reward is  : -99.67\n",
            "Ep: 3600 last 100 episodes reward is  : -97.64\n",
            "Ep: 4000 last 100 episodes reward is  : -90.88\n",
            "Ep: 4400 last 100 episodes reward is  : -93.46\n",
            "Ep: 4800 last 100 episodes reward is  : -89.34\n",
            "1 {'LR': 0.0002264, 'network_size': 64} 859981.9000000019\n",
            "{'LR': 0.0002264, 'network_size': 64} 859981.9000000019\n",
            "Ep: 400 last 100 episodes reward is  : -356.01\n",
            "Ep: 800 last 100 episodes reward is  : -260.61\n",
            "Ep: 1200 last 100 episodes reward is  : -202.95\n",
            "Ep: 1600 last 100 episodes reward is  : -152.68\n",
            "Ep: 2000 last 100 episodes reward is  : -122.53\n",
            "Ep: 2400 last 100 episodes reward is  : -111.38\n",
            "Ep: 2800 last 100 episodes reward is  : -103.57\n",
            "Ep: 3200 last 100 episodes reward is  : -100.56\n",
            "Ep: 3600 last 100 episodes reward is  : -93.14\n",
            "Ep: 4000 last 100 episodes reward is  : -88.65\n",
            "Ep: 4400 last 100 episodes reward is  : -88.96\n",
            "Ep: 4800 last 100 episodes reward is  : -89.54\n",
            "2 {'LR': 0.0002264, 'network_size': 64} 820000.5074068308\n",
            "{'LR': 0.0002264, 'network_size': 64} 820000.5074068308\n",
            "Ep: 400 last 100 episodes reward is  : -483.53\n",
            "Ep: 800 last 100 episodes reward is  : -403.24\n",
            "Ep: 1200 last 100 episodes reward is  : -236.5\n",
            "Ep: 1600 last 100 episodes reward is  : -158.71\n",
            "Ep: 2000 last 100 episodes reward is  : -141.77\n",
            "Ep: 2400 last 100 episodes reward is  : -115.33\n",
            "Ep: 2800 last 100 episodes reward is  : -105.7\n",
            "Ep: 3200 last 100 episodes reward is  : -100.65\n",
            "Ep: 3600 last 100 episodes reward is  : -93.07\n",
            "Ep: 4000 last 100 episodes reward is  : -91.08\n",
            "Ep: 4400 last 100 episodes reward is  : -86.19\n",
            "Ep: 4800 last 100 episodes reward is  : -88.47\n",
            "3 {'LR': 0.0002264, 'network_size': 64} 938603.4254030577\n",
            "{'LR': 0.0002264, 'network_size': 64} 938603.4254030577\n",
            "Ep: 400 last 100 episodes reward is  : -430.17\n",
            "Ep: 800 last 100 episodes reward is  : -332.83\n",
            "Ep: 1200 last 100 episodes reward is  : -218.09\n",
            "Ep: 1600 last 100 episodes reward is  : -157.33\n",
            "Ep: 2000 last 100 episodes reward is  : -136.25\n",
            "Ep: 2400 last 100 episodes reward is  : -121.27\n",
            "Ep: 2800 last 100 episodes reward is  : -108.97\n",
            "Ep: 3200 last 100 episodes reward is  : -94.6\n",
            "Ep: 3600 last 100 episodes reward is  : -95.11\n",
            "Ep: 4000 last 100 episodes reward is  : -90.25\n",
            "Ep: 4400 last 100 episodes reward is  : -87.96\n",
            "Ep: 4800 last 100 episodes reward is  : -89.94\n",
            "4 {'LR': 0.0002264, 'network_size': 64} 901962.589890565\n",
            "{'LR': 0.0002264, 'network_size': 64} 901962.589890565\n",
            "regret_avg: 8678655.151808053 for {'LR': 0.0002264, 'network_size': 64}\n"
          ]
        }
      ]
    },
    {
      "cell_type": "code",
      "source": [
        "import matplotlib.pyplot as plt\n",
        "print(\"average regret = \",L_without_baseline[0] )\n",
        "plot_reward_without_baseline =  L_without_baseline[1][:L_without_baseline[2]]\n",
        "plot_reward_with_baseline =  L_with_baseline[1][:L_with_baseline[2]]\n",
        "plt.plot(plot_reward_without_baseline, label='Without Baseline')\n",
        "plt.plot(plot_reward_with_baseline, label='With Baseline')\n",
        "plt.plot()\n",
        "plt.xlabel('Episode')\n",
        "plt.ylabel('Reward')\n",
        "plt.legend()\n",
        "plt.show()"
      ],
      "metadata": {
        "id": "9u3L3FSyO8ZI",
        "colab": {
          "base_uri": "https://localhost:8080/",
          "height": 466
        },
        "outputId": "2674755a-6986-4b90-e1ef-221f02d5ab05"
      },
      "execution_count": null,
      "outputs": [
        {
          "output_type": "stream",
          "name": "stdout",
          "text": [
            "average regret =  2261903.082916007\n"
          ]
        },
        {
          "output_type": "display_data",
          "data": {
            "text/plain": [
              "<Figure size 640x480 with 1 Axes>"
            ],
            "image/png": "[encoded data removed]"
          },
          "metadata": {}
        }
      ]
    },
    {
      "cell_type": "code",
      "source": [
        "without_baseline_list=L_without_baseline[-1]\n",
        "means_without_baseline = [np.mean(sublist) for sublist in without_baseline_list]\n",
        "std_devs_without_baseline = [np.std(sublist) for sublist in without_baseline_list]\n",
        "means_with_baseline = [np.mean(sublist) for sublist in L_with_baseline[-1]]\n",
        "std_devs_with_baseline = [np.std(sublist) for sublist in L_with_baseline[-1]]\n",
        "plt.plot(means_without_baseline, label='without_baseline')\n",
        "plt.fill_between(range(len(means_without_baseline)), np.subtract(means_without_baseline, std_devs_without_baseline), np.add(means_without_baseline, std_devs_without_baseline), alpha=0.3, label='Mean ± Std Dev')\n",
        "plt.plot(means_with_baseline, label='with baseline')\n",
        "plt.fill_between(range(len(means_with_baseline)), np.subtract(means_with_baseline, std_devs_with_baseline), np.add(means_with_baseline, std_devs_with_baseline), alpha=0.3, label='Mean ± Std Dev')\n",
        "plt.xlabel('Episode number')\n",
        "plt.ylabel('Average episodic return')\n",
        "#plt.title('Mean and Standard Deviation of Sublists')\n",
        "plt.legend()\n",
        "plt.grid(True)\n",
        "plt.show()"
      ],
      "metadata": {
        "id": "LkgkJ4k1Pt2O",
        "colab": {
          "base_uri": "https://localhost:8080/",
          "height": 449
        },
        "outputId": "16c5dc71-7144-430d-9ba3-b508fc0e2d3d"
      },
      "execution_count": null,
      "outputs": [
        {
          "output_type": "display_data",
          "data": {
            "text/plain": [
              "<Figure size 640x480 with 1 Axes>"
            ],
            "image/png": "[encoded data removed]"
          },
          "metadata": {}
        }
      ]
    },
    {
      "cell_type": "code",
      "source": [],
      "metadata": {
        "id": "78Uh-zBqNQqE"
      },
      "execution_count": null,
      "outputs": []
    }
  ],
  "metadata": {
    "colab": {
      "provenance": [],
      "gpuType": "T4"
    },
    "kernelspec": {
      "display_name": "Python 3",
      "name": "python3"
    },
    "language_info": {
      "name": "python"
    },
    "accelerator": "GPU"
  },
  "nbformat": 4,
  "nbformat_minor": 0
}