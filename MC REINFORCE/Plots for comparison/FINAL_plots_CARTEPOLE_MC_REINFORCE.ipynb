{
  "cells": [
    {
      "cell_type": "code",
      "execution_count": null,
      "metadata": {
        "id": "eMDMQ81o0Asx"
      },
      "outputs": [],
      "source": [
        "import torch\n",
        "import torch.nn as nn\n",
        "import torch.nn.functional as F\n",
        "import torch.optim as optim\n",
        "from torch.distributions import Categorical\n",
        "\n",
        "import gym\n",
        "from tqdm import tqdm_notebook\n",
        "import numpy as np\n",
        "from collections import deque"
      ]
    },
    {
      "cell_type": "code",
      "execution_count": null,
      "metadata": {
        "colab": {
          "base_uri": "https://localhost:8080/"
        },
        "id": "shstWM5M0GmH",
        "outputId": "e8726e50-ac30-498e-94f3-8624a8bd5c99"
      },
      "outputs": [
        {
          "output_type": "stream",
          "name": "stderr",
          "text": [
            "/usr/local/lib/python3.10/dist-packages/ipykernel/ipkernel.py:283: DeprecationWarning: `should_run_async` will not call `transform_cell` automatically in the future. Please pass the result to `transformed_cell` argument and any exception that happen during thetransform in `preprocessing_exc_tuple` in IPython 7.17 and above.\n",
            "  and should_run_async(code)\n"
          ]
        }
      ],
      "source": [
        "#discount factor for future utilities\n",
        "DISCOUNT_FACTOR = 0.99\n",
        "gamma = 0.99\n",
        "#number of episodes to run\n",
        "NUM_EPISODES = 5000\n",
        "\n",
        "#max steps per episode\n",
        "MAX_STEPS = 10000\n",
        "\n",
        "#score agent needs for environment to be solved\n",
        "SOLVED_SCORE = 475\n",
        "\n",
        "#device to run model on\n",
        "DEVICE = \"cuda\" if torch.cuda.is_available() else \"cpu\""
      ]
    },
    {
      "cell_type": "code",
      "execution_count": null,
      "metadata": {
        "id": "zUzMP6SW0JiN"
      },
      "outputs": [],
      "source": [
        "class PolicyNetwork(nn.Module):\n",
        "  def __init__(self, observation_space, action_space,seed,layer_size):\n",
        "        super(PolicyNetwork, self).__init__()\n",
        "        self.seed = torch.manual_seed(seed)\n",
        "        self.input_layer = nn.Linear(observation_space, layer_size)\n",
        "        self.output_layer = nn.Linear(layer_size, action_space)\n",
        "  def forward(self, x):\n",
        "        x = self.input_layer(x)\n",
        "        x = F.relu(x)\n",
        "        actions = self.output_layer(x)\n",
        "        action_probs = F.softmax(actions, dim=-1)\n",
        "        return action_probs"
      ]
    },
    {
      "cell_type": "code",
      "execution_count": null,
      "metadata": {
        "id": "tRTcs42v1SnQ"
      },
      "outputs": [],
      "source": [
        "\n",
        "class StateValueNetwork(nn.Module):\n",
        "    def __init__(self, observation_space,seed,layer_size):\n",
        "        super(StateValueNetwork, self).__init__()\n",
        "        self.seed = torch.manual_seed(seed)\n",
        "        self.input_layer = nn.Linear(observation_space, layer_size)\n",
        "        self.output_layer = nn.Linear(layer_size, 1)\n",
        "    def forward(self, x):\n",
        "        x = self.input_layer(x)\n",
        "        x = F.relu(x)\n",
        "        state_value = self.output_layer(x)\n",
        "        return state_value"
      ]
    },
    {
      "cell_type": "code",
      "execution_count": null,
      "metadata": {
        "id": "fjmFbOmX1Zy8"
      },
      "outputs": [],
      "source": [
        "def process_rewards(rewards,gamma):\n",
        "    G = []\n",
        "    total_r = 0\n",
        "    for r in reversed(rewards):\n",
        "        total_r = r + total_r * DISCOUNT_FACTOR\n",
        "        G.insert(0, total_r)\n",
        "    G = torch.tensor(G)\n",
        "    #G = (G - G.mean())/G.std()\n",
        "    return G"
      ]
    },
    {
      "cell_type": "code",
      "execution_count": null,
      "metadata": {
        "id": "LgawT7xh3RWt"
      },
      "outputs": [],
      "source": [
        "def train_value(G, state_vals, optimizer):\n",
        "    val_loss = F.mse_loss(state_vals, G)\n",
        "    optimizer.zero_grad()\n",
        "    val_loss.backward()\n",
        "    optimizer.step()"
      ]
    },
    {
      "cell_type": "code",
      "execution_count": null,
      "metadata": {
        "colab": {
          "base_uri": "https://localhost:8080/",
          "height": 125
        },
        "id": "mL7BCLUX3e6a",
        "outputId": "b549a5c9-dda6-42fa-c465-0260426758ca"
      },
      "outputs": [
        {
          "output_type": "stream",
          "name": "stderr",
          "text": [
            "/usr/local/lib/python3.10/dist-packages/gym/core.py:317: DeprecationWarning: \u001b[33mWARN: Initializing wrapper in old step API which returns one bool instead of two. It is recommended to set `new_step_api=True` to use new step API. This will be the default behaviour in future.\u001b[0m\n",
            "  deprecation(\n",
            "/usr/local/lib/python3.10/dist-packages/gym/wrappers/step_api_compatibility.py:39: DeprecationWarning: \u001b[33mWARN: Initializing environment in old step API which returns one bool instead of two. It is recommended to set `new_step_api=True` to use new step API. This will be the default behaviour in future.\u001b[0m\n",
            "  deprecation(\n"
          ]
        },
        {
          "output_type": "execute_result",
          "data": {
            "text/plain": [
              "'\\npolicy_network = PolicyNetwork(env.observation_space.shape[0], env.action_space.n)\\nstateval_network = StateValueNetwork(env.observation_space.shape[0])'"
            ],
            "application/vnd.google.colaboratory.intrinsic+json": {
              "type": "string"
            }
          },
          "metadata": {},
          "execution_count": 7
        }
      ],
      "source": [
        "#Make environment\n",
        "#env = gym.make('Acrobot-v1')\n",
        "env = gym.make('CartPole-v1')\n",
        "#Init network\n",
        "'''\n",
        "policy_network = PolicyNetwork(env.observation_space.shape[0], env.action_space.n)\n",
        "stateval_network = StateValueNetwork(env.observation_space.shape[0])'''\n",
        "\n",
        "\n",
        "#Init optimizer\n"
      ]
    },
    {
      "cell_type": "code",
      "execution_count": null,
      "metadata": {
        "id": "eClLxjLqU3rI"
      },
      "outputs": [],
      "source": [
        "seed_list = [1,42,30,25,17]"
      ]
    },
    {
      "cell_type": "code",
      "execution_count": null,
      "metadata": {
        "id": "QMYp_9UEiWxY"
      },
      "outputs": [],
      "source": [
        "def reset_weights(model):\n",
        "    for layer in model.children():\n",
        "        if hasattr(layer, 'reset_parameters'):\n",
        "            layer.reset_parameters()"
      ]
    },
    {
      "cell_type": "code",
      "execution_count": null,
      "metadata": {
        "id": "Yr0q-YJXLkTq"
      },
      "outputs": [],
      "source": [
        "# Define the objective function\n",
        "def objective(params):\n",
        "    eps_list = []\n",
        "    regret_avg = 0\n",
        "    reward_per_ep= [0 for i in range(5000)]\n",
        "    reward_per_ep_list = [[475,475,475,475,475] for i in range(5000)]\n",
        "    min_ep = 5000\n",
        "    print(params,\"Its just getting started \")\n",
        "    for iteration in range(5):\n",
        "      #c= 0\n",
        "      seed = seed_list[iteration]\n",
        "      policy_network = PolicyNetwork(env.observation_space.shape[0], env.action_space.n,seed,params[\"network_size\"])\n",
        "      stateval_network = StateValueNetwork(env.observation_space.shape[0],seed,params[\"network_size\"])\n",
        "      reset_weights(policy_network)\n",
        "      reset_weights(stateval_network)\n",
        "      policy_optimizer = optim.Adam(policy_network.parameters(), params[\"LR\"])\n",
        "      stateval_optimizer = optim.Adam(stateval_network.parameters(), params[\"LR\"])\n",
        "      ep = 0\n",
        "      action_space = np.arange(env.action_space.n)\n",
        "      total_rewards = []\n",
        "      avg_rewards_list = []\n",
        "      regret = 0\n",
        "      while ep < NUM_EPISODES:\n",
        "        state = env.reset()\n",
        "        states = []\n",
        "        rewards = []\n",
        "        actions = []\n",
        "        done = False\n",
        "        while done == False:\n",
        "          state = torch.from_numpy(state).float().unsqueeze(0)[0]\n",
        "          action_probability = policy_network.forward(state).detach().numpy()\n",
        "          if np.isnan(action_probability).any():\n",
        "            return float('inf')\n",
        "          else:\n",
        "            action = np.random.choice(action_space,p=action_probability)\n",
        "            state.detach()\n",
        "            next_state,r,done,_ = env.step(action)\n",
        "            states.append(state)\n",
        "            rewards.append(r)\n",
        "            actions.append(action)\n",
        "            if done :\n",
        "              break\n",
        "            state = next_state\n",
        "        total_rewards.append(sum(rewards))\n",
        "        G = process_rewards(rewards,gamma)\n",
        "        G = torch.FloatTensor(G)\n",
        "        rewards = torch.FloatTensor(rewards)\n",
        "        policy_optimizer.zero_grad()\n",
        "        deltas = [gt for gt in zip(G)]\n",
        "        deltas = torch.tensor(deltas)\n",
        "        logprob = [torch.log(policy_network.forward(states[i])) for i in range(len(deltas))]\n",
        "        policy_loss = []\n",
        "        for i in range(len(deltas)):\n",
        "              d = deltas[i]\n",
        "              lp = logprob[i][actions[i]]\n",
        "              policy_loss.append(-d * lp)\n",
        "        policy_optimizer.zero_grad()\n",
        "        #print(policy_loss,len(actions))\n",
        "        sum(policy_loss).backward()\n",
        "        policy_optimizer.step()\n",
        "        avg_rewards = np.mean(total_rewards[-100:])\n",
        "        avg_rewards_list.append(avg_rewards)\n",
        "        ep +=1\n",
        "        if ep % 400  == 0:\n",
        "          print(\"Ep:\",ep,\"last 100 episodes reward is  :\",avg_rewards, end=\"\\n\")\n",
        "        if avg_rewards > 475 :\n",
        "            #c= 1\n",
        "            print(\"problem solved at episode\",ep)\n",
        "            eps_list.append(ep)\n",
        "            if ep < min_ep:\n",
        "              min_ep = ep\n",
        "            break\n",
        "        regret += 475 - avg_rewards\n",
        "      for j in range(len(avg_rewards_list)):\n",
        "            #print(reward_per_ep_list[j])\n",
        "            reward_per_ep_list[j][iteration] = avg_rewards_list[j]\n",
        "      print(iteration,params,regret)\n",
        "      regret_avg += regret\n",
        "    print(\"regret_avg:\",regret_avg,\"for\",params)\n",
        "    for i in range(len(reward_per_ep_list)):\n",
        "      if len(reward_per_ep_list[i]) == 5:\n",
        "        #print(reward_per_ep_list[i],\"oohoo\")\n",
        "        reward_per_ep[i] = sum(reward_per_ep_list[i])/5\n",
        "      else:\n",
        "        k = 5 - len(reward_per_ep_list[i])\n",
        "        for h in range(k):\n",
        "          reward_per_ep_list.append(475)\n",
        "        reward_per_ep[i] = sum(reward_per_ep_list[i])/5\n",
        "        #print(reward_per_ep[i],'ohoooo')\n",
        "    return regret_avg/5 , reward_per_ep, min_ep,eps_list,reward_per_ep_list\n",
        "\n",
        "\n",
        "\n",
        "\n",
        "\n",
        "\n"
      ]
    },
    {
      "cell_type": "code",
      "execution_count": null,
      "metadata": {
        "id": "HJdaEEBPNw6U"
      },
      "outputs": [],
      "source": [
        "\n",
        "params_without_baseline = {\"LR\": 0.00373 , \"network_size\": 64}"
      ]
    },
    {
      "cell_type": "code",
      "execution_count": null,
      "metadata": {
        "colab": {
          "base_uri": "https://localhost:8080/"
        },
        "id": "Jx1zGcYDpIRL",
        "outputId": "212ba614-c633-41b0-c0e5-889b3b6b2043"
      },
      "outputs": [
        {
          "output_type": "stream",
          "name": "stdout",
          "text": [
            "{'LR': 0.00373, 'network_size': 64} Its just getting started \n"
          ]
        },
        {
          "output_type": "stream",
          "name": "stderr",
          "text": [
            "/usr/local/lib/python3.10/dist-packages/gym/utils/passive_env_checker.py:241: DeprecationWarning: `np.bool8` is a deprecated alias for `np.bool_`.  (Deprecated NumPy 1.24)\n",
            "  if not isinstance(terminated, (bool, np.bool8)):\n"
          ]
        },
        {
          "output_type": "stream",
          "name": "stdout",
          "text": [
            "Ep: 400 last 100 episodes reward is  : 291.84\n",
            "problem solved at episode 624\n",
            "0 {'LR': 0.00373, 'network_size': 64} 171627.87389433375\n",
            "Ep: 400 last 100 episodes reward is  : 265.61\n",
            "problem solved at episode 731\n",
            "1 {'LR': 0.00373, 'network_size': 64} 198869.60306490393\n",
            "Ep: 400 last 100 episodes reward is  : 144.38\n",
            "problem solved at episode 541\n",
            "2 {'LR': 0.00373, 'network_size': 64} 171776.0339195884\n",
            "Ep: 400 last 100 episodes reward is  : 460.32\n",
            "problem solved at episode 514\n",
            "3 {'LR': 0.00373, 'network_size': 64} 128018.90171249381\n",
            "Ep: 400 last 100 episodes reward is  : 134.63\n",
            "problem solved at episode 685\n",
            "4 {'LR': 0.00373, 'network_size': 64} 194056.25378253276\n",
            "regret_avg: 864348.6663738528 for {'LR': 0.00373, 'network_size': 64}\n"
          ]
        }
      ],
      "source": [
        "L_without_baseline = objective(params_without_baseline)"
      ]
    },
    {
      "cell_type": "code",
      "source": [
        "# Define the objective function\n",
        "def average_over_5_runs(params):\n",
        "    eps_list = []\n",
        "    regret_avg = 0\n",
        "    reward_per_ep= [0 for i in range(5000)]\n",
        "    reward_per_ep_list = [[475,475,475,475,475] for i in range(5000)]\n",
        "    min_ep = 5000\n",
        "    print(params,\"Its just getting started \")\n",
        "    for iteration in range(5):\n",
        "      #c= 0\n",
        "      seed = seed_list[iteration]\n",
        "      policy_network = PolicyNetwork(env.observation_space.shape[0], env.action_space.n,seed,params[\"network_size\"])\n",
        "      stateval_network = StateValueNetwork(env.observation_space.shape[0],seed,params[\"network_size\"])\n",
        "      reset_weights(policy_network)\n",
        "      reset_weights(stateval_network)\n",
        "      policy_optimizer = optim.Adam(policy_network.parameters(), params[\"LR\"])\n",
        "      stateval_optimizer = optim.Adam(stateval_network.parameters(), params[\"LR\"])\n",
        "      ep = 0\n",
        "      action_space = np.arange(env.action_space.n)\n",
        "      total_rewards = []\n",
        "      avg_rewards_list = []\n",
        "      regret = 0\n",
        "      while ep < NUM_EPISODES:\n",
        "        state = env.reset()\n",
        "        states = []\n",
        "        rewards = []\n",
        "        actions = []\n",
        "        done = False\n",
        "        while done == False:\n",
        "          state = torch.from_numpy(state).float().unsqueeze(0)[0]\n",
        "          action_probability = policy_network.forward(state).detach().numpy()\n",
        "          if np.isnan(action_probability).any():\n",
        "            return float('inf')\n",
        "          else:\n",
        "            action = np.random.choice(action_space,p=action_probability)\n",
        "            state.detach()\n",
        "            next_state,r,done,_ = env.step(action)\n",
        "            states.append(state)\n",
        "            rewards.append(r)\n",
        "            actions.append(action)\n",
        "            if done :\n",
        "              break\n",
        "            state = next_state\n",
        "        total_rewards.append(sum(rewards))\n",
        "        G = process_rewards(rewards,gamma)\n",
        "        G = torch.FloatTensor(G)\n",
        "        rewards = torch.FloatTensor(rewards)\n",
        "\n",
        "        policy_optimizer.zero_grad()\n",
        "        state_vals = []\n",
        "\n",
        "        for st in states:\n",
        "          st = st.float().unsqueeze(0)[0]\n",
        "\n",
        "          state_vals.append(stateval_network(st))\n",
        "        state_vals = torch.stack(state_vals).squeeze()\n",
        "        #print(state_vals)\n",
        "        train_value(G, state_vals, stateval_optimizer)\n",
        "\n",
        "        deltas = [gt - val for gt, val in zip(G, state_vals)]\n",
        "        deltas = torch.tensor(deltas)\n",
        "        policy_optimizer.zero_grad()\n",
        "\n",
        "\n",
        "        logprob = [torch.log(policy_network.forward(states[i])) for i in range(len(deltas))]\n",
        "        policy_loss = []\n",
        "        for i in range(len(deltas)):\n",
        "              d = deltas[i]\n",
        "              lp = logprob[i][actions[i]]\n",
        "              policy_loss.append(-d * lp)\n",
        "        policy_optimizer.zero_grad()\n",
        "        #print(policy_loss,len(actions))\n",
        "        sum(policy_loss).backward()\n",
        "        policy_optimizer.step()\n",
        "        avg_rewards = np.mean(total_rewards[-100:])\n",
        "        avg_rewards_list.append(avg_rewards)\n",
        "        ep +=1\n",
        "        if ep % 400  == 0:\n",
        "          print(\"Ep:\",ep,\"last 100 episodes reward is  :\",avg_rewards, end=\"\\n\")\n",
        "        if avg_rewards > 475 :\n",
        "            #c= 1\n",
        "            print(\"problem solved at episode\",ep)\n",
        "            eps_list.append(ep)\n",
        "            if ep < min_ep:\n",
        "              min_ep = ep\n",
        "            break\n",
        "        regret += 475 - avg_rewards\n",
        "      for j in range(len(avg_rewards_list)):\n",
        "            #print(reward_per_ep_list[j])\n",
        "            reward_per_ep_list[j][iteration] = avg_rewards_list[j]\n",
        "      print(iteration,params,regret)\n",
        "      regret_avg += regret\n",
        "    print(\"regret_avg:\",regret_avg,\"for\",params)\n",
        "    for i in range(len(reward_per_ep_list)):\n",
        "      if len(reward_per_ep_list[i]) == 5:\n",
        "        #print(reward_per_ep_list[i],\"oohoo\")\n",
        "        reward_per_ep[i] = sum(reward_per_ep_list[i])/5\n",
        "      else:\n",
        "        k = 5 - len(reward_per_ep_list[i])\n",
        "        for h in range(k):\n",
        "          reward_per_ep_list.append(475)\n",
        "        reward_per_ep[i] = sum(reward_per_ep_list[i])/5\n",
        "        #print(reward_per_ep[i],'ohoooo')\n",
        "    return regret_avg/5 , reward_per_ep, min_ep,eps_list,reward_per_ep_list\n",
        "\n",
        "\n",
        "\n",
        "\n",
        "\n",
        "\n"
      ],
      "metadata": {
        "colab": {
          "base_uri": "https://localhost:8080/"
        },
        "id": "2rYzZiVrqtr9",
        "outputId": "139de3a2-29fa-4a13-e69b-62fce0a5668f"
      },
      "execution_count": null,
      "outputs": [
        {
          "output_type": "stream",
          "name": "stderr",
          "text": [
            "/usr/local/lib/python3.10/dist-packages/ipykernel/ipkernel.py:283: DeprecationWarning: `should_run_async` will not call `transform_cell` automatically in the future. Please pass the result to `transformed_cell` argument and any exception that happen during thetransform in `preprocessing_exc_tuple` in IPython 7.17 and above.\n",
            "  and should_run_async(code)\n"
          ]
        }
      ]
    },
    {
      "cell_type": "code",
      "source": [
        "params_with_baseline = {\"LR\": 0.006808 , \"network_size\": 64}"
      ],
      "metadata": {
        "id": "IcASlsxWnS8C"
      },
      "execution_count": null,
      "outputs": []
    },
    {
      "cell_type": "code",
      "source": [
        "L_with_baseline = average_over_5_runs(params_with_baseline)"
      ],
      "metadata": {
        "colab": {
          "base_uri": "https://localhost:8080/"
        },
        "id": "CzPpXWYLnYFH",
        "outputId": "2dd4f115-04e0-4e51-e61d-1c5ea17a2337"
      },
      "execution_count": null,
      "outputs": [
        {
          "output_type": "stream",
          "name": "stdout",
          "text": [
            "{'LR': 0.006808, 'network_size': 64} Its just getting started \n",
            "problem solved at episode 276\n",
            "0 {'LR': 0.006808, 'network_size': 64} 70066.72268092542\n",
            "problem solved at episode 241\n",
            "1 {'LR': 0.006808, 'network_size': 64} 65901.48814231872\n",
            "problem solved at episode 317\n",
            "2 {'LR': 0.006808, 'network_size': 64} 88758.89109069438\n",
            "problem solved at episode 239\n",
            "3 {'LR': 0.006808, 'network_size': 64} 64232.778637767195\n",
            "problem solved at episode 280\n",
            "4 {'LR': 0.006808, 'network_size': 64} 85957.39956618939\n",
            "regret_avg: 374917.2801178951 for {'LR': 0.006808, 'network_size': 64}\n"
          ]
        }
      ]
    },
    {
      "cell_type": "code",
      "source": [
        "import matplotlib.pyplot as plt\n",
        "print(\"average regret = \",L_with_baseline[0] )\n",
        "plot_reward =  L_with_baseline[1]\n",
        "plt.plot(plot_reward)\n",
        "plt.plot()\n",
        "plt.xlabel('Episode')\n",
        "plt.ylabel('Reward')\n",
        "plt.show()"
      ],
      "metadata": {
        "colab": {
          "base_uri": "https://localhost:8080/",
          "height": 466
        },
        "id": "TJRH--D9nfXO",
        "outputId": "1c5982af-422b-4003-a0f4-a1b7e42febeb"
      },
      "execution_count": null,
      "outputs": [
        {
          "output_type": "stream",
          "name": "stdout",
          "text": [
            "average regret =  74983.45602357903\n"
          ]
        },
        {
          "output_type": "display_data",
          "data": {
            "text/plain": [
              "<Figure size 640x480 with 1 Axes>"
            ],
            "image/png": "[encoded data removed]"
          },
          "metadata": {}
        }
      ]
    },
    {
      "cell_type": "code",
      "source": [
        "import matplotlib.pyplot as plt\n",
        "print(\"average regret = \",L_with_baseline[0] )\n",
        "\n",
        "plt.plot(L_with_baseline[1],label='With Baseline')\n",
        "plt.plot(L_without_baseline[1],label='Without Baseline')\n",
        "plt.plot()\n",
        "plt.xlabel('Average Episode')\n",
        "plt.ylabel('Reward')\n",
        "plt.legend()\n",
        "plt.show()"
      ],
      "metadata": {
        "colab": {
          "base_uri": "https://localhost:8080/",
          "height": 466
        },
        "id": "p2IQWdLCnjqT",
        "outputId": "52c0ec97-7158-4fb2-d08c-d53d9f4cf972"
      },
      "execution_count": null,
      "outputs": [
        {
          "output_type": "stream",
          "name": "stdout",
          "text": [
            "average regret =  74983.45602357903\n"
          ]
        },
        {
          "output_type": "display_data",
          "data": {
            "text/plain": [
              "<Figure size 640x480 with 1 Axes>"
            ],
            "image/png": "[encoded data removed]"
          },
          "metadata": {}
        }
      ]
    },
    {
      "cell_type": "code",
      "source": [
        "without_baseline_list=L_without_baseline[-1]"
      ],
      "metadata": {
        "colab": {
          "base_uri": "https://localhost:8080/"
        },
        "id": "glIux22RZT4P",
        "outputId": "6dc475be-5204-4be2-a5e0-a1748187f5da"
      },
      "execution_count": null,
      "outputs": [
        {
          "output_type": "stream",
          "name": "stderr",
          "text": [
            "/usr/local/lib/python3.10/dist-packages/ipykernel/ipkernel.py:283: DeprecationWarning: `should_run_async` will not call `transform_cell` automatically in the future. Please pass the result to `transformed_cell` argument and any exception that happen during thetransform in `preprocessing_exc_tuple` in IPython 7.17 and above.\n",
            "  and should_run_async(code)\n"
          ]
        }
      ]
    },
    {
      "cell_type": "code",
      "source": [
        "means_without_baseline = [np.mean(sublist) for sublist in without_baseline_list]\n",
        "std_devs_without_baseline = [np.std(sublist) for sublist in without_baseline_list]\n",
        "means_with_baseline = [np.mean(sublist) for sublist in L_with_baseline[-1]]\n",
        "std_devs_with_baseline = [np.std(sublist) for sublist in L_with_baseline[-1]]"
      ],
      "metadata": {
        "id": "HqhcQd2-7Bpq"
      },
      "execution_count": null,
      "outputs": []
    },
    {
      "cell_type": "code",
      "source": [],
      "metadata": {
        "id": "Onc_aw32lZpA"
      },
      "execution_count": null,
      "outputs": []
    },
    {
      "cell_type": "markdown",
      "source": [],
      "metadata": {
        "id": "U3984eqIlZbq"
      }
    },
    {
      "cell_type": "code",
      "source": [
        "plt.plot(means_without_baseline, label='without_baseline')\n",
        "plt.fill_between(range(len(means_without_baseline)), np.subtract(means_without_baseline, std_devs_without_baseline), np.add(means_without_baseline, std_devs_without_baseline), alpha=0.3, label='Mean ± Std Dev')\n",
        "plt.plot(means_with_baseline, label='with baseline')\n",
        "plt.fill_between(range(len(means_with_baseline)), np.subtract(means_with_baseline, std_devs_with_baseline), np.add(means_with_baseline, std_devs_with_baseline), alpha=0.3, label='Mean ± Std Dev')\n",
        "plt.xlabel('Episode number')\n",
        "plt.ylabel('Average episodic return')\n",
        "#plt.title('Mean and Standard Deviation of Sublists')\n",
        "plt.legend()\n",
        "plt.grid(True)\n",
        "plt.show()"
      ],
      "metadata": {
        "colab": {
          "base_uri": "https://localhost:8080/",
          "height": 449
        },
        "id": "mpTVQoKbZbBa",
        "outputId": "7d99139f-1b6c-4dac-d6eb-132df2c5cdde"
      },
      "execution_count": null,
      "outputs": [
        {
          "output_type": "display_data",
          "data": {
            "text/plain": [
              "<Figure size 640x480 with 1 Axes>"
            ],
            "image/png": "[encoded data removed]"
          },
          "metadata": {}
        }
      ]
    },
    {
      "cell_type": "code",
      "source": [],
      "metadata": {
        "id": "ANVQW3phZ-tt"
      },
      "execution_count": null,
      "outputs": []
    }
  ],
  "metadata": {
    "accelerator": "GPU",
    "colab": {
      "gpuType": "T4",
      "provenance": []
    },
    "kernelspec": {
      "display_name": "Python 3",
      "name": "python3"
    },
    "language_info": {
      "name": "python"
    }
  },
  "nbformat": 4,
  "nbformat_minor": 0
}