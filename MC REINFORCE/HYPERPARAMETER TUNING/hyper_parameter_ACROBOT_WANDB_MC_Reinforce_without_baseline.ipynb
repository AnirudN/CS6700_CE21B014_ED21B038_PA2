{
  "nbformat": 4,
  "nbformat_minor": 0,
  "metadata": {
    "colab": {
      "provenance": []
    },
    "kernelspec": {
      "name": "python3",
      "display_name": "Python 3"
    },
    "language_info": {
      "name": "python"
    },
    "widgets": {
      "application/vnd.jupyter.widget-state+json": {
        "a8459124c62340509c70e378701572e8": {
          "model_module": "@jupyter-widgets/controls",
          "model_name": "VBoxModel",
          "model_module_version": "1.5.0",
          "state": {
            "_dom_classes": [],
            "_model_module": "@jupyter-widgets/controls",
            "_model_module_version": "1.5.0",
            "_model_name": "VBoxModel",
            "_view_count": null,
            "_view_module": "@jupyter-widgets/controls",
            "_view_module_version": "1.5.0",
            "_view_name": "VBoxView",
            "box_style": "",
            "children": [
              "IPY_MODEL_af2b09839b1c463999a676774b1a078f",
              "IPY_MODEL_af04fc943f3f4db5a66ad26184f0263a"
            ],
            "layout": "IPY_MODEL_ba77c7ca97014a72a3ce6e1a8964fc7f"
          }
        },
        "af2b09839b1c463999a676774b1a078f": {
          "model_module": "@jupyter-widgets/controls",
          "model_name": "LabelModel",
          "model_module_version": "1.5.0",
          "state": {
            "_dom_classes": [],
            "_model_module": "@jupyter-widgets/controls",
            "_model_module_version": "1.5.0",
            "_model_name": "LabelModel",
            "_view_count": null,
            "_view_module": "@jupyter-widgets/controls",
            "_view_module_version": "1.5.0",
            "_view_name": "LabelView",
            "description": "",
            "description_tooltip": null,
            "layout": "IPY_MODEL_51afe711cdbd4b7dbbf285a2bceed3b3",
            "placeholder": "​",
            "style": "IPY_MODEL_b90ec576f55d47728461e259769c3ff6",
            "value": "0.014 MB of 0.014 MB uploaded\r"
          }
        },
        "af04fc943f3f4db5a66ad26184f0263a": {
          "model_module": "@jupyter-widgets/controls",
          "model_name": "FloatProgressModel",
          "model_module_version": "1.5.0",
          "state": {
            "_dom_classes": [],
            "_model_module": "@jupyter-widgets/controls",
            "_model_module_version": "1.5.0",
            "_model_name": "FloatProgressModel",
            "_view_count": null,
            "_view_module": "@jupyter-widgets/controls",
            "_view_module_version": "1.5.0",
            "_view_name": "ProgressView",
            "bar_style": "",
            "description": "",
            "description_tooltip": null,
            "layout": "IPY_MODEL_6386f50febb54b138bd0943c1983c799",
            "max": 1,
            "min": 0,
            "orientation": "horizontal",
            "style": "IPY_MODEL_2a54ddae54684191a71dc01d3af83782",
            "value": 1
          }
        },
        "ba77c7ca97014a72a3ce6e1a8964fc7f": {
          "model_module": "@jupyter-widgets/base",
          "model_name": "LayoutModel",
          "model_module_version": "1.2.0",
          "state": {
            "_model_module": "@jupyter-widgets/base",
            "_model_module_version": "1.2.0",
            "_model_name": "LayoutModel",
            "_view_count": null,
            "_view_module": "@jupyter-widgets/base",
            "_view_module_version": "1.2.0",
            "_view_name": "LayoutView",
            "align_content": null,
            "align_items": null,
            "align_self": null,
            "border": null,
            "bottom": null,
            "display": null,
            "flex": null,
            "flex_flow": null,
            "grid_area": null,
            "grid_auto_columns": null,
            "grid_auto_flow": null,
            "grid_auto_rows": null,
            "grid_column": null,
            "grid_gap": null,
            "grid_row": null,
            "grid_template_areas": null,
            "grid_template_columns": null,
            "grid_template_rows": null,
            "height": null,
            "justify_content": null,
            "justify_items": null,
            "left": null,
            "margin": null,
            "max_height": null,
            "max_width": null,
            "min_height": null,
            "min_width": null,
            "object_fit": null,
            "object_position": null,
            "order": null,
            "overflow": null,
            "overflow_x": null,
            "overflow_y": null,
            "padding": null,
            "right": null,
            "top": null,
            "visibility": null,
            "width": null
          }
        },
        "51afe711cdbd4b7dbbf285a2bceed3b3": {
          "model_module": "@jupyter-widgets/base",
          "model_name": "LayoutModel",
          "model_module_version": "1.2.0",
          "state": {
            "_model_module": "@jupyter-widgets/base",
            "_model_module_version": "1.2.0",
            "_model_name": "LayoutModel",
            "_view_count": null,
            "_view_module": "@jupyter-widgets/base",
            "_view_module_version": "1.2.0",
            "_view_name": "LayoutView",
            "align_content": null,
            "align_items": null,
            "align_self": null,
            "border": null,
            "bottom": null,
            "display": null,
            "flex": null,
            "flex_flow": null,
            "grid_area": null,
            "grid_auto_columns": null,
            "grid_auto_flow": null,
            "grid_auto_rows": null,
            "grid_column": null,
            "grid_gap": null,
            "grid_row": null,
            "grid_template_areas": null,
            "grid_template_columns": null,
            "grid_template_rows": null,
            "height": null,
            "justify_content": null,
            "justify_items": null,
            "left": null,
            "margin": null,
            "max_height": null,
            "max_width": null,
            "min_height": null,
            "min_width": null,
            "object_fit": null,
            "object_position": null,
            "order": null,
            "overflow": null,
            "overflow_x": null,
            "overflow_y": null,
            "padding": null,
            "right": null,
            "top": null,
            "visibility": null,
            "width": null
          }
        },
        "b90ec576f55d47728461e259769c3ff6": {
          "model_module": "@jupyter-widgets/controls",
          "model_name": "DescriptionStyleModel",
          "model_module_version": "1.5.0",
          "state": {
            "_model_module": "@jupyter-widgets/controls",
            "_model_module_version": "1.5.0",
            "_model_name": "DescriptionStyleModel",
            "_view_count": null,
            "_view_module": "@jupyter-widgets/base",
            "_view_module_version": "1.2.0",
            "_view_name": "StyleView",
            "description_width": ""
          }
        },
        "6386f50febb54b138bd0943c1983c799": {
          "model_module": "@jupyter-widgets/base",
          "model_name": "LayoutModel",
          "model_module_version": "1.2.0",
          "state": {
            "_model_module": "@jupyter-widgets/base",
            "_model_module_version": "1.2.0",
            "_model_name": "LayoutModel",
            "_view_count": null,
            "_view_module": "@jupyter-widgets/base",
            "_view_module_version": "1.2.0",
            "_view_name": "LayoutView",
            "align_content": null,
            "align_items": null,
            "align_self": null,
            "border": null,
            "bottom": null,
            "display": null,
            "flex": null,
            "flex_flow": null,
            "grid_area": null,
            "grid_auto_columns": null,
            "grid_auto_flow": null,
            "grid_auto_rows": null,
            "grid_column": null,
            "grid_gap": null,
            "grid_row": null,
            "grid_template_areas": null,
            "grid_template_columns": null,
            "grid_template_rows": null,
            "height": null,
            "justify_content": null,
            "justify_items": null,
            "left": null,
            "margin": null,
            "max_height": null,
            "max_width": null,
            "min_height": null,
            "min_width": null,
            "object_fit": null,
            "object_position": null,
            "order": null,
            "overflow": null,
            "overflow_x": null,
            "overflow_y": null,
            "padding": null,
            "right": null,
            "top": null,
            "visibility": null,
            "width": null
          }
        },
        "2a54ddae54684191a71dc01d3af83782": {
          "model_module": "@jupyter-widgets/controls",
          "model_name": "ProgressStyleModel",
          "model_module_version": "1.5.0",
          "state": {
            "_model_module": "@jupyter-widgets/controls",
            "_model_module_version": "1.5.0",
            "_model_name": "ProgressStyleModel",
            "_view_count": null,
            "_view_module": "@jupyter-widgets/base",
            "_view_module_version": "1.2.0",
            "_view_name": "StyleView",
            "bar_color": null,
            "description_width": ""
          }
        },
        "9a46e808d60946f5b228b5153f3cdf7c": {
          "model_module": "@jupyter-widgets/controls",
          "model_name": "VBoxModel",
          "model_module_version": "1.5.0",
          "state": {
            "_dom_classes": [],
            "_model_module": "@jupyter-widgets/controls",
            "_model_module_version": "1.5.0",
            "_model_name": "VBoxModel",
            "_view_count": null,
            "_view_module": "@jupyter-widgets/controls",
            "_view_module_version": "1.5.0",
            "_view_name": "VBoxView",
            "box_style": "",
            "children": [
              "IPY_MODEL_523188a395a64ecd83fed0b812c24879",
              "IPY_MODEL_2f9bfc4bfba94202a116c6cbf306971c"
            ],
            "layout": "IPY_MODEL_7a567086452249e685d3107a50068a37"
          }
        },
        "523188a395a64ecd83fed0b812c24879": {
          "model_module": "@jupyter-widgets/controls",
          "model_name": "LabelModel",
          "model_module_version": "1.5.0",
          "state": {
            "_dom_classes": [],
            "_model_module": "@jupyter-widgets/controls",
            "_model_module_version": "1.5.0",
            "_model_name": "LabelModel",
            "_view_count": null,
            "_view_module": "@jupyter-widgets/controls",
            "_view_module_version": "1.5.0",
            "_view_name": "LabelView",
            "description": "",
            "description_tooltip": null,
            "layout": "IPY_MODEL_1bb6da833eb6494e80732b023f071450",
            "placeholder": "​",
            "style": "IPY_MODEL_cd43468ccb074c6eb045151def20d990",
            "value": "0.014 MB of 0.014 MB uploaded\r"
          }
        },
        "2f9bfc4bfba94202a116c6cbf306971c": {
          "model_module": "@jupyter-widgets/controls",
          "model_name": "FloatProgressModel",
          "model_module_version": "1.5.0",
          "state": {
            "_dom_classes": [],
            "_model_module": "@jupyter-widgets/controls",
            "_model_module_version": "1.5.0",
            "_model_name": "FloatProgressModel",
            "_view_count": null,
            "_view_module": "@jupyter-widgets/controls",
            "_view_module_version": "1.5.0",
            "_view_name": "ProgressView",
            "bar_style": "",
            "description": "",
            "description_tooltip": null,
            "layout": "IPY_MODEL_b393a919ce954033890205a986a5b3d4",
            "max": 1,
            "min": 0,
            "orientation": "horizontal",
            "style": "IPY_MODEL_8f99ea9e059c447b86295bd00bf4839f",
            "value": 1
          }
        },
        "7a567086452249e685d3107a50068a37": {
          "model_module": "@jupyter-widgets/base",
          "model_name": "LayoutModel",
          "model_module_version": "1.2.0",
          "state": {
            "_model_module": "@jupyter-widgets/base",
            "_model_module_version": "1.2.0",
            "_model_name": "LayoutModel",
            "_view_count": null,
            "_view_module": "@jupyter-widgets/base",
            "_view_module_version": "1.2.0",
            "_view_name": "LayoutView",
            "align_content": null,
            "align_items": null,
            "align_self": null,
            "border": null,
            "bottom": null,
            "display": null,
            "flex": null,
            "flex_flow": null,
            "grid_area": null,
            "grid_auto_columns": null,
            "grid_auto_flow": null,
            "grid_auto_rows": null,
            "grid_column": null,
            "grid_gap": null,
            "grid_row": null,
            "grid_template_areas": null,
            "grid_template_columns": null,
            "grid_template_rows": null,
            "height": null,
            "justify_content": null,
            "justify_items": null,
            "left": null,
            "margin": null,
            "max_height": null,
            "max_width": null,
            "min_height": null,
            "min_width": null,
            "object_fit": null,
            "object_position": null,
            "order": null,
            "overflow": null,
            "overflow_x": null,
            "overflow_y": null,
            "padding": null,
            "right": null,
            "top": null,
            "visibility": null,
            "width": null
          }
        },
        "1bb6da833eb6494e80732b023f071450": {
          "model_module": "@jupyter-widgets/base",
          "model_name": "LayoutModel",
          "model_module_version": "1.2.0",
          "state": {
            "_model_module": "@jupyter-widgets/base",
            "_model_module_version": "1.2.0",
            "_model_name": "LayoutModel",
            "_view_count": null,
            "_view_module": "@jupyter-widgets/base",
            "_view_module_version": "1.2.0",
            "_view_name": "LayoutView",
            "align_content": null,
            "align_items": null,
            "align_self": null,
            "border": null,
            "bottom": null,
            "display": null,
            "flex": null,
            "flex_flow": null,
            "grid_area": null,
            "grid_auto_columns": null,
            "grid_auto_flow": null,
            "grid_auto_rows": null,
            "grid_column": null,
            "grid_gap": null,
            "grid_row": null,
            "grid_template_areas": null,
            "grid_template_columns": null,
            "grid_template_rows": null,
            "height": null,
            "justify_content": null,
            "justify_items": null,
            "left": null,
            "margin": null,
            "max_height": null,
            "max_width": null,
            "min_height": null,
            "min_width": null,
            "object_fit": null,
            "object_position": null,
            "order": null,
            "overflow": null,
            "overflow_x": null,
            "overflow_y": null,
            "padding": null,
            "right": null,
            "top": null,
            "visibility": null,
            "width": null
          }
        },
        "cd43468ccb074c6eb045151def20d990": {
          "model_module": "@jupyter-widgets/controls",
          "model_name": "DescriptionStyleModel",
          "model_module_version": "1.5.0",
          "state": {
            "_model_module": "@jupyter-widgets/controls",
            "_model_module_version": "1.5.0",
            "_model_name": "DescriptionStyleModel",
            "_view_count": null,
            "_view_module": "@jupyter-widgets/base",
            "_view_module_version": "1.2.0",
            "_view_name": "StyleView",
            "description_width": ""
          }
        },
        "b393a919ce954033890205a986a5b3d4": {
          "model_module": "@jupyter-widgets/base",
          "model_name": "LayoutModel",
          "model_module_version": "1.2.0",
          "state": {
            "_model_module": "@jupyter-widgets/base",
            "_model_module_version": "1.2.0",
            "_model_name": "LayoutModel",
            "_view_count": null,
            "_view_module": "@jupyter-widgets/base",
            "_view_module_version": "1.2.0",
            "_view_name": "LayoutView",
            "align_content": null,
            "align_items": null,
            "align_self": null,
            "border": null,
            "bottom": null,
            "display": null,
            "flex": null,
            "flex_flow": null,
            "grid_area": null,
            "grid_auto_columns": null,
            "grid_auto_flow": null,
            "grid_auto_rows": null,
            "grid_column": null,
            "grid_gap": null,
            "grid_row": null,
            "grid_template_areas": null,
            "grid_template_columns": null,
            "grid_template_rows": null,
            "height": null,
            "justify_content": null,
            "justify_items": null,
            "left": null,
            "margin": null,
            "max_height": null,
            "max_width": null,
            "min_height": null,
            "min_width": null,
            "object_fit": null,
            "object_position": null,
            "order": null,
            "overflow": null,
            "overflow_x": null,
            "overflow_y": null,
            "padding": null,
            "right": null,
            "top": null,
            "visibility": null,
            "width": null
          }
        },
        "8f99ea9e059c447b86295bd00bf4839f": {
          "model_module": "@jupyter-widgets/controls",
          "model_name": "ProgressStyleModel",
          "model_module_version": "1.5.0",
          "state": {
            "_model_module": "@jupyter-widgets/controls",
            "_model_module_version": "1.5.0",
            "_model_name": "ProgressStyleModel",
            "_view_count": null,
            "_view_module": "@jupyter-widgets/base",
            "_view_module_version": "1.2.0",
            "_view_name": "StyleView",
            "bar_color": null,
            "description_width": ""
          }
        },
        "4a719226ea294c799d9747209bf16206": {
          "model_module": "@jupyter-widgets/controls",
          "model_name": "VBoxModel",
          "model_module_version": "1.5.0",
          "state": {
            "_dom_classes": [],
            "_model_module": "@jupyter-widgets/controls",
            "_model_module_version": "1.5.0",
            "_model_name": "VBoxModel",
            "_view_count": null,
            "_view_module": "@jupyter-widgets/controls",
            "_view_module_version": "1.5.0",
            "_view_name": "VBoxView",
            "box_style": "",
            "children": [
              "IPY_MODEL_f994bdf942844a9590867f715f7c7277",
              "IPY_MODEL_c622145930ae41369dc5e1fdacbe7996"
            ],
            "layout": "IPY_MODEL_7fed152784f24eefa1c2ec0e467a8c4b"
          }
        },
        "f994bdf942844a9590867f715f7c7277": {
          "model_module": "@jupyter-widgets/controls",
          "model_name": "LabelModel",
          "model_module_version": "1.5.0",
          "state": {
            "_dom_classes": [],
            "_model_module": "@jupyter-widgets/controls",
            "_model_module_version": "1.5.0",
            "_model_name": "LabelModel",
            "_view_count": null,
            "_view_module": "@jupyter-widgets/controls",
            "_view_module_version": "1.5.0",
            "_view_name": "LabelView",
            "description": "",
            "description_tooltip": null,
            "layout": "IPY_MODEL_991af473d2674b3480ae0d5324063335",
            "placeholder": "​",
            "style": "IPY_MODEL_7f67534090a6443bac65372751f169c1",
            "value": "0.014 MB of 0.014 MB uploaded\r"
          }
        },
        "c622145930ae41369dc5e1fdacbe7996": {
          "model_module": "@jupyter-widgets/controls",
          "model_name": "FloatProgressModel",
          "model_module_version": "1.5.0",
          "state": {
            "_dom_classes": [],
            "_model_module": "@jupyter-widgets/controls",
            "_model_module_version": "1.5.0",
            "_model_name": "FloatProgressModel",
            "_view_count": null,
            "_view_module": "@jupyter-widgets/controls",
            "_view_module_version": "1.5.0",
            "_view_name": "ProgressView",
            "bar_style": "",
            "description": "",
            "description_tooltip": null,
            "layout": "IPY_MODEL_cd5e9eb821b44533845773361d400e09",
            "max": 1,
            "min": 0,
            "orientation": "horizontal",
            "style": "IPY_MODEL_29853719f6bf472b87e10c9b60ade0de",
            "value": 1
          }
        },
        "7fed152784f24eefa1c2ec0e467a8c4b": {
          "model_module": "@jupyter-widgets/base",
          "model_name": "LayoutModel",
          "model_module_version": "1.2.0",
          "state": {
            "_model_module": "@jupyter-widgets/base",
            "_model_module_version": "1.2.0",
            "_model_name": "LayoutModel",
            "_view_count": null,
            "_view_module": "@jupyter-widgets/base",
            "_view_module_version": "1.2.0",
            "_view_name": "LayoutView",
            "align_content": null,
            "align_items": null,
            "align_self": null,
            "border": null,
            "bottom": null,
            "display": null,
            "flex": null,
            "flex_flow": null,
            "grid_area": null,
            "grid_auto_columns": null,
            "grid_auto_flow": null,
            "grid_auto_rows": null,
            "grid_column": null,
            "grid_gap": null,
            "grid_row": null,
            "grid_template_areas": null,
            "grid_template_columns": null,
            "grid_template_rows": null,
            "height": null,
            "justify_content": null,
            "justify_items": null,
            "left": null,
            "margin": null,
            "max_height": null,
            "max_width": null,
            "min_height": null,
            "min_width": null,
            "object_fit": null,
            "object_position": null,
            "order": null,
            "overflow": null,
            "overflow_x": null,
            "overflow_y": null,
            "padding": null,
            "right": null,
            "top": null,
            "visibility": null,
            "width": null
          }
        },
        "991af473d2674b3480ae0d5324063335": {
          "model_module": "@jupyter-widgets/base",
          "model_name": "LayoutModel",
          "model_module_version": "1.2.0",
          "state": {
            "_model_module": "@jupyter-widgets/base",
            "_model_module_version": "1.2.0",
            "_model_name": "LayoutModel",
            "_view_count": null,
            "_view_module": "@jupyter-widgets/base",
            "_view_module_version": "1.2.0",
            "_view_name": "LayoutView",
            "align_content": null,
            "align_items": null,
            "align_self": null,
            "border": null,
            "bottom": null,
            "display": null,
            "flex": null,
            "flex_flow": null,
            "grid_area": null,
            "grid_auto_columns": null,
            "grid_auto_flow": null,
            "grid_auto_rows": null,
            "grid_column": null,
            "grid_gap": null,
            "grid_row": null,
            "grid_template_areas": null,
            "grid_template_columns": null,
            "grid_template_rows": null,
            "height": null,
            "justify_content": null,
            "justify_items": null,
            "left": null,
            "margin": null,
            "max_height": null,
            "max_width": null,
            "min_height": null,
            "min_width": null,
            "object_fit": null,
            "object_position": null,
            "order": null,
            "overflow": null,
            "overflow_x": null,
            "overflow_y": null,
            "padding": null,
            "right": null,
            "top": null,
            "visibility": null,
            "width": null
          }
        },
        "7f67534090a6443bac65372751f169c1": {
          "model_module": "@jupyter-widgets/controls",
          "model_name": "DescriptionStyleModel",
          "model_module_version": "1.5.0",
          "state": {
            "_model_module": "@jupyter-widgets/controls",
            "_model_module_version": "1.5.0",
            "_model_name": "DescriptionStyleModel",
            "_view_count": null,
            "_view_module": "@jupyter-widgets/base",
            "_view_module_version": "1.2.0",
            "_view_name": "StyleView",
            "description_width": ""
          }
        },
        "cd5e9eb821b44533845773361d400e09": {
          "model_module": "@jupyter-widgets/base",
          "model_name": "LayoutModel",
          "model_module_version": "1.2.0",
          "state": {
            "_model_module": "@jupyter-widgets/base",
            "_model_module_version": "1.2.0",
            "_model_name": "LayoutModel",
            "_view_count": null,
            "_view_module": "@jupyter-widgets/base",
            "_view_module_version": "1.2.0",
            "_view_name": "LayoutView",
            "align_content": null,
            "align_items": null,
            "align_self": null,
            "border": null,
            "bottom": null,
            "display": null,
            "flex": null,
            "flex_flow": null,
            "grid_area": null,
            "grid_auto_columns": null,
            "grid_auto_flow": null,
            "grid_auto_rows": null,
            "grid_column": null,
            "grid_gap": null,
            "grid_row": null,
            "grid_template_areas": null,
            "grid_template_columns": null,
            "grid_template_rows": null,
            "height": null,
            "justify_content": null,
            "justify_items": null,
            "left": null,
            "margin": null,
            "max_height": null,
            "max_width": null,
            "min_height": null,
            "min_width": null,
            "object_fit": null,
            "object_position": null,
            "order": null,
            "overflow": null,
            "overflow_x": null,
            "overflow_y": null,
            "padding": null,
            "right": null,
            "top": null,
            "visibility": null,
            "width": null
          }
        },
        "29853719f6bf472b87e10c9b60ade0de": {
          "model_module": "@jupyter-widgets/controls",
          "model_name": "ProgressStyleModel",
          "model_module_version": "1.5.0",
          "state": {
            "_model_module": "@jupyter-widgets/controls",
            "_model_module_version": "1.5.0",
            "_model_name": "ProgressStyleModel",
            "_view_count": null,
            "_view_module": "@jupyter-widgets/base",
            "_view_module_version": "1.2.0",
            "_view_name": "StyleView",
            "bar_color": null,
            "description_width": ""
          }
        },
        "ef51eacf6cd04c11b45562478212e2e7": {
          "model_module": "@jupyter-widgets/controls",
          "model_name": "VBoxModel",
          "model_module_version": "1.5.0",
          "state": {
            "_dom_classes": [],
            "_model_module": "@jupyter-widgets/controls",
            "_model_module_version": "1.5.0",
            "_model_name": "VBoxModel",
            "_view_count": null,
            "_view_module": "@jupyter-widgets/controls",
            "_view_module_version": "1.5.0",
            "_view_name": "VBoxView",
            "box_style": "",
            "children": [
              "IPY_MODEL_554e873db1634b7280d2f2e3fc98dddd",
              "IPY_MODEL_4e7e08db355b4f0f8358316783ce1e0a"
            ],
            "layout": "IPY_MODEL_cfed390198bf487390428f670667e641"
          }
        },
        "554e873db1634b7280d2f2e3fc98dddd": {
          "model_module": "@jupyter-widgets/controls",
          "model_name": "LabelModel",
          "model_module_version": "1.5.0",
          "state": {
            "_dom_classes": [],
            "_model_module": "@jupyter-widgets/controls",
            "_model_module_version": "1.5.0",
            "_model_name": "LabelModel",
            "_view_count": null,
            "_view_module": "@jupyter-widgets/controls",
            "_view_module_version": "1.5.0",
            "_view_name": "LabelView",
            "description": "",
            "description_tooltip": null,
            "layout": "IPY_MODEL_27d81ffc52854ce2b4f7c8ad25cbab4b",
            "placeholder": "​",
            "style": "IPY_MODEL_40b49991c70444da998a18982459bfe7",
            "value": "0.014 MB of 0.014 MB uploaded\r"
          }
        },
        "4e7e08db355b4f0f8358316783ce1e0a": {
          "model_module": "@jupyter-widgets/controls",
          "model_name": "FloatProgressModel",
          "model_module_version": "1.5.0",
          "state": {
            "_dom_classes": [],
            "_model_module": "@jupyter-widgets/controls",
            "_model_module_version": "1.5.0",
            "_model_name": "FloatProgressModel",
            "_view_count": null,
            "_view_module": "@jupyter-widgets/controls",
            "_view_module_version": "1.5.0",
            "_view_name": "ProgressView",
            "bar_style": "",
            "description": "",
            "description_tooltip": null,
            "layout": "IPY_MODEL_58049f17d42346b3bb9c57e27e20113f",
            "max": 1,
            "min": 0,
            "orientation": "horizontal",
            "style": "IPY_MODEL_d5ee93438d7a4d3caeb2e50c480dc2ab",
            "value": 1
          }
        },
        "cfed390198bf487390428f670667e641": {
          "model_module": "@jupyter-widgets/base",
          "model_name": "LayoutModel",
          "model_module_version": "1.2.0",
          "state": {
            "_model_module": "@jupyter-widgets/base",
            "_model_module_version": "1.2.0",
            "_model_name": "LayoutModel",
            "_view_count": null,
            "_view_module": "@jupyter-widgets/base",
            "_view_module_version": "1.2.0",
            "_view_name": "LayoutView",
            "align_content": null,
            "align_items": null,
            "align_self": null,
            "border": null,
            "bottom": null,
            "display": null,
            "flex": null,
            "flex_flow": null,
            "grid_area": null,
            "grid_auto_columns": null,
            "grid_auto_flow": null,
            "grid_auto_rows": null,
            "grid_column": null,
            "grid_gap": null,
            "grid_row": null,
            "grid_template_areas": null,
            "grid_template_columns": null,
            "grid_template_rows": null,
            "height": null,
            "justify_content": null,
            "justify_items": null,
            "left": null,
            "margin": null,
            "max_height": null,
            "max_width": null,
            "min_height": null,
            "min_width": null,
            "object_fit": null,
            "object_position": null,
            "order": null,
            "overflow": null,
            "overflow_x": null,
            "overflow_y": null,
            "padding": null,
            "right": null,
            "top": null,
            "visibility": null,
            "width": null
          }
        },
        "27d81ffc52854ce2b4f7c8ad25cbab4b": {
          "model_module": "@jupyter-widgets/base",
          "model_name": "LayoutModel",
          "model_module_version": "1.2.0",
          "state": {
            "_model_module": "@jupyter-widgets/base",
            "_model_module_version": "1.2.0",
            "_model_name": "LayoutModel",
            "_view_count": null,
            "_view_module": "@jupyter-widgets/base",
            "_view_module_version": "1.2.0",
            "_view_name": "LayoutView",
            "align_content": null,
            "align_items": null,
            "align_self": null,
            "border": null,
            "bottom": null,
            "display": null,
            "flex": null,
            "flex_flow": null,
            "grid_area": null,
            "grid_auto_columns": null,
            "grid_auto_flow": null,
            "grid_auto_rows": null,
            "grid_column": null,
            "grid_gap": null,
            "grid_row": null,
            "grid_template_areas": null,
            "grid_template_columns": null,
            "grid_template_rows": null,
            "height": null,
            "justify_content": null,
            "justify_items": null,
            "left": null,
            "margin": null,
            "max_height": null,
            "max_width": null,
            "min_height": null,
            "min_width": null,
            "object_fit": null,
            "object_position": null,
            "order": null,
            "overflow": null,
            "overflow_x": null,
            "overflow_y": null,
            "padding": null,
            "right": null,
            "top": null,
            "visibility": null,
            "width": null
          }
        },
        "40b49991c70444da998a18982459bfe7": {
          "model_module": "@jupyter-widgets/controls",
          "model_name": "DescriptionStyleModel",
          "model_module_version": "1.5.0",
          "state": {
            "_model_module": "@jupyter-widgets/controls",
            "_model_module_version": "1.5.0",
            "_model_name": "DescriptionStyleModel",
            "_view_count": null,
            "_view_module": "@jupyter-widgets/base",
            "_view_module_version": "1.2.0",
            "_view_name": "StyleView",
            "description_width": ""
          }
        },
        "58049f17d42346b3bb9c57e27e20113f": {
          "model_module": "@jupyter-widgets/base",
          "model_name": "LayoutModel",
          "model_module_version": "1.2.0",
          "state": {
            "_model_module": "@jupyter-widgets/base",
            "_model_module_version": "1.2.0",
            "_model_name": "LayoutModel",
            "_view_count": null,
            "_view_module": "@jupyter-widgets/base",
            "_view_module_version": "1.2.0",
            "_view_name": "LayoutView",
            "align_content": null,
            "align_items": null,
            "align_self": null,
            "border": null,
            "bottom": null,
            "display": null,
            "flex": null,
            "flex_flow": null,
            "grid_area": null,
            "grid_auto_columns": null,
            "grid_auto_flow": null,
            "grid_auto_rows": null,
            "grid_column": null,
            "grid_gap": null,
            "grid_row": null,
            "grid_template_areas": null,
            "grid_template_columns": null,
            "grid_template_rows": null,
            "height": null,
            "justify_content": null,
            "justify_items": null,
            "left": null,
            "margin": null,
            "max_height": null,
            "max_width": null,
            "min_height": null,
            "min_width": null,
            "object_fit": null,
            "object_position": null,
            "order": null,
            "overflow": null,
            "overflow_x": null,
            "overflow_y": null,
            "padding": null,
            "right": null,
            "top": null,
            "visibility": null,
            "width": null
          }
        },
        "d5ee93438d7a4d3caeb2e50c480dc2ab": {
          "model_module": "@jupyter-widgets/controls",
          "model_name": "ProgressStyleModel",
          "model_module_version": "1.5.0",
          "state": {
            "_model_module": "@jupyter-widgets/controls",
            "_model_module_version": "1.5.0",
            "_model_name": "ProgressStyleModel",
            "_view_count": null,
            "_view_module": "@jupyter-widgets/base",
            "_view_module_version": "1.2.0",
            "_view_name": "StyleView",
            "bar_color": null,
            "description_width": ""
          }
        }
      }
    }
  },
  "cells": [
    {
      "cell_type": "code",
      "execution_count": null,
      "metadata": {
        "id": "eMDMQ81o0Asx"
      },
      "outputs": [],
      "source": [
        "import torch\n",
        "import torch.nn as nn\n",
        "import torch.nn.functional as F\n",
        "import torch.optim as optim\n",
        "from torch.distributions import Categorical\n",
        "\n",
        "import gym\n",
        "from tqdm import tqdm_notebook\n",
        "import numpy as np\n",
        "from collections import deque"
      ]
    },
    {
      "cell_type": "code",
      "source": [
        "#discount factor for future utilities\n",
        "DISCOUNT_FACTOR = 0.99\n",
        "gamma = 0.99\n",
        "#number of episodes to run\n",
        "NUM_EPISODES = 5000\n",
        "\n",
        "#max steps per episode\n",
        "MAX_STEPS = 10000\n",
        "\n",
        "#score agent needs for environment to be solved\n",
        "SOLVED_SCORE = 475\n",
        "\n",
        "#device to run model on\n",
        "DEVICE = \"cuda\" if torch.cuda.is_available() else \"cpu\""
      ],
      "metadata": {
        "id": "shstWM5M0GmH",
        "colab": {
          "base_uri": "https://localhost:8080/"
        },
        "outputId": "b2516f5e-71e3-42de-d508-0e4ed392643d"
      },
      "execution_count": null,
      "outputs": [
        {
          "output_type": "stream",
          "name": "stderr",
          "text": [
            "/usr/local/lib/python3.10/dist-packages/ipykernel/ipkernel.py:283: DeprecationWarning: `should_run_async` will not call `transform_cell` automatically in the future. Please pass the result to `transformed_cell` argument and any exception that happen during thetransform in `preprocessing_exc_tuple` in IPython 7.17 and above.\n",
            "  and should_run_async(code)\n"
          ]
        }
      ]
    },
    {
      "cell_type": "code",
      "source": [
        "class PolicyNetwork(nn.Module):\n",
        "  def __init__(self, observation_space, action_space,seed,layer_size):\n",
        "        super(PolicyNetwork, self).__init__()\n",
        "        self.seed = torch.manual_seed(seed)\n",
        "        self.input_layer = nn.Linear(observation_space, layer_size)\n",
        "        self.output_layer = nn.Linear(layer_size, action_space)\n",
        "  def forward(self, x):\n",
        "        x = self.input_layer(x)\n",
        "        x = F.relu(x)\n",
        "        actions = self.output_layer(x)\n",
        "        action_probs = F.softmax(actions, dim=-1)\n",
        "        return action_probs"
      ],
      "metadata": {
        "id": "zUzMP6SW0JiN"
      },
      "execution_count": null,
      "outputs": []
    },
    {
      "cell_type": "code",
      "source": [
        "\n",
        "class StateValueNetwork(nn.Module):\n",
        "    def __init__(self, observation_space,seed,layer_size):\n",
        "        super(StateValueNetwork, self).__init__()\n",
        "        self.seed = torch.manual_seed(seed)\n",
        "        self.input_layer = nn.Linear(observation_space, layer_size)\n",
        "        self.output_layer = nn.Linear(layer_size, 1)\n",
        "    def forward(self, x):\n",
        "        x = self.input_layer(x)\n",
        "        x = F.relu(x)\n",
        "        state_value = self.output_layer(x)\n",
        "        return state_value"
      ],
      "metadata": {
        "id": "tRTcs42v1SnQ"
      },
      "execution_count": null,
      "outputs": []
    },
    {
      "cell_type": "code",
      "source": [
        "def process_rewards(rewards,gamma):\n",
        "    G = []\n",
        "    total_r = 0\n",
        "    for r in reversed(rewards):\n",
        "        total_r = r + total_r * DISCOUNT_FACTOR\n",
        "        G.insert(0, total_r)\n",
        "    G = torch.tensor(G)\n",
        "    #G = (G - G.mean())/G.std()\n",
        "    return G"
      ],
      "metadata": {
        "id": "fjmFbOmX1Zy8"
      },
      "execution_count": null,
      "outputs": []
    },
    {
      "cell_type": "code",
      "source": [
        "def train_value(G, state_vals, optimizer):\n",
        "    val_loss = F.mse_loss(state_vals, G)\n",
        "    optimizer.zero_grad()\n",
        "    val_loss.backward()\n",
        "    optimizer.step()"
      ],
      "metadata": {
        "id": "LgawT7xh3RWt"
      },
      "execution_count": null,
      "outputs": []
    },
    {
      "cell_type": "code",
      "source": [
        "#Make environment\n",
        "env = gym.make('Acrobot-v1')\n",
        "#env = gym.make('CartPole-v1')\n",
        "#Init network\n",
        "'''\n",
        "policy_network = PolicyNetwork(env.observation_space.shape[0], env.action_space.n)\n",
        "stateval_network = StateValueNetwork(env.observation_space.shape[0])'''\n",
        "\n",
        "\n",
        "#Init optimizer\n"
      ],
      "metadata": {
        "id": "mL7BCLUX3e6a",
        "colab": {
          "base_uri": "https://localhost:8080/",
          "height": 128
        },
        "outputId": "539b3c7d-7c5e-461f-8410-8e09dd16f4da"
      },
      "execution_count": null,
      "outputs": [
        {
          "output_type": "stream",
          "name": "stderr",
          "text": [
            "/usr/local/lib/python3.10/dist-packages/gym/core.py:317: DeprecationWarning: \u001b[33mWARN: Initializing wrapper in old step API which returns one bool instead of two. It is recommended to set `new_step_api=True` to use new step API. This will be the default behaviour in future.\u001b[0m\n",
            "  deprecation(\n",
            "/usr/local/lib/python3.10/dist-packages/gym/wrappers/step_api_compatibility.py:39: DeprecationWarning: \u001b[33mWARN: Initializing environment in old step API which returns one bool instead of two. It is recommended to set `new_step_api=True` to use new step API. This will be the default behaviour in future.\u001b[0m\n",
            "  deprecation(\n"
          ]
        },
        {
          "output_type": "execute_result",
          "data": {
            "text/plain": [
              "'\\npolicy_network = PolicyNetwork(env.observation_space.shape[0], env.action_space.n)\\nstateval_network = StateValueNetwork(env.observation_space.shape[0])'"
            ],
            "application/vnd.google.colaboratory.intrinsic+json": {
              "type": "string"
            }
          },
          "metadata": {},
          "execution_count": 7
        }
      ]
    },
    {
      "cell_type": "code",
      "source": [
        "pip install scikit-optimize\n"
      ],
      "metadata": {
        "colab": {
          "base_uri": "https://localhost:8080/"
        },
        "id": "nDuBXWy0fowR",
        "outputId": "00043e21-6ef3-44d3-b24c-1649459167f8"
      },
      "execution_count": null,
      "outputs": [
        {
          "output_type": "stream",
          "name": "stdout",
          "text": [
            "Collecting scikit-optimize\n",
            "  Downloading scikit_optimize-0.10.1-py2.py3-none-any.whl (107 kB)\n",
            "\u001b[?25l     \u001b[90m━━━━━━━━━━━━━━━━━━━━━━━━━━━━━━━━━━━━━━━━\u001b[0m \u001b[32m0.0/107.7 kB\u001b[0m \u001b[31m?\u001b[0m eta \u001b[36m-:--:--\u001b[0m\r\u001b[2K     \u001b[91m━━━━━━━━━━━━━━━\u001b[0m\u001b[90m╺\u001b[0m\u001b[90m━━━━━━━━━━━━━━━━━━━━━━━━\u001b[0m \u001b[32m41.0/107.7 kB\u001b[0m \u001b[31m1.2 MB/s\u001b[0m eta \u001b[36m0:00:01\u001b[0m\r\u001b[2K     \u001b[90m━━━━━━━━━━━━━━━━━━━━━━━━━━━━━━━━━━━━━━━━\u001b[0m \u001b[32m107.7/107.7 kB\u001b[0m \u001b[31m1.5 MB/s\u001b[0m eta \u001b[36m0:00:00\u001b[0m\n",
            "\u001b[?25hRequirement already satisfied: joblib>=0.11 in /usr/local/lib/python3.10/dist-packages (from scikit-optimize) (1.3.2)\n",
            "Collecting pyaml>=16.9 (from scikit-optimize)\n",
            "  Downloading pyaml-23.12.0-py3-none-any.whl (23 kB)\n",
            "Requirement already satisfied: numpy>=1.20.3 in /usr/local/lib/python3.10/dist-packages (from scikit-optimize) (1.25.2)\n",
            "Requirement already satisfied: scipy>=1.1.0 in /usr/local/lib/python3.10/dist-packages (from scikit-optimize) (1.11.4)\n",
            "Requirement already satisfied: scikit-learn>=1.0.0 in /usr/local/lib/python3.10/dist-packages (from scikit-optimize) (1.2.2)\n",
            "Requirement already satisfied: packaging>=21.3 in /usr/local/lib/python3.10/dist-packages (from scikit-optimize) (24.0)\n",
            "Requirement already satisfied: PyYAML in /usr/local/lib/python3.10/dist-packages (from pyaml>=16.9->scikit-optimize) (6.0.1)\n",
            "Requirement already satisfied: threadpoolctl>=2.0.0 in /usr/local/lib/python3.10/dist-packages (from scikit-learn>=1.0.0->scikit-optimize) (3.4.0)\n",
            "Installing collected packages: pyaml, scikit-optimize\n",
            "Successfully installed pyaml-23.12.0 scikit-optimize-0.10.1\n"
          ]
        }
      ]
    },
    {
      "cell_type": "code",
      "source": [
        "seed_list = [1,42,30,25,17]"
      ],
      "metadata": {
        "id": "eClLxjLqU3rI"
      },
      "execution_count": null,
      "outputs": []
    },
    {
      "cell_type": "code",
      "source": [
        "def reset_weights(model):\n",
        "    for layer in model.children():\n",
        "        if hasattr(layer, 'reset_parameters'):\n",
        "            layer.reset_parameters()"
      ],
      "metadata": {
        "id": "QMYp_9UEiWxY"
      },
      "execution_count": null,
      "outputs": []
    },
    {
      "cell_type": "code",
      "source": [
        "from skopt import gp_minimize\n",
        "\n",
        "# Define the objective function\n",
        "def objective(params):\n",
        "\n",
        "    regret_avg = 0\n",
        "    print(params,\"Its just getting started \")\n",
        "    for i in range(5):\n",
        "      seed = seed_list[i]\n",
        "      policy_network = PolicyNetwork(env.observation_space.shape[0], env.action_space.n,seed,params[\"network_size\"])\n",
        "      stateval_network = StateValueNetwork(env.observation_space.shape[0],seed,params[\"network_size\"])\n",
        "      reset_weights(policy_network)\n",
        "      reset_weights(stateval_network)\n",
        "      policy_optimizer = optim.Adam(policy_network.parameters(), params[\"LR\"])\n",
        "      stateval_optimizer = optim.Adam(stateval_network.parameters(), params[\"LR\"])\n",
        "      ep = 0\n",
        "      action_space = np.arange(env.action_space.n)\n",
        "      total_rewards = []\n",
        "      regret = 0\n",
        "      while ep < NUM_EPISODES:\n",
        "        state = env.reset()\n",
        "        states = []\n",
        "        rewards = []\n",
        "        actions = []\n",
        "        done = False\n",
        "        while done == False:\n",
        "          state = torch.from_numpy(state).float().unsqueeze(0)[0]\n",
        "          action_probability = policy_network.forward(state).detach().numpy()\n",
        "          '''if np.isnan(action_probability).any():\n",
        "            return -float('inf')\n",
        "          else:'''\n",
        "          action = np.random.choice(action_space,p=action_probability)\n",
        "          state.detach()\n",
        "          next_state,r,done,_ = env.step(action)\n",
        "          states.append(state)\n",
        "          rewards.append(r)\n",
        "          actions.append(action)\n",
        "          if done :\n",
        "            break\n",
        "          state = next_state\n",
        "\n",
        "        total_rewards.append(sum(rewards))\n",
        "        G = process_rewards(rewards,gamma)\n",
        "        G = torch.FloatTensor(G)\n",
        "\n",
        "        rewards = torch.FloatTensor(rewards)\n",
        "\n",
        "        policy_optimizer.zero_grad()\n",
        "        state_vals = []\n",
        "\n",
        "        for st in states:\n",
        "            st = st.float().unsqueeze(0)[0]\n",
        "\n",
        "            state_vals.append(stateval_network(st))\n",
        "        state_vals = torch.stack(state_vals).squeeze()\n",
        "        #print(state_vals)\n",
        "        train_value(G, state_vals, stateval_optimizer)\n",
        "\n",
        "        deltas = [gt for gt in zip(G)]\n",
        "        deltas = torch.tensor(deltas)\n",
        "        logprob = [torch.log(policy_network.forward(states[i])) for i in range(len(deltas))]\n",
        "        policy_loss = []\n",
        "        for i in range(len(deltas)):\n",
        "\n",
        "              d = deltas[i]\n",
        "\n",
        "              lp = logprob[i][actions[i]]\n",
        "\n",
        "              policy_loss.append(-d * lp)\n",
        "        policy_optimizer.zero_grad()\n",
        "        #print(policy_loss,len(actions))\n",
        "        sum(policy_loss).backward()\n",
        "        torch.nn.utils.clip_grad_norm_(policy_network.parameters(), 2)\n",
        "        policy_optimizer.step()\n",
        "        avg_rewards = np.mean(total_rewards[-100:])\n",
        "        ep +=1\n",
        "        if ep % 400  == 0:\n",
        "          print(\"Ep:\",ep,\"last 100 episodes reward is  :\",avg_rewards, end=\"\\n\")\n",
        "\n",
        "        regret -=  avg_rewards\n",
        "      print(params,regret)\n",
        "      regret_avg += regret\n",
        "    print(\"regret_avg:\",regret_avg,\"for\",params)\n",
        "    return regret_avg\n",
        "\n",
        "\n",
        "\n",
        "\n",
        "\n",
        "\n"
      ],
      "metadata": {
        "id": "Yr0q-YJXLkTq"
      },
      "execution_count": null,
      "outputs": []
    },
    {
      "cell_type": "code",
      "source": [
        "'''\n",
        "from skopt import gp_minimize\n",
        "from skopt.space import Real, Categorical\n",
        "\n",
        "# Define the search space\n",
        "space = [Real(0.0001, 0.01, name='lr'),  # Continuous parameter from 0.01 to 0.0001\n",
        "         Categorical(categories=[16, 32, 64, 128, 256], name='layer_size')]   #\n",
        "         '''"
      ],
      "metadata": {
        "colab": {
          "base_uri": "https://localhost:8080/",
          "height": 110
        },
        "id": "WnBY7j_fV8Lw",
        "outputId": "4f6afed8-b80a-4f55-ebbf-7231ace01285"
      },
      "execution_count": null,
      "outputs": [
        {
          "output_type": "stream",
          "name": "stderr",
          "text": [
            "/usr/local/lib/python3.10/dist-packages/ipykernel/ipkernel.py:283: DeprecationWarning: `should_run_async` will not call `transform_cell` automatically in the future. Please pass the result to `transformed_cell` argument and any exception that happen during thetransform in `preprocessing_exc_tuple` in IPython 7.17 and above.\n",
            "  and should_run_async(code)\n"
          ]
        },
        {
          "output_type": "execute_result",
          "data": {
            "text/plain": [
              "\"\\nfrom skopt import gp_minimize\\nfrom skopt.space import Real, Categorical\\n\\n# Define the search space\\nspace = [Real(0.0001, 0.01, name='lr'),  # Continuous parameter from 0.01 to 0.0001\\n         Categorical(categories=[16, 32, 64, 128, 256], name='layer_size')]   #\\n         \""
            ],
            "application/vnd.google.colaboratory.intrinsic+json": {
              "type": "string"
            }
          },
          "metadata": {},
          "execution_count": 12
        }
      ]
    },
    {
      "cell_type": "code",
      "source": [
        "#bounds = [(1e-4, 1e-2),]\n",
        "'''\n",
        "# Run the Bayesian optimization\n",
        "res = gp_minimize(objective, space, n_calls=10, random_state=0)\n",
        "print(res)\n",
        "# Print the best parameters\n",
        "print(f\"Best parameters: learning rate = {res.x[0]}\")\n",
        "'''"
      ],
      "metadata": {
        "colab": {
          "base_uri": "https://localhost:8080/",
          "height": 35
        },
        "id": "zjPmvvzBfbSV",
        "outputId": "89d38c3e-1aa1-40cf-ffd0-fceea9640056"
      },
      "execution_count": null,
      "outputs": [
        {
          "output_type": "execute_result",
          "data": {
            "text/plain": [
              "'\\n# Run the Bayesian optimization\\nres = gp_minimize(objective, space, n_calls=10, random_state=0)\\nprint(res)\\n# Print the best parameters\\nprint(f\"Best parameters: learning rate = {res.x[0]}\")\\n'"
            ],
            "application/vnd.google.colaboratory.intrinsic+json": {
              "type": "string"
            }
          },
          "metadata": {},
          "execution_count": 13
        }
      ]
    },
    {
      "cell_type": "code",
      "source": [
        "!pip install wandb\n"
      ],
      "metadata": {
        "colab": {
          "base_uri": "https://localhost:8080/"
        },
        "id": "m2iUzFkd5pYa",
        "outputId": "093e98e1-1835-4bfa-fbe1-4d93b83197b1"
      },
      "execution_count": null,
      "outputs": [
        {
          "output_type": "stream",
          "name": "stdout",
          "text": [
            "Collecting wandb\n",
            "  Downloading wandb-0.16.6-py3-none-any.whl (2.2 MB)\n",
            "\u001b[?25l     \u001b[90m━━━━━━━━━━━━━━━━━━━━━━━━━━━━━━━━━━━━━━━━\u001b[0m \u001b[32m0.0/2.2 MB\u001b[0m \u001b[31m?\u001b[0m eta \u001b[36m-:--:--\u001b[0m\r\u001b[2K     \u001b[91m━━━\u001b[0m\u001b[91m╸\u001b[0m\u001b[90m━━━━━━━━━━━━━━━━━━━━━━━━━━━━━━━━━━━━\u001b[0m \u001b[32m0.2/2.2 MB\u001b[0m \u001b[31m5.7 MB/s\u001b[0m eta \u001b[36m0:00:01\u001b[0m\r\u001b[2K     \u001b[91m━━━━━━━━━━━━━━━━━━━━━━━━━━━━━━━━━━━━━━━\u001b[0m\u001b[91m╸\u001b[0m \u001b[32m2.2/2.2 MB\u001b[0m \u001b[31m42.0 MB/s\u001b[0m eta \u001b[36m0:00:01\u001b[0m\r\u001b[2K     \u001b[90m━━━━━━━━━━━━━━━━━━━━━━━━━━━━━━━━━━━━━━━━\u001b[0m \u001b[32m2.2/2.2 MB\u001b[0m \u001b[31m30.2 MB/s\u001b[0m eta \u001b[36m0:00:00\u001b[0m\n",
            "\u001b[?25hRequirement already satisfied: Click!=8.0.0,>=7.1 in /usr/local/lib/python3.10/dist-packages (from wandb) (8.1.7)\n",
            "Collecting GitPython!=3.1.29,>=1.0.0 (from wandb)\n",
            "  Downloading GitPython-3.1.43-py3-none-any.whl (207 kB)\n",
            "\u001b[2K     \u001b[90m━━━━━━━━━━━━━━━━━━━━━━━━━━━━━━━━━━━━━━━━\u001b[0m \u001b[32m207.3/207.3 kB\u001b[0m \u001b[31m22.0 MB/s\u001b[0m eta \u001b[36m0:00:00\u001b[0m\n",
            "\u001b[?25hRequirement already satisfied: requests<3,>=2.0.0 in /usr/local/lib/python3.10/dist-packages (from wandb) (2.31.0)\n",
            "Requirement already satisfied: psutil>=5.0.0 in /usr/local/lib/python3.10/dist-packages (from wandb) (5.9.5)\n",
            "Collecting sentry-sdk>=1.0.0 (from wandb)\n",
            "  Downloading sentry_sdk-1.44.1-py2.py3-none-any.whl (266 kB)\n",
            "\u001b[2K     \u001b[90m━━━━━━━━━━━━━━━━━━━━━━━━━━━━━━━━━━━━━━━━\u001b[0m \u001b[32m266.1/266.1 kB\u001b[0m \u001b[31m26.3 MB/s\u001b[0m eta \u001b[36m0:00:00\u001b[0m\n",
            "\u001b[?25hCollecting docker-pycreds>=0.4.0 (from wandb)\n",
            "  Downloading docker_pycreds-0.4.0-py2.py3-none-any.whl (9.0 kB)\n",
            "Requirement already satisfied: PyYAML in /usr/local/lib/python3.10/dist-packages (from wandb) (6.0.1)\n",
            "Collecting setproctitle (from wandb)\n",
            "  Downloading setproctitle-1.3.3-cp310-cp310-manylinux_2_5_x86_64.manylinux1_x86_64.manylinux_2_17_x86_64.manylinux2014_x86_64.whl (30 kB)\n",
            "Requirement already satisfied: setuptools in /usr/local/lib/python3.10/dist-packages (from wandb) (67.7.2)\n",
            "Requirement already satisfied: appdirs>=1.4.3 in /usr/local/lib/python3.10/dist-packages (from wandb) (1.4.4)\n",
            "Requirement already satisfied: protobuf!=4.21.0,<5,>=3.19.0 in /usr/local/lib/python3.10/dist-packages (from wandb) (3.20.3)\n",
            "Requirement already satisfied: six>=1.4.0 in /usr/local/lib/python3.10/dist-packages (from docker-pycreds>=0.4.0->wandb) (1.16.0)\n",
            "Collecting gitdb<5,>=4.0.1 (from GitPython!=3.1.29,>=1.0.0->wandb)\n",
            "  Downloading gitdb-4.0.11-py3-none-any.whl (62 kB)\n",
            "\u001b[2K     \u001b[90m━━━━━━━━━━━━━━━━━━━━━━━━━━━━━━━━━━━━━━━━\u001b[0m \u001b[32m62.7/62.7 kB\u001b[0m \u001b[31m4.8 MB/s\u001b[0m eta \u001b[36m0:00:00\u001b[0m\n",
            "\u001b[?25hRequirement already satisfied: charset-normalizer<4,>=2 in /usr/local/lib/python3.10/dist-packages (from requests<3,>=2.0.0->wandb) (3.3.2)\n",
            "Requirement already satisfied: idna<4,>=2.5 in /usr/local/lib/python3.10/dist-packages (from requests<3,>=2.0.0->wandb) (3.6)\n",
            "Requirement already satisfied: urllib3<3,>=1.21.1 in /usr/local/lib/python3.10/dist-packages (from requests<3,>=2.0.0->wandb) (2.0.7)\n",
            "Requirement already satisfied: certifi>=2017.4.17 in /usr/local/lib/python3.10/dist-packages (from requests<3,>=2.0.0->wandb) (2024.2.2)\n",
            "Collecting smmap<6,>=3.0.1 (from gitdb<5,>=4.0.1->GitPython!=3.1.29,>=1.0.0->wandb)\n",
            "  Downloading smmap-5.0.1-py3-none-any.whl (24 kB)\n",
            "Installing collected packages: smmap, setproctitle, sentry-sdk, docker-pycreds, gitdb, GitPython, wandb\n",
            "Successfully installed GitPython-3.1.43 docker-pycreds-0.4.0 gitdb-4.0.11 sentry-sdk-1.44.1 setproctitle-1.3.3 smmap-5.0.1 wandb-0.16.6\n"
          ]
        }
      ]
    },
    {
      "cell_type": "code",
      "source": [
        "!wandb login"
      ],
      "metadata": {
        "colab": {
          "base_uri": "https://localhost:8080/"
        },
        "id": "IhceVq555tZx",
        "outputId": "f9a046f2-646c-4846-a1e7-040893640f53"
      },
      "execution_count": null,
      "outputs": [
        {
          "output_type": "stream",
          "name": "stdout",
          "text": [
            "\u001b[34m\u001b[1mwandb\u001b[0m: Logging into wandb.ai. (Learn how to deploy a W&B server locally: https://wandb.me/wandb-server)\n",
            "\u001b[34m\u001b[1mwandb\u001b[0m: You can find your API key in your browser here: https://wandb.ai/authorize\n",
            "\u001b[34m\u001b[1mwandb\u001b[0m: Paste an API key from your profile and hit enter, or press ctrl+c to quit: \n",
            "\u001b[34m\u001b[1mwandb\u001b[0m: Appending key for api.wandb.ai to your netrc file: /root/.netrc\n"
          ]
        }
      ]
    },
    {
      "cell_type": "code",
      "source": [
        "import wandb\n",
        "\n",
        "def main():\n",
        "    wandb.init(project=\"RLA2ACROBOT-wobase\")\n",
        "    #agent = TutorialAgent(state_size=state_shape,action_size = action_shape,seed = 0, config=wandb.config)\n",
        "    score = objective(wandb.config)\n",
        "    wandb.log({\"score\": score})\n",
        "\n",
        "# 2: Define the search space\n",
        "sweep_configuration = {\n",
        "    \"method\": \"bayes\",\n",
        "    \"metric\": {\"goal\": \"minimize\", \"name\": \"score\"},\n",
        "    \"parameters\": {\n",
        "        \"LR\": {\"max\": 1e-3, \"min\": 1e-6},\n",
        "        \"network_size\": {\"values\": [64,256,128]},\n",
        "    },\n",
        "}\n",
        "\n",
        "# 3: Start the sweep\n",
        "sweep_id = wandb.sweep(sweep=sweep_configuration, project=\"RLA2ACROBOT-wobase\")\n",
        "\n",
        "wandb.agent(sweep_id, function=main, count=10)"
      ],
      "metadata": {
        "colab": {
          "base_uri": "https://localhost:8080/",
          "height": 1000,
          "referenced_widgets": [
            "a8459124c62340509c70e378701572e8",
            "af2b09839b1c463999a676774b1a078f",
            "af04fc943f3f4db5a66ad26184f0263a",
            "ba77c7ca97014a72a3ce6e1a8964fc7f",
            "51afe711cdbd4b7dbbf285a2bceed3b3",
            "b90ec576f55d47728461e259769c3ff6",
            "6386f50febb54b138bd0943c1983c799",
            "2a54ddae54684191a71dc01d3af83782",
            "9a46e808d60946f5b228b5153f3cdf7c",
            "523188a395a64ecd83fed0b812c24879",
            "2f9bfc4bfba94202a116c6cbf306971c",
            "7a567086452249e685d3107a50068a37",
            "1bb6da833eb6494e80732b023f071450",
            "cd43468ccb074c6eb045151def20d990",
            "b393a919ce954033890205a986a5b3d4",
            "8f99ea9e059c447b86295bd00bf4839f",
            "4a719226ea294c799d9747209bf16206",
            "f994bdf942844a9590867f715f7c7277",
            "c622145930ae41369dc5e1fdacbe7996",
            "7fed152784f24eefa1c2ec0e467a8c4b",
            "991af473d2674b3480ae0d5324063335",
            "7f67534090a6443bac65372751f169c1",
            "cd5e9eb821b44533845773361d400e09",
            "29853719f6bf472b87e10c9b60ade0de",
            "ef51eacf6cd04c11b45562478212e2e7",
            "554e873db1634b7280d2f2e3fc98dddd",
            "4e7e08db355b4f0f8358316783ce1e0a",
            "cfed390198bf487390428f670667e641",
            "27d81ffc52854ce2b4f7c8ad25cbab4b",
            "40b49991c70444da998a18982459bfe7",
            "58049f17d42346b3bb9c57e27e20113f",
            "d5ee93438d7a4d3caeb2e50c480dc2ab"
          ]
        },
        "id": "Jobp64hL6G33",
        "outputId": "e941d478-7717-463b-e3a8-6198c511f87d"
      },
      "execution_count": null,
      "outputs": [
        {
          "metadata": {
            "tags": null
          },
          "name": "stderr",
          "output_type": "stream",
          "text": [
            "/usr/local/lib/python3.10/dist-packages/notebook/utils.py:280: DeprecationWarning: distutils Version classes are deprecated. Use packaging.version instead.\n",
            "  return LooseVersion(v) >= LooseVersion(check)\n"
          ]
        },
        {
          "metadata": {
            "tags": null
          },
          "name": "stdout",
          "output_type": "stream",
          "text": [
            "Create sweep with ID: 797nd2sd\n",
            "Sweep URL: https://wandb.ai/deep_learning_duri/RLA2ACROBOT-wobase/sweeps/797nd2sd\n"
          ]
        },
        {
          "metadata": {
            "tags": null
          },
          "name": "stderr",
          "output_type": "stream",
          "text": [
            "\u001b[34m\u001b[1mwandb\u001b[0m: Agent Starting Run: uly7ncrj with config:\n",
            "\u001b[34m\u001b[1mwandb\u001b[0m: \tLR: 0.0004413271766135506\n",
            "\u001b[34m\u001b[1mwandb\u001b[0m: \tnetwork_size: 256\n",
            "\u001b[34m\u001b[1mwandb\u001b[0m: Currently logged in as: \u001b[33mdhurilkun\u001b[0m (\u001b[33mdeep_learning_duri\u001b[0m). Use \u001b[1m`wandb login --relogin`\u001b[0m to force relogin\n",
            "\u001b[34m\u001b[1mwandb\u001b[0m: \u001b[33mWARNING\u001b[0m Ignored wandb.init() arg project when running a sweep.\n"
          ]
        },
        {
          "data": {
            "text/html": [
              "Tracking run with wandb version 0.16.6"
            ],
            "text/plain": [
              "<IPython.core.display.HTML object>"
            ]
          },
          "metadata": {},
          "output_type": "display_data"
        },
        {
          "data": {
            "text/html": [
              "Run data is saved locally in <code>/content/wandb/run-20240405_212519-uly7ncrj</code>"
            ],
            "text/plain": [
              "<IPython.core.display.HTML object>"
            ]
          },
          "metadata": {},
          "output_type": "display_data"
        },
        {
          "data": {
            "text/html": [
              "Syncing run <strong><a href='https://wandb.ai/deep_learning_duri/RLA2ACROBOT-wobase/runs/uly7ncrj' target=\"_blank\">crisp-sweep-1</a></strong> to <a href='https://wandb.ai/deep_learning_duri/RLA2ACROBOT-wobase' target=\"_blank\">Weights & Biases</a> (<a href='https://wandb.me/run' target=\"_blank\">docs</a>)<br/>Sweep page: <a href='https://wandb.ai/deep_learning_duri/RLA2ACROBOT-wobase/sweeps/797nd2sd' target=\"_blank\">https://wandb.ai/deep_learning_duri/RLA2ACROBOT-wobase/sweeps/797nd2sd</a>"
            ],
            "text/plain": [
              "<IPython.core.display.HTML object>"
            ]
          },
          "metadata": {},
          "output_type": "display_data"
        },
        {
          "data": {
            "text/html": [
              " View project at <a href='https://wandb.ai/deep_learning_duri/RLA2ACROBOT-wobase' target=\"_blank\">https://wandb.ai/deep_learning_duri/RLA2ACROBOT-wobase</a>"
            ],
            "text/plain": [
              "<IPython.core.display.HTML object>"
            ]
          },
          "metadata": {},
          "output_type": "display_data"
        },
        {
          "data": {
            "text/html": [
              " View sweep at <a href='https://wandb.ai/deep_learning_duri/RLA2ACROBOT-wobase/sweeps/797nd2sd' target=\"_blank\">https://wandb.ai/deep_learning_duri/RLA2ACROBOT-wobase/sweeps/797nd2sd</a>"
            ],
            "text/plain": [
              "<IPython.core.display.HTML object>"
            ]
          },
          "metadata": {},
          "output_type": "display_data"
        },
        {
          "data": {
            "text/html": [
              " View run at <a href='https://wandb.ai/deep_learning_duri/RLA2ACROBOT-wobase/runs/uly7ncrj' target=\"_blank\">https://wandb.ai/deep_learning_duri/RLA2ACROBOT-wobase/runs/uly7ncrj</a>"
            ],
            "text/plain": [
              "<IPython.core.display.HTML object>"
            ]
          },
          "metadata": {},
          "output_type": "display_data"
        },
        {
          "metadata": {
            "tags": null
          },
          "name": "stdout",
          "output_type": "stream",
          "text": [
            "{'LR': 0.0004413271766135506, 'network_size': 256} Its just getting started \n"
          ]
        },
        {
          "metadata": {
            "tags": null
          },
          "name": "stderr",
          "output_type": "stream",
          "text": [
            "/usr/local/lib/python3.10/dist-packages/gym/utils/passive_env_checker.py:241: DeprecationWarning: `np.bool8` is a deprecated alias for `np.bool_`.  (Deprecated NumPy 1.24)\n",
            "  if not isinstance(terminated, (bool, np.bool8)):\n"
          ]
        },
        {
          "output_type": "stream",
          "name": "stdout",
          "text": [
            "Ep: 400 last 100 episodes reward is  : -214.78\n",
            "Ep: 800 last 100 episodes reward is  : -244.99\n",
            "Ep: 1200 last 100 episodes reward is  : -431.84\n",
            "Ep: 1600 last 100 episodes reward is  : -239.48\n",
            "Ep: 2000 last 100 episodes reward is  : -204.11\n",
            "Ep: 2400 last 100 episodes reward is  : -140.58\n",
            "Ep: 2800 last 100 episodes reward is  : -317.14\n",
            "Ep: 3200 last 100 episodes reward is  : -500.0\n",
            "Ep: 3600 last 100 episodes reward is  : -500.0\n",
            "Ep: 4000 last 100 episodes reward is  : -462.96\n",
            "Ep: 4400 last 100 episodes reward is  : -338.41\n",
            "Ep: 4800 last 100 episodes reward is  : -405.49\n",
            "{'LR': 0.0004413271766135506, 'network_size': 256} 1617011.5384013979\n",
            "Ep: 400 last 100 episodes reward is  : -323.85\n",
            "Ep: 800 last 100 episodes reward is  : -371.22\n",
            "Ep: 1200 last 100 episodes reward is  : -208.94\n",
            "Ep: 1600 last 100 episodes reward is  : -143.25\n",
            "Ep: 2000 last 100 episodes reward is  : -172.59\n",
            "Ep: 2400 last 100 episodes reward is  : -140.81\n",
            "Ep: 2800 last 100 episodes reward is  : -135.99\n",
            "Ep: 3200 last 100 episodes reward is  : -156.9\n",
            "Ep: 3600 last 100 episodes reward is  : -151.94\n",
            "Ep: 4000 last 100 episodes reward is  : -154.19\n",
            "Ep: 4400 last 100 episodes reward is  : -173.55\n",
            "Ep: 4800 last 100 episodes reward is  : -172.4\n",
            "{'LR': 0.0004413271766135506, 'network_size': 256} 1013377.9972408055\n",
            "Ep: 400 last 100 episodes reward is  : -299.78\n",
            "Ep: 800 last 100 episodes reward is  : -227.68\n",
            "Ep: 1200 last 100 episodes reward is  : -294.64\n",
            "Ep: 1600 last 100 episodes reward is  : -198.05\n",
            "Ep: 2000 last 100 episodes reward is  : -200.32\n",
            "Ep: 2400 last 100 episodes reward is  : -168.22\n",
            "Ep: 2800 last 100 episodes reward is  : -156.13\n",
            "Ep: 3200 last 100 episodes reward is  : -195.42\n",
            "Ep: 3600 last 100 episodes reward is  : -253.94\n",
            "Ep: 4000 last 100 episodes reward is  : -389.39\n",
            "Ep: 4400 last 100 episodes reward is  : -381.66\n",
            "Ep: 4800 last 100 episodes reward is  : -292.0\n",
            "{'LR': 0.0004413271766135506, 'network_size': 256} 1229137.6580044443\n",
            "Ep: 400 last 100 episodes reward is  : -194.29\n",
            "Ep: 800 last 100 episodes reward is  : -293.75\n",
            "Ep: 1200 last 100 episodes reward is  : -213.59\n",
            "Ep: 1600 last 100 episodes reward is  : -163.36\n",
            "Ep: 2000 last 100 episodes reward is  : -185.02\n",
            "Ep: 2400 last 100 episodes reward is  : -248.27\n",
            "Ep: 2800 last 100 episodes reward is  : -213.56\n",
            "Ep: 3200 last 100 episodes reward is  : -254.93\n",
            "Ep: 3600 last 100 episodes reward is  : -303.76\n",
            "Ep: 4000 last 100 episodes reward is  : -375.15\n",
            "Ep: 4400 last 100 episodes reward is  : -205.01\n",
            "Ep: 4800 last 100 episodes reward is  : -151.65\n",
            "{'LR': 0.0004413271766135506, 'network_size': 256} 1185852.9458606408\n",
            "Ep: 400 last 100 episodes reward is  : -482.19\n",
            "Ep: 800 last 100 episodes reward is  : -168.07\n",
            "Ep: 1200 last 100 episodes reward is  : -369.98\n",
            "Ep: 1600 last 100 episodes reward is  : -255.78\n",
            "Ep: 2000 last 100 episodes reward is  : -393.03\n",
            "Ep: 2400 last 100 episodes reward is  : -291.59\n",
            "Ep: 2800 last 100 episodes reward is  : -240.86\n",
            "Ep: 3200 last 100 episodes reward is  : -395.84\n",
            "Ep: 3600 last 100 episodes reward is  : -229.56\n",
            "Ep: 4000 last 100 episodes reward is  : -285.31\n",
            "Ep: 4400 last 100 episodes reward is  : -321.94\n",
            "Ep: 4800 last 100 episodes reward is  : -417.81\n",
            "{'LR': 0.0004413271766135506, 'network_size': 256} 1540319.7099999974\n",
            "regret_avg: 6585699.849507286 for {'LR': 0.0004413271766135506, 'network_size': 256}\n"
          ]
        },
        {
          "output_type": "display_data",
          "data": {
            "text/plain": [
              "VBox(children=(Label(value='0.001 MB of 0.001 MB uploaded\\r'), FloatProgress(value=1.0, max=1.0)))"
            ],
            "application/vnd.jupyter.widget-view+json": {
              "version_major": 2,
              "version_minor": 0,
              "model_id": "a8459124c62340509c70e378701572e8"
            }
          },
          "metadata": {}
        },
        {
          "output_type": "display_data",
          "data": {
            "text/plain": [
              "<IPython.core.display.HTML object>"
            ],
            "text/html": [
              "<style>\n",
              "    table.wandb td:nth-child(1) { padding: 0 10px; text-align: left ; width: auto;} td:nth-child(2) {text-align: left ; width: 100%}\n",
              "    .wandb-row { display: flex; flex-direction: row; flex-wrap: wrap; justify-content: flex-start; width: 100% }\n",
              "    .wandb-col { display: flex; flex-direction: column; flex-basis: 100%; flex: 1; padding: 10px; }\n",
              "    </style>\n",
              "<div class=\"wandb-row\"><div class=\"wandb-col\"><h3>Run history:</h3><br/><table class=\"wandb\"><tr><td>score</td><td>▁</td></tr></table><br/></div><div class=\"wandb-col\"><h3>Run summary:</h3><br/><table class=\"wandb\"><tr><td>score</td><td>6585699.84951</td></tr></table><br/></div></div>"
            ]
          },
          "metadata": {}
        },
        {
          "output_type": "display_data",
          "data": {
            "text/plain": [
              "<IPython.core.display.HTML object>"
            ],
            "text/html": [
              " View run <strong style=\"color:#cdcd00\">crisp-sweep-1</strong> at: <a href='https://wandb.ai/deep_learning_duri/RLA2ACROBOT-wobase/runs/uly7ncrj' target=\"_blank\">https://wandb.ai/deep_learning_duri/RLA2ACROBOT-wobase/runs/uly7ncrj</a><br/> View project at: <a href='https://wandb.ai/deep_learning_duri/RLA2ACROBOT-wobase' target=\"_blank\">https://wandb.ai/deep_learning_duri/RLA2ACROBOT-wobase</a><br/>Synced 5 W&B file(s), 0 media file(s), 0 artifact file(s) and 0 other file(s)"
            ]
          },
          "metadata": {}
        },
        {
          "output_type": "display_data",
          "data": {
            "text/plain": [
              "<IPython.core.display.HTML object>"
            ],
            "text/html": [
              "Find logs at: <code>./wandb/run-20240405_212519-uly7ncrj/logs</code>"
            ]
          },
          "metadata": {}
        },
        {
          "output_type": "stream",
          "name": "stderr",
          "text": [
            "\u001b[34m\u001b[1mwandb\u001b[0m: Agent Starting Run: zu91uzvc with config:\n",
            "\u001b[34m\u001b[1mwandb\u001b[0m: \tLR: 0.00023326353983478152\n",
            "\u001b[34m\u001b[1mwandb\u001b[0m: \tnetwork_size: 128\n",
            "\u001b[34m\u001b[1mwandb\u001b[0m: \u001b[33mWARNING\u001b[0m Ignored wandb.init() arg project when running a sweep.\n"
          ]
        },
        {
          "output_type": "display_data",
          "data": {
            "text/plain": [
              "<IPython.core.display.HTML object>"
            ],
            "text/html": [
              "Tracking run with wandb version 0.16.6"
            ]
          },
          "metadata": {}
        },
        {
          "output_type": "display_data",
          "data": {
            "text/plain": [
              "<IPython.core.display.HTML object>"
            ],
            "text/html": [
              "Run data is saved locally in <code>/content/wandb/run-20240405_231410-zu91uzvc</code>"
            ]
          },
          "metadata": {}
        },
        {
          "output_type": "display_data",
          "data": {
            "text/plain": [
              "<IPython.core.display.HTML object>"
            ],
            "text/html": [
              "Syncing run <strong><a href='https://wandb.ai/deep_learning_duri/RLA2ACROBOT-wobase/runs/zu91uzvc' target=\"_blank\">cosmic-sweep-2</a></strong> to <a href='https://wandb.ai/deep_learning_duri/RLA2ACROBOT-wobase' target=\"_blank\">Weights & Biases</a> (<a href='https://wandb.me/run' target=\"_blank\">docs</a>)<br/>Sweep page: <a href='https://wandb.ai/deep_learning_duri/RLA2ACROBOT-wobase/sweeps/797nd2sd' target=\"_blank\">https://wandb.ai/deep_learning_duri/RLA2ACROBOT-wobase/sweeps/797nd2sd</a>"
            ]
          },
          "metadata": {}
        },
        {
          "output_type": "display_data",
          "data": {
            "text/plain": [
              "<IPython.core.display.HTML object>"
            ],
            "text/html": [
              " View project at <a href='https://wandb.ai/deep_learning_duri/RLA2ACROBOT-wobase' target=\"_blank\">https://wandb.ai/deep_learning_duri/RLA2ACROBOT-wobase</a>"
            ]
          },
          "metadata": {}
        },
        {
          "output_type": "display_data",
          "data": {
            "text/plain": [
              "<IPython.core.display.HTML object>"
            ],
            "text/html": [
              " View sweep at <a href='https://wandb.ai/deep_learning_duri/RLA2ACROBOT-wobase/sweeps/797nd2sd' target=\"_blank\">https://wandb.ai/deep_learning_duri/RLA2ACROBOT-wobase/sweeps/797nd2sd</a>"
            ]
          },
          "metadata": {}
        },
        {
          "output_type": "display_data",
          "data": {
            "text/plain": [
              "<IPython.core.display.HTML object>"
            ],
            "text/html": [
              " View run at <a href='https://wandb.ai/deep_learning_duri/RLA2ACROBOT-wobase/runs/zu91uzvc' target=\"_blank\">https://wandb.ai/deep_learning_duri/RLA2ACROBOT-wobase/runs/zu91uzvc</a>"
            ]
          },
          "metadata": {}
        },
        {
          "output_type": "stream",
          "name": "stdout",
          "text": [
            "{'LR': 0.00023326353983478152, 'network_size': 128} Its just getting started \n",
            "Ep: 400 last 100 episodes reward is  : -264.84\n",
            "Ep: 800 last 100 episodes reward is  : -253.58\n",
            "Ep: 1200 last 100 episodes reward is  : -178.47\n",
            "Ep: 1600 last 100 episodes reward is  : -163.1\n",
            "Ep: 2000 last 100 episodes reward is  : -158.98\n",
            "Ep: 2400 last 100 episodes reward is  : -181.43\n",
            "Ep: 2800 last 100 episodes reward is  : -198.65\n",
            "Ep: 3200 last 100 episodes reward is  : -209.42\n",
            "Ep: 3600 last 100 episodes reward is  : -194.36\n",
            "Ep: 4000 last 100 episodes reward is  : -189.7\n",
            "Ep: 4400 last 100 episodes reward is  : -228.5\n",
            "Ep: 4800 last 100 episodes reward is  : -271.26\n",
            "{'LR': 0.00023326353983478152, 'network_size': 128} 1082669.3125482886\n",
            "Ep: 400 last 100 episodes reward is  : -498.68\n",
            "Ep: 800 last 100 episodes reward is  : -351.08\n",
            "Ep: 1200 last 100 episodes reward is  : -250.25\n",
            "Ep: 1600 last 100 episodes reward is  : -259.03\n",
            "Ep: 2000 last 100 episodes reward is  : -158.27\n",
            "Ep: 2400 last 100 episodes reward is  : -154.37\n",
            "Ep: 2800 last 100 episodes reward is  : -147.48\n",
            "Ep: 3200 last 100 episodes reward is  : -153.57\n",
            "Ep: 3600 last 100 episodes reward is  : -194.96\n",
            "Ep: 4000 last 100 episodes reward is  : -180.69\n",
            "Ep: 4400 last 100 episodes reward is  : -157.69\n",
            "Ep: 4800 last 100 episodes reward is  : -155.59\n",
            "{'LR': 0.00023326353983478152, 'network_size': 128} 1171569.178989906\n",
            "Ep: 400 last 100 episodes reward is  : -307.16\n",
            "Ep: 800 last 100 episodes reward is  : -257.77\n",
            "Ep: 1200 last 100 episodes reward is  : -192.93\n",
            "Ep: 1600 last 100 episodes reward is  : -180.61\n",
            "Ep: 2000 last 100 episodes reward is  : -169.04\n",
            "Ep: 2400 last 100 episodes reward is  : -155.58\n",
            "Ep: 2800 last 100 episodes reward is  : -161.29\n",
            "Ep: 3200 last 100 episodes reward is  : -157.62\n",
            "Ep: 3600 last 100 episodes reward is  : -169.52\n",
            "Ep: 4000 last 100 episodes reward is  : -154.91\n",
            "Ep: 4400 last 100 episodes reward is  : -155.26\n",
            "Ep: 4800 last 100 episodes reward is  : -157.62\n",
            "{'LR': 0.00023326353983478152, 'network_size': 128} 993681.626979271\n",
            "Ep: 400 last 100 episodes reward is  : -244.75\n",
            "Ep: 800 last 100 episodes reward is  : -185.64\n",
            "Ep: 1200 last 100 episodes reward is  : -162.11\n",
            "Ep: 1600 last 100 episodes reward is  : -163.91\n",
            "Ep: 2000 last 100 episodes reward is  : -211.01\n",
            "Ep: 2400 last 100 episodes reward is  : -219.86\n",
            "Ep: 2800 last 100 episodes reward is  : -211.19\n",
            "Ep: 3200 last 100 episodes reward is  : -204.11\n",
            "Ep: 3600 last 100 episodes reward is  : -224.14\n",
            "Ep: 4000 last 100 episodes reward is  : -236.05\n",
            "Ep: 4400 last 100 episodes reward is  : -173.4\n",
            "Ep: 4800 last 100 episodes reward is  : -148.58\n",
            "{'LR': 0.00023326353983478152, 'network_size': 128} 1004468.0434478633\n",
            "Ep: 400 last 100 episodes reward is  : -378.42\n",
            "Ep: 800 last 100 episodes reward is  : -216.31\n",
            "Ep: 1200 last 100 episodes reward is  : -210.02\n",
            "Ep: 1600 last 100 episodes reward is  : -160.45\n",
            "Ep: 2000 last 100 episodes reward is  : -158.55\n",
            "Ep: 2400 last 100 episodes reward is  : -153.8\n",
            "Ep: 2800 last 100 episodes reward is  : -143.03\n",
            "Ep: 3200 last 100 episodes reward is  : -141.57\n",
            "Ep: 3600 last 100 episodes reward is  : -142.39\n",
            "Ep: 4000 last 100 episodes reward is  : -138.84\n",
            "Ep: 4400 last 100 episodes reward is  : -145.05\n",
            "Ep: 4800 last 100 episodes reward is  : -142.56\n",
            "{'LR': 0.00023326353983478152, 'network_size': 128} 949888.8799999991\n",
            "regret_avg: 5202277.041965328 for {'LR': 0.00023326353983478152, 'network_size': 128}\n"
          ]
        },
        {
          "output_type": "display_data",
          "data": {
            "text/plain": [
              "VBox(children=(Label(value='0.001 MB of 0.001 MB uploaded\\r'), FloatProgress(value=1.0, max=1.0)))"
            ],
            "application/vnd.jupyter.widget-view+json": {
              "version_major": 2,
              "version_minor": 0,
              "model_id": "9a46e808d60946f5b228b5153f3cdf7c"
            }
          },
          "metadata": {}
        },
        {
          "output_type": "display_data",
          "data": {
            "text/plain": [
              "<IPython.core.display.HTML object>"
            ],
            "text/html": [
              "<style>\n",
              "    table.wandb td:nth-child(1) { padding: 0 10px; text-align: left ; width: auto;} td:nth-child(2) {text-align: left ; width: 100%}\n",
              "    .wandb-row { display: flex; flex-direction: row; flex-wrap: wrap; justify-content: flex-start; width: 100% }\n",
              "    .wandb-col { display: flex; flex-direction: column; flex-basis: 100%; flex: 1; padding: 10px; }\n",
              "    </style>\n",
              "<div class=\"wandb-row\"><div class=\"wandb-col\"><h3>Run history:</h3><br/><table class=\"wandb\"><tr><td>score</td><td>▁</td></tr></table><br/></div><div class=\"wandb-col\"><h3>Run summary:</h3><br/><table class=\"wandb\"><tr><td>score</td><td>5202277.04197</td></tr></table><br/></div></div>"
            ]
          },
          "metadata": {}
        },
        {
          "output_type": "display_data",
          "data": {
            "text/plain": [
              "<IPython.core.display.HTML object>"
            ],
            "text/html": [
              " View run <strong style=\"color:#cdcd00\">cosmic-sweep-2</strong> at: <a href='https://wandb.ai/deep_learning_duri/RLA2ACROBOT-wobase/runs/zu91uzvc' target=\"_blank\">https://wandb.ai/deep_learning_duri/RLA2ACROBOT-wobase/runs/zu91uzvc</a><br/> View project at: <a href='https://wandb.ai/deep_learning_duri/RLA2ACROBOT-wobase' target=\"_blank\">https://wandb.ai/deep_learning_duri/RLA2ACROBOT-wobase</a><br/>Synced 5 W&B file(s), 0 media file(s), 0 artifact file(s) and 0 other file(s)"
            ]
          },
          "metadata": {}
        },
        {
          "output_type": "display_data",
          "data": {
            "text/plain": [
              "<IPython.core.display.HTML object>"
            ],
            "text/html": [
              "Find logs at: <code>./wandb/run-20240405_231410-zu91uzvc/logs</code>"
            ]
          },
          "metadata": {}
        },
        {
          "output_type": "stream",
          "name": "stderr",
          "text": [
            "\u001b[34m\u001b[1mwandb\u001b[0m: Agent Starting Run: avq38fyq with config:\n",
            "\u001b[34m\u001b[1mwandb\u001b[0m: \tLR: 0.00094724233935401\n",
            "\u001b[34m\u001b[1mwandb\u001b[0m: \tnetwork_size: 128\n",
            "\u001b[34m\u001b[1mwandb\u001b[0m: \u001b[33mWARNING\u001b[0m Ignored wandb.init() arg project when running a sweep.\n"
          ]
        },
        {
          "output_type": "display_data",
          "data": {
            "text/plain": [
              "<IPython.core.display.HTML object>"
            ],
            "text/html": [
              "Tracking run with wandb version 0.16.6"
            ]
          },
          "metadata": {}
        },
        {
          "output_type": "display_data",
          "data": {
            "text/plain": [
              "<IPython.core.display.HTML object>"
            ],
            "text/html": [
              "Run data is saved locally in <code>/content/wandb/run-20240406_003326-avq38fyq</code>"
            ]
          },
          "metadata": {}
        },
        {
          "output_type": "display_data",
          "data": {
            "text/plain": [
              "<IPython.core.display.HTML object>"
            ],
            "text/html": [
              "Syncing run <strong><a href='https://wandb.ai/deep_learning_duri/RLA2ACROBOT-wobase/runs/avq38fyq' target=\"_blank\">fragrant-sweep-3</a></strong> to <a href='https://wandb.ai/deep_learning_duri/RLA2ACROBOT-wobase' target=\"_blank\">Weights & Biases</a> (<a href='https://wandb.me/run' target=\"_blank\">docs</a>)<br/>Sweep page: <a href='https://wandb.ai/deep_learning_duri/RLA2ACROBOT-wobase/sweeps/797nd2sd' target=\"_blank\">https://wandb.ai/deep_learning_duri/RLA2ACROBOT-wobase/sweeps/797nd2sd</a>"
            ]
          },
          "metadata": {}
        },
        {
          "output_type": "display_data",
          "data": {
            "text/plain": [
              "<IPython.core.display.HTML object>"
            ],
            "text/html": [
              " View project at <a href='https://wandb.ai/deep_learning_duri/RLA2ACROBOT-wobase' target=\"_blank\">https://wandb.ai/deep_learning_duri/RLA2ACROBOT-wobase</a>"
            ]
          },
          "metadata": {}
        },
        {
          "output_type": "display_data",
          "data": {
            "text/plain": [
              "<IPython.core.display.HTML object>"
            ],
            "text/html": [
              " View sweep at <a href='https://wandb.ai/deep_learning_duri/RLA2ACROBOT-wobase/sweeps/797nd2sd' target=\"_blank\">https://wandb.ai/deep_learning_duri/RLA2ACROBOT-wobase/sweeps/797nd2sd</a>"
            ]
          },
          "metadata": {}
        },
        {
          "output_type": "display_data",
          "data": {
            "text/plain": [
              "<IPython.core.display.HTML object>"
            ],
            "text/html": [
              " View run at <a href='https://wandb.ai/deep_learning_duri/RLA2ACROBOT-wobase/runs/avq38fyq' target=\"_blank\">https://wandb.ai/deep_learning_duri/RLA2ACROBOT-wobase/runs/avq38fyq</a>"
            ]
          },
          "metadata": {}
        },
        {
          "output_type": "stream",
          "name": "stdout",
          "text": [
            "{'LR': 0.00094724233935401, 'network_size': 128} Its just getting started \n",
            "Ep: 400 last 100 episodes reward is  : -181.09\n",
            "Ep: 800 last 100 episodes reward is  : -247.57\n",
            "Ep: 1200 last 100 episodes reward is  : -201.48\n",
            "Ep: 1600 last 100 episodes reward is  : -117.8\n",
            "Ep: 2000 last 100 episodes reward is  : -154.07\n",
            "Ep: 2400 last 100 episodes reward is  : -179.51\n",
            "Ep: 2800 last 100 episodes reward is  : -273.83\n",
            "Ep: 3200 last 100 episodes reward is  : -249.28\n",
            "Ep: 3600 last 100 episodes reward is  : -163.92\n",
            "Ep: 4000 last 100 episodes reward is  : -169.85\n",
            "Ep: 4400 last 100 episodes reward is  : -169.35\n",
            "Ep: 4800 last 100 episodes reward is  : -155.52\n",
            "{'LR': 0.00094724233935401, 'network_size': 128} 1015783.5391180273\n",
            "Ep: 400 last 100 episodes reward is  : -192.99\n",
            "Ep: 800 last 100 episodes reward is  : -164.28\n",
            "Ep: 1200 last 100 episodes reward is  : -214.38\n",
            "Ep: 1600 last 100 episodes reward is  : -208.26\n",
            "Ep: 2000 last 100 episodes reward is  : -393.89\n",
            "Ep: 2400 last 100 episodes reward is  : -351.26\n",
            "Ep: 2800 last 100 episodes reward is  : -209.07\n",
            "Ep: 3200 last 100 episodes reward is  : -135.13\n",
            "Ep: 3600 last 100 episodes reward is  : -266.82\n",
            "Ep: 4000 last 100 episodes reward is  : -435.41\n",
            "Ep: 4400 last 100 episodes reward is  : -282.7\n",
            "Ep: 4800 last 100 episodes reward is  : -347.38\n",
            "{'LR': 0.00094724233935401, 'network_size': 128} 1347380.6630202688\n",
            "Ep: 400 last 100 episodes reward is  : -295.5\n",
            "Ep: 800 last 100 episodes reward is  : -198.03\n",
            "Ep: 1200 last 100 episodes reward is  : -257.1\n",
            "Ep: 1600 last 100 episodes reward is  : -207.03\n",
            "Ep: 2000 last 100 episodes reward is  : -154.51\n",
            "Ep: 2400 last 100 episodes reward is  : -134.3\n",
            "Ep: 2800 last 100 episodes reward is  : -115.78\n",
            "Ep: 3200 last 100 episodes reward is  : -120.94\n",
            "Ep: 3600 last 100 episodes reward is  : -119.03\n",
            "Ep: 4000 last 100 episodes reward is  : -181.08\n",
            "Ep: 4400 last 100 episodes reward is  : -202.94\n",
            "Ep: 4800 last 100 episodes reward is  : -219.15\n",
            "{'LR': 0.00094724233935401, 'network_size': 128} 963551.4132794165\n",
            "Ep: 400 last 100 episodes reward is  : -224.68\n",
            "Ep: 800 last 100 episodes reward is  : -146.36\n",
            "Ep: 1200 last 100 episodes reward is  : -151.98\n",
            "Ep: 1600 last 100 episodes reward is  : -191.22\n",
            "Ep: 2000 last 100 episodes reward is  : -157.44\n",
            "Ep: 2400 last 100 episodes reward is  : -337.73\n",
            "Ep: 2800 last 100 episodes reward is  : -377.22\n",
            "Ep: 3200 last 100 episodes reward is  : -163.53\n",
            "Ep: 3600 last 100 episodes reward is  : -183.65\n",
            "Ep: 4000 last 100 episodes reward is  : -149.64\n",
            "Ep: 4400 last 100 episodes reward is  : -120.42\n",
            "Ep: 4800 last 100 episodes reward is  : -134.72\n",
            "{'LR': 0.00094724233935401, 'network_size': 128} 984990.386369723\n",
            "Ep: 400 last 100 episodes reward is  : -203.3\n",
            "Ep: 800 last 100 episodes reward is  : -310.82\n",
            "Ep: 1200 last 100 episodes reward is  : -281.72\n",
            "Ep: 1600 last 100 episodes reward is  : -414.32\n",
            "Ep: 2000 last 100 episodes reward is  : -400.7\n",
            "Ep: 2400 last 100 episodes reward is  : -322.59\n",
            "Ep: 2800 last 100 episodes reward is  : -230.44\n",
            "Ep: 3200 last 100 episodes reward is  : -194.62\n",
            "Ep: 3600 last 100 episodes reward is  : -480.22\n",
            "Ep: 4000 last 100 episodes reward is  : -279.67\n",
            "Ep: 4400 last 100 episodes reward is  : -283.86\n",
            "Ep: 4800 last 100 episodes reward is  : -224.74\n",
            "{'LR': 0.00094724233935401, 'network_size': 128} 1548158.6966488112\n",
            "regret_avg: 5859864.698436247 for {'LR': 0.00094724233935401, 'network_size': 128}\n"
          ]
        },
        {
          "output_type": "display_data",
          "data": {
            "text/plain": [
              "VBox(children=(Label(value='0.001 MB of 0.001 MB uploaded\\r'), FloatProgress(value=1.0, max=1.0)))"
            ],
            "application/vnd.jupyter.widget-view+json": {
              "version_major": 2,
              "version_minor": 0,
              "model_id": "4a719226ea294c799d9747209bf16206"
            }
          },
          "metadata": {}
        },
        {
          "output_type": "display_data",
          "data": {
            "text/plain": [
              "<IPython.core.display.HTML object>"
            ],
            "text/html": [
              "<style>\n",
              "    table.wandb td:nth-child(1) { padding: 0 10px; text-align: left ; width: auto;} td:nth-child(2) {text-align: left ; width: 100%}\n",
              "    .wandb-row { display: flex; flex-direction: row; flex-wrap: wrap; justify-content: flex-start; width: 100% }\n",
              "    .wandb-col { display: flex; flex-direction: column; flex-basis: 100%; flex: 1; padding: 10px; }\n",
              "    </style>\n",
              "<div class=\"wandb-row\"><div class=\"wandb-col\"><h3>Run history:</h3><br/><table class=\"wandb\"><tr><td>score</td><td>▁</td></tr></table><br/></div><div class=\"wandb-col\"><h3>Run summary:</h3><br/><table class=\"wandb\"><tr><td>score</td><td>5859864.69844</td></tr></table><br/></div></div>"
            ]
          },
          "metadata": {}
        },
        {
          "output_type": "display_data",
          "data": {
            "text/plain": [
              "<IPython.core.display.HTML object>"
            ],
            "text/html": [
              " View run <strong style=\"color:#cdcd00\">fragrant-sweep-3</strong> at: <a href='https://wandb.ai/deep_learning_duri/RLA2ACROBOT-wobase/runs/avq38fyq' target=\"_blank\">https://wandb.ai/deep_learning_duri/RLA2ACROBOT-wobase/runs/avq38fyq</a><br/> View project at: <a href='https://wandb.ai/deep_learning_duri/RLA2ACROBOT-wobase' target=\"_blank\">https://wandb.ai/deep_learning_duri/RLA2ACROBOT-wobase</a><br/>Synced 5 W&B file(s), 0 media file(s), 0 artifact file(s) and 0 other file(s)"
            ]
          },
          "metadata": {}
        },
        {
          "output_type": "display_data",
          "data": {
            "text/plain": [
              "<IPython.core.display.HTML object>"
            ],
            "text/html": [
              "Find logs at: <code>./wandb/run-20240406_003326-avq38fyq/logs</code>"
            ]
          },
          "metadata": {}
        },
        {
          "output_type": "stream",
          "name": "stderr",
          "text": [
            "\u001b[34m\u001b[1mwandb\u001b[0m: Agent Starting Run: 0s3jbjb5 with config:\n",
            "\u001b[34m\u001b[1mwandb\u001b[0m: \tLR: 0.0006829462141650387\n",
            "\u001b[34m\u001b[1mwandb\u001b[0m: \tnetwork_size: 128\n",
            "\u001b[34m\u001b[1mwandb\u001b[0m: \u001b[33mWARNING\u001b[0m Ignored wandb.init() arg project when running a sweep.\n"
          ]
        },
        {
          "output_type": "display_data",
          "data": {
            "text/plain": [
              "<IPython.core.display.HTML object>"
            ],
            "text/html": [
              "Tracking run with wandb version 0.16.6"
            ]
          },
          "metadata": {}
        },
        {
          "output_type": "display_data",
          "data": {
            "text/plain": [
              "<IPython.core.display.HTML object>"
            ],
            "text/html": [
              "Run data is saved locally in <code>/content/wandb/run-20240406_020440-0s3jbjb5</code>"
            ]
          },
          "metadata": {}
        },
        {
          "output_type": "display_data",
          "data": {
            "text/plain": [
              "<IPython.core.display.HTML object>"
            ],
            "text/html": [
              "Syncing run <strong><a href='https://wandb.ai/deep_learning_duri/RLA2ACROBOT-wobase/runs/0s3jbjb5' target=\"_blank\">icy-sweep-4</a></strong> to <a href='https://wandb.ai/deep_learning_duri/RLA2ACROBOT-wobase' target=\"_blank\">Weights & Biases</a> (<a href='https://wandb.me/run' target=\"_blank\">docs</a>)<br/>Sweep page: <a href='https://wandb.ai/deep_learning_duri/RLA2ACROBOT-wobase/sweeps/797nd2sd' target=\"_blank\">https://wandb.ai/deep_learning_duri/RLA2ACROBOT-wobase/sweeps/797nd2sd</a>"
            ]
          },
          "metadata": {}
        },
        {
          "output_type": "display_data",
          "data": {
            "text/plain": [
              "<IPython.core.display.HTML object>"
            ],
            "text/html": [
              " View project at <a href='https://wandb.ai/deep_learning_duri/RLA2ACROBOT-wobase' target=\"_blank\">https://wandb.ai/deep_learning_duri/RLA2ACROBOT-wobase</a>"
            ]
          },
          "metadata": {}
        },
        {
          "output_type": "display_data",
          "data": {
            "text/plain": [
              "<IPython.core.display.HTML object>"
            ],
            "text/html": [
              " View sweep at <a href='https://wandb.ai/deep_learning_duri/RLA2ACROBOT-wobase/sweeps/797nd2sd' target=\"_blank\">https://wandb.ai/deep_learning_duri/RLA2ACROBOT-wobase/sweeps/797nd2sd</a>"
            ]
          },
          "metadata": {}
        },
        {
          "output_type": "display_data",
          "data": {
            "text/plain": [
              "<IPython.core.display.HTML object>"
            ],
            "text/html": [
              " View run at <a href='https://wandb.ai/deep_learning_duri/RLA2ACROBOT-wobase/runs/0s3jbjb5' target=\"_blank\">https://wandb.ai/deep_learning_duri/RLA2ACROBOT-wobase/runs/0s3jbjb5</a>"
            ]
          },
          "metadata": {}
        },
        {
          "output_type": "stream",
          "name": "stdout",
          "text": [
            "{'LR': 0.0006829462141650387, 'network_size': 128} Its just getting started \n",
            "Ep: 400 last 100 episodes reward is  : -253.55\n",
            "Ep: 800 last 100 episodes reward is  : -169.42\n",
            "Ep: 1200 last 100 episodes reward is  : -192.27\n",
            "Ep: 1600 last 100 episodes reward is  : -191.24\n",
            "Ep: 2000 last 100 episodes reward is  : -165.07\n",
            "Ep: 2400 last 100 episodes reward is  : -165.73\n",
            "Ep: 2800 last 100 episodes reward is  : -132.73\n",
            "Ep: 3200 last 100 episodes reward is  : -143.71\n",
            "Ep: 3600 last 100 episodes reward is  : -138.47\n",
            "Ep: 4000 last 100 episodes reward is  : -174.07\n",
            "Ep: 4400 last 100 episodes reward is  : -176.85\n",
            "Ep: 4800 last 100 episodes reward is  : -157.4\n",
            "{'LR': 0.0006829462141650387, 'network_size': 128} 956918.9199562166\n",
            "Ep: 400 last 100 episodes reward is  : -306.02\n",
            "Ep: 800 last 100 episodes reward is  : -267.66\n",
            "Ep: 1200 last 100 episodes reward is  : -210.0\n",
            "Ep: 1600 last 100 episodes reward is  : -154.05\n",
            "Ep: 2000 last 100 episodes reward is  : -144.79\n",
            "Ep: 2400 last 100 episodes reward is  : -143.22\n",
            "Ep: 2800 last 100 episodes reward is  : -162.56\n",
            "Ep: 3200 last 100 episodes reward is  : -165.3\n",
            "Ep: 3600 last 100 episodes reward is  : -137.21\n",
            "Ep: 4000 last 100 episodes reward is  : -151.11\n",
            "Ep: 4400 last 100 episodes reward is  : -172.78\n",
            "Ep: 4800 last 100 episodes reward is  : -158.64\n",
            "{'LR': 0.0006829462141650387, 'network_size': 128} 959866.2546280981\n",
            "Ep: 400 last 100 episodes reward is  : -255.23\n",
            "Ep: 800 last 100 episodes reward is  : -305.41\n",
            "Ep: 1200 last 100 episodes reward is  : -194.1\n",
            "Ep: 1600 last 100 episodes reward is  : -228.54\n",
            "Ep: 2000 last 100 episodes reward is  : -344.93\n",
            "Ep: 2400 last 100 episodes reward is  : -365.27\n",
            "Ep: 2800 last 100 episodes reward is  : -240.55\n",
            "Ep: 3200 last 100 episodes reward is  : -179.76\n",
            "Ep: 3600 last 100 episodes reward is  : -209.99\n",
            "Ep: 4000 last 100 episodes reward is  : -203.62\n",
            "Ep: 4400 last 100 episodes reward is  : -220.23\n",
            "Ep: 4800 last 100 episodes reward is  : -217.98\n",
            "{'LR': 0.0006829462141650387, 'network_size': 128} 1317063.2459440192\n",
            "Ep: 400 last 100 episodes reward is  : -172.55\n",
            "Ep: 800 last 100 episodes reward is  : -131.97\n",
            "Ep: 1200 last 100 episodes reward is  : -419.82\n",
            "Ep: 1600 last 100 episodes reward is  : -292.32\n",
            "Ep: 2000 last 100 episodes reward is  : -163.63\n",
            "Ep: 2400 last 100 episodes reward is  : -142.67\n",
            "Ep: 2800 last 100 episodes reward is  : -144.9\n",
            "Ep: 3200 last 100 episodes reward is  : -233.51\n",
            "Ep: 3600 last 100 episodes reward is  : -209.17\n",
            "Ep: 4000 last 100 episodes reward is  : -232.1\n",
            "Ep: 4400 last 100 episodes reward is  : -238.19\n",
            "Ep: 4800 last 100 episodes reward is  : -218.48\n",
            "{'LR': 0.0006829462141650387, 'network_size': 128} 1126807.6343235874\n",
            "Ep: 400 last 100 episodes reward is  : -336.81\n",
            "Ep: 800 last 100 episodes reward is  : -374.95\n",
            "Ep: 1200 last 100 episodes reward is  : -236.64\n",
            "Ep: 1600 last 100 episodes reward is  : -138.91\n",
            "Ep: 2000 last 100 episodes reward is  : -144.99\n",
            "Ep: 2400 last 100 episodes reward is  : -176.11\n",
            "Ep: 2800 last 100 episodes reward is  : -145.3\n",
            "Ep: 3200 last 100 episodes reward is  : -162.87\n",
            "Ep: 3600 last 100 episodes reward is  : -274.35\n",
            "Ep: 4000 last 100 episodes reward is  : -347.83\n",
            "Ep: 4400 last 100 episodes reward is  : -304.52\n",
            "Ep: 4800 last 100 episodes reward is  : -345.13\n",
            "{'LR': 0.0006829462141650387, 'network_size': 128} 1298382.2400076615\n",
            "regret_avg: 5659038.294859583 for {'LR': 0.0006829462141650387, 'network_size': 128}\n"
          ]
        },
        {
          "output_type": "display_data",
          "data": {
            "text/plain": [
              "VBox(children=(Label(value='0.014 MB of 0.014 MB uploaded\\r'), FloatProgress(value=1.0, max=1.0)))"
            ],
            "application/vnd.jupyter.widget-view+json": {
              "version_major": 2,
              "version_minor": 0,
              "model_id": "ef51eacf6cd04c11b45562478212e2e7"
            }
          },
          "metadata": {}
        },
        {
          "output_type": "display_data",
          "data": {
            "text/plain": [
              "<IPython.core.display.HTML object>"
            ],
            "text/html": [
              "<style>\n",
              "    table.wandb td:nth-child(1) { padding: 0 10px; text-align: left ; width: auto;} td:nth-child(2) {text-align: left ; width: 100%}\n",
              "    .wandb-row { display: flex; flex-direction: row; flex-wrap: wrap; justify-content: flex-start; width: 100% }\n",
              "    .wandb-col { display: flex; flex-direction: column; flex-basis: 100%; flex: 1; padding: 10px; }\n",
              "    </style>\n",
              "<div class=\"wandb-row\"><div class=\"wandb-col\"><h3>Run history:</h3><br/><table class=\"wandb\"><tr><td>score</td><td>▁</td></tr></table><br/></div><div class=\"wandb-col\"><h3>Run summary:</h3><br/><table class=\"wandb\"><tr><td>score</td><td>5659038.29486</td></tr></table><br/></div></div>"
            ]
          },
          "metadata": {}
        },
        {
          "output_type": "display_data",
          "data": {
            "text/plain": [
              "<IPython.core.display.HTML object>"
            ],
            "text/html": [
              " View run <strong style=\"color:#cdcd00\">icy-sweep-4</strong> at: <a href='https://wandb.ai/deep_learning_duri/RLA2ACROBOT-wobase/runs/0s3jbjb5' target=\"_blank\">https://wandb.ai/deep_learning_duri/RLA2ACROBOT-wobase/runs/0s3jbjb5</a><br/> View project at: <a href='https://wandb.ai/deep_learning_duri/RLA2ACROBOT-wobase' target=\"_blank\">https://wandb.ai/deep_learning_duri/RLA2ACROBOT-wobase</a><br/>Synced 5 W&B file(s), 0 media file(s), 0 artifact file(s) and 0 other file(s)"
            ]
          },
          "metadata": {}
        },
        {
          "output_type": "display_data",
          "data": {
            "text/plain": [
              "<IPython.core.display.HTML object>"
            ],
            "text/html": [
              "Find logs at: <code>./wandb/run-20240406_020440-0s3jbjb5/logs</code>"
            ]
          },
          "metadata": {}
        },
        {
          "output_type": "stream",
          "name": "stderr",
          "text": [
            "\u001b[34m\u001b[1mwandb\u001b[0m: Agent Starting Run: zdylpf27 with config:\n",
            "\u001b[34m\u001b[1mwandb\u001b[0m: \tLR: 0.00039232825543089166\n",
            "\u001b[34m\u001b[1mwandb\u001b[0m: \tnetwork_size: 256\n",
            "\u001b[34m\u001b[1mwandb\u001b[0m: \u001b[33mWARNING\u001b[0m Ignored wandb.init() arg project when running a sweep.\n"
          ]
        },
        {
          "output_type": "display_data",
          "data": {
            "text/plain": [
              "<IPython.core.display.HTML object>"
            ],
            "text/html": [
              "Tracking run with wandb version 0.16.6"
            ]
          },
          "metadata": {}
        },
        {
          "output_type": "display_data",
          "data": {
            "text/plain": [
              "<IPython.core.display.HTML object>"
            ],
            "text/html": [
              "Run data is saved locally in <code>/content/wandb/run-20240406_033214-zdylpf27</code>"
            ]
          },
          "metadata": {}
        },
        {
          "output_type": "display_data",
          "data": {
            "text/plain": [
              "<IPython.core.display.HTML object>"
            ],
            "text/html": [
              "Syncing run <strong><a href='https://wandb.ai/deep_learning_duri/RLA2ACROBOT-wobase/runs/zdylpf27' target=\"_blank\">fresh-sweep-5</a></strong> to <a href='https://wandb.ai/deep_learning_duri/RLA2ACROBOT-wobase' target=\"_blank\">Weights & Biases</a> (<a href='https://wandb.me/run' target=\"_blank\">docs</a>)<br/>Sweep page: <a href='https://wandb.ai/deep_learning_duri/RLA2ACROBOT-wobase/sweeps/797nd2sd' target=\"_blank\">https://wandb.ai/deep_learning_duri/RLA2ACROBOT-wobase/sweeps/797nd2sd</a>"
            ]
          },
          "metadata": {}
        },
        {
          "output_type": "display_data",
          "data": {
            "text/plain": [
              "<IPython.core.display.HTML object>"
            ],
            "text/html": [
              " View project at <a href='https://wandb.ai/deep_learning_duri/RLA2ACROBOT-wobase' target=\"_blank\">https://wandb.ai/deep_learning_duri/RLA2ACROBOT-wobase</a>"
            ]
          },
          "metadata": {}
        },
        {
          "output_type": "display_data",
          "data": {
            "text/plain": [
              "<IPython.core.display.HTML object>"
            ],
            "text/html": [
              " View sweep at <a href='https://wandb.ai/deep_learning_duri/RLA2ACROBOT-wobase/sweeps/797nd2sd' target=\"_blank\">https://wandb.ai/deep_learning_duri/RLA2ACROBOT-wobase/sweeps/797nd2sd</a>"
            ]
          },
          "metadata": {}
        },
        {
          "output_type": "display_data",
          "data": {
            "text/plain": [
              "<IPython.core.display.HTML object>"
            ],
            "text/html": [
              " View run at <a href='https://wandb.ai/deep_learning_duri/RLA2ACROBOT-wobase/runs/zdylpf27' target=\"_blank\">https://wandb.ai/deep_learning_duri/RLA2ACROBOT-wobase/runs/zdylpf27</a>"
            ]
          },
          "metadata": {}
        },
        {
          "output_type": "stream",
          "name": "stdout",
          "text": [
            "{'LR': 0.00039232825543089166, 'network_size': 256} Its just getting started \n",
            "Ep: 400 last 100 episodes reward is  : -237.2\n",
            "Ep: 800 last 100 episodes reward is  : -151.62\n",
            "Ep: 1200 last 100 episodes reward is  : -136.48\n",
            "Ep: 1600 last 100 episodes reward is  : -135.25\n",
            "Ep: 2000 last 100 episodes reward is  : -171.28\n",
            "Ep: 2400 last 100 episodes reward is  : -159.61\n",
            "Ep: 2800 last 100 episodes reward is  : -141.82\n",
            "Ep: 3200 last 100 episodes reward is  : -138.42\n",
            "Ep: 3600 last 100 episodes reward is  : -189.9\n",
            "Ep: 4000 last 100 episodes reward is  : -206.19\n",
            "Ep: 4400 last 100 episodes reward is  : -159.1\n",
            "Ep: 4800 last 100 episodes reward is  : -155.87\n",
            "{'LR': 0.00039232825543089166, 'network_size': 256} 867591.0754952182\n",
            "Ep: 400 last 100 episodes reward is  : -339.32\n",
            "Ep: 800 last 100 episodes reward is  : -160.11\n",
            "Ep: 1200 last 100 episodes reward is  : -133.49\n",
            "Ep: 1600 last 100 episodes reward is  : -143.81\n",
            "Ep: 2000 last 100 episodes reward is  : -170.32\n",
            "Ep: 2400 last 100 episodes reward is  : -183.16\n",
            "Ep: 2800 last 100 episodes reward is  : -162.38\n"
          ]
        }
      ]
    },
    {
      "cell_type": "code",
      "source": [
        "import matplotlib.pyplot as plt"
      ],
      "metadata": {
        "id": "FOHCGgXNN0dL"
      },
      "execution_count": null,
      "outputs": []
    },
    {
      "cell_type": "code",
      "source": [
        "'''\n",
        "plt.plot(total_rewards)\n",
        "plt.plot()\n",
        "plt.xlabel('Episode')\n",
        "plt.ylabel('Reward')\n",
        "\n",
        "plt.show()'''\n"
      ],
      "metadata": {
        "id": "_t7RS5cGL5cq"
      },
      "execution_count": null,
      "outputs": []
    },
    {
      "cell_type": "code",
      "source": [],
      "metadata": {
        "id": "HJdaEEBPNw6U"
      },
      "execution_count": null,
      "outputs": []
    }
  ]
}