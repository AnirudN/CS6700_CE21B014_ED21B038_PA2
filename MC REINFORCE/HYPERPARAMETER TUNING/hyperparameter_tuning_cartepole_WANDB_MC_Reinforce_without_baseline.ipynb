{
  "nbformat": 4,
  "nbformat_minor": 0,
  "metadata": {
    "colab": {
      "provenance": [],
      "gpuType": "T4"
    },
    "kernelspec": {
      "name": "python3",
      "display_name": "Python 3"
    },
    "language_info": {
      "name": "python"
    },
    "accelerator": "GPU",
    "widgets": {
      "application/vnd.jupyter.widget-state+json": {
        "079bf80a644646c48bd8a705dba04539": {
          "model_module": "@jupyter-widgets/controls",
          "model_name": "VBoxModel",
          "model_module_version": "1.5.0",
          "state": {
            "_dom_classes": [],
            "_model_module": "@jupyter-widgets/controls",
            "_model_module_version": "1.5.0",
            "_model_name": "VBoxModel",
            "_view_count": null,
            "_view_module": "@jupyter-widgets/controls",
            "_view_module_version": "1.5.0",
            "_view_name": "VBoxView",
            "box_style": "",
            "children": [
              "IPY_MODEL_4f9c62532b684838a5e37a60605409be",
              "IPY_MODEL_6e53c280e97a492095b618426e37f6d2"
            ],
            "layout": "IPY_MODEL_a109b6af980c483aaf61772306fb2710"
          }
        },
        "4f9c62532b684838a5e37a60605409be": {
          "model_module": "@jupyter-widgets/controls",
          "model_name": "LabelModel",
          "model_module_version": "1.5.0",
          "state": {
            "_dom_classes": [],
            "_model_module": "@jupyter-widgets/controls",
            "_model_module_version": "1.5.0",
            "_model_name": "LabelModel",
            "_view_count": null,
            "_view_module": "@jupyter-widgets/controls",
            "_view_module_version": "1.5.0",
            "_view_name": "LabelView",
            "description": "",
            "description_tooltip": null,
            "layout": "IPY_MODEL_b10d1cd5b876412eb2a35cea410261e0",
            "placeholder": "​",
            "style": "IPY_MODEL_610e780532834ae196d87cd0af1a7f0a",
            "value": "0.012 MB of 0.012 MB uploaded\r"
          }
        },
        "6e53c280e97a492095b618426e37f6d2": {
          "model_module": "@jupyter-widgets/controls",
          "model_name": "FloatProgressModel",
          "model_module_version": "1.5.0",
          "state": {
            "_dom_classes": [],
            "_model_module": "@jupyter-widgets/controls",
            "_model_module_version": "1.5.0",
            "_model_name": "FloatProgressModel",
            "_view_count": null,
            "_view_module": "@jupyter-widgets/controls",
            "_view_module_version": "1.5.0",
            "_view_name": "ProgressView",
            "bar_style": "",
            "description": "",
            "description_tooltip": null,
            "layout": "IPY_MODEL_53d4a082b1b44da4931b5e841bdaf97b",
            "max": 1,
            "min": 0,
            "orientation": "horizontal",
            "style": "IPY_MODEL_8268c67d980c4ac98cfbad3a116c598a",
            "value": 1
          }
        },
        "a109b6af980c483aaf61772306fb2710": {
          "model_module": "@jupyter-widgets/base",
          "model_name": "LayoutModel",
          "model_module_version": "1.2.0",
          "state": {
            "_model_module": "@jupyter-widgets/base",
            "_model_module_version": "1.2.0",
            "_model_name": "LayoutModel",
            "_view_count": null,
            "_view_module": "@jupyter-widgets/base",
            "_view_module_version": "1.2.0",
            "_view_name": "LayoutView",
            "align_content": null,
            "align_items": null,
            "align_self": null,
            "border": null,
            "bottom": null,
            "display": null,
            "flex": null,
            "flex_flow": null,
            "grid_area": null,
            "grid_auto_columns": null,
            "grid_auto_flow": null,
            "grid_auto_rows": null,
            "grid_column": null,
            "grid_gap": null,
            "grid_row": null,
            "grid_template_areas": null,
            "grid_template_columns": null,
            "grid_template_rows": null,
            "height": null,
            "justify_content": null,
            "justify_items": null,
            "left": null,
            "margin": null,
            "max_height": null,
            "max_width": null,
            "min_height": null,
            "min_width": null,
            "object_fit": null,
            "object_position": null,
            "order": null,
            "overflow": null,
            "overflow_x": null,
            "overflow_y": null,
            "padding": null,
            "right": null,
            "top": null,
            "visibility": null,
            "width": null
          }
        },
        "b10d1cd5b876412eb2a35cea410261e0": {
          "model_module": "@jupyter-widgets/base",
          "model_name": "LayoutModel",
          "model_module_version": "1.2.0",
          "state": {
            "_model_module": "@jupyter-widgets/base",
            "_model_module_version": "1.2.0",
            "_model_name": "LayoutModel",
            "_view_count": null,
            "_view_module": "@jupyter-widgets/base",
            "_view_module_version": "1.2.0",
            "_view_name": "LayoutView",
            "align_content": null,
            "align_items": null,
            "align_self": null,
            "border": null,
            "bottom": null,
            "display": null,
            "flex": null,
            "flex_flow": null,
            "grid_area": null,
            "grid_auto_columns": null,
            "grid_auto_flow": null,
            "grid_auto_rows": null,
            "grid_column": null,
            "grid_gap": null,
            "grid_row": null,
            "grid_template_areas": null,
            "grid_template_columns": null,
            "grid_template_rows": null,
            "height": null,
            "justify_content": null,
            "justify_items": null,
            "left": null,
            "margin": null,
            "max_height": null,
            "max_width": null,
            "min_height": null,
            "min_width": null,
            "object_fit": null,
            "object_position": null,
            "order": null,
            "overflow": null,
            "overflow_x": null,
            "overflow_y": null,
            "padding": null,
            "right": null,
            "top": null,
            "visibility": null,
            "width": null
          }
        },
        "610e780532834ae196d87cd0af1a7f0a": {
          "model_module": "@jupyter-widgets/controls",
          "model_name": "DescriptionStyleModel",
          "model_module_version": "1.5.0",
          "state": {
            "_model_module": "@jupyter-widgets/controls",
            "_model_module_version": "1.5.0",
            "_model_name": "DescriptionStyleModel",
            "_view_count": null,
            "_view_module": "@jupyter-widgets/base",
            "_view_module_version": "1.2.0",
            "_view_name": "StyleView",
            "description_width": ""
          }
        },
        "53d4a082b1b44da4931b5e841bdaf97b": {
          "model_module": "@jupyter-widgets/base",
          "model_name": "LayoutModel",
          "model_module_version": "1.2.0",
          "state": {
            "_model_module": "@jupyter-widgets/base",
            "_model_module_version": "1.2.0",
            "_model_name": "LayoutModel",
            "_view_count": null,
            "_view_module": "@jupyter-widgets/base",
            "_view_module_version": "1.2.0",
            "_view_name": "LayoutView",
            "align_content": null,
            "align_items": null,
            "align_self": null,
            "border": null,
            "bottom": null,
            "display": null,
            "flex": null,
            "flex_flow": null,
            "grid_area": null,
            "grid_auto_columns": null,
            "grid_auto_flow": null,
            "grid_auto_rows": null,
            "grid_column": null,
            "grid_gap": null,
            "grid_row": null,
            "grid_template_areas": null,
            "grid_template_columns": null,
            "grid_template_rows": null,
            "height": null,
            "justify_content": null,
            "justify_items": null,
            "left": null,
            "margin": null,
            "max_height": null,
            "max_width": null,
            "min_height": null,
            "min_width": null,
            "object_fit": null,
            "object_position": null,
            "order": null,
            "overflow": null,
            "overflow_x": null,
            "overflow_y": null,
            "padding": null,
            "right": null,
            "top": null,
            "visibility": null,
            "width": null
          }
        },
        "8268c67d980c4ac98cfbad3a116c598a": {
          "model_module": "@jupyter-widgets/controls",
          "model_name": "ProgressStyleModel",
          "model_module_version": "1.5.0",
          "state": {
            "_model_module": "@jupyter-widgets/controls",
            "_model_module_version": "1.5.0",
            "_model_name": "ProgressStyleModel",
            "_view_count": null,
            "_view_module": "@jupyter-widgets/base",
            "_view_module_version": "1.2.0",
            "_view_name": "StyleView",
            "bar_color": null,
            "description_width": ""
          }
        },
        "86320e6d63a241b18a392ca90a7e12c8": {
          "model_module": "@jupyter-widgets/controls",
          "model_name": "VBoxModel",
          "model_module_version": "1.5.0",
          "state": {
            "_dom_classes": [],
            "_model_module": "@jupyter-widgets/controls",
            "_model_module_version": "1.5.0",
            "_model_name": "VBoxModel",
            "_view_count": null,
            "_view_module": "@jupyter-widgets/controls",
            "_view_module_version": "1.5.0",
            "_view_name": "VBoxView",
            "box_style": "",
            "children": [
              "IPY_MODEL_f0040edc610548f5a5126ce45e7f57ba",
              "IPY_MODEL_1984f6c971544e55b7ecf682e67ffdc3"
            ],
            "layout": "IPY_MODEL_0e331022842b4320a6ee74eb13de373e"
          }
        },
        "f0040edc610548f5a5126ce45e7f57ba": {
          "model_module": "@jupyter-widgets/controls",
          "model_name": "LabelModel",
          "model_module_version": "1.5.0",
          "state": {
            "_dom_classes": [],
            "_model_module": "@jupyter-widgets/controls",
            "_model_module_version": "1.5.0",
            "_model_name": "LabelModel",
            "_view_count": null,
            "_view_module": "@jupyter-widgets/controls",
            "_view_module_version": "1.5.0",
            "_view_name": "LabelView",
            "description": "",
            "description_tooltip": null,
            "layout": "IPY_MODEL_3dbe627874c846aea748697022d1f539",
            "placeholder": "​",
            "style": "IPY_MODEL_0d57d80adf54475e979ad66369ec1e96",
            "value": "0.013 MB of 0.013 MB uploaded\r"
          }
        },
        "1984f6c971544e55b7ecf682e67ffdc3": {
          "model_module": "@jupyter-widgets/controls",
          "model_name": "FloatProgressModel",
          "model_module_version": "1.5.0",
          "state": {
            "_dom_classes": [],
            "_model_module": "@jupyter-widgets/controls",
            "_model_module_version": "1.5.0",
            "_model_name": "FloatProgressModel",
            "_view_count": null,
            "_view_module": "@jupyter-widgets/controls",
            "_view_module_version": "1.5.0",
            "_view_name": "ProgressView",
            "bar_style": "",
            "description": "",
            "description_tooltip": null,
            "layout": "IPY_MODEL_0feda790cfaf4918bfbc729d8082abfb",
            "max": 1,
            "min": 0,
            "orientation": "horizontal",
            "style": "IPY_MODEL_2f441b564a8f4f2fa8817045023933ac",
            "value": 1
          }
        },
        "0e331022842b4320a6ee74eb13de373e": {
          "model_module": "@jupyter-widgets/base",
          "model_name": "LayoutModel",
          "model_module_version": "1.2.0",
          "state": {
            "_model_module": "@jupyter-widgets/base",
            "_model_module_version": "1.2.0",
            "_model_name": "LayoutModel",
            "_view_count": null,
            "_view_module": "@jupyter-widgets/base",
            "_view_module_version": "1.2.0",
            "_view_name": "LayoutView",
            "align_content": null,
            "align_items": null,
            "align_self": null,
            "border": null,
            "bottom": null,
            "display": null,
            "flex": null,
            "flex_flow": null,
            "grid_area": null,
            "grid_auto_columns": null,
            "grid_auto_flow": null,
            "grid_auto_rows": null,
            "grid_column": null,
            "grid_gap": null,
            "grid_row": null,
            "grid_template_areas": null,
            "grid_template_columns": null,
            "grid_template_rows": null,
            "height": null,
            "justify_content": null,
            "justify_items": null,
            "left": null,
            "margin": null,
            "max_height": null,
            "max_width": null,
            "min_height": null,
            "min_width": null,
            "object_fit": null,
            "object_position": null,
            "order": null,
            "overflow": null,
            "overflow_x": null,
            "overflow_y": null,
            "padding": null,
            "right": null,
            "top": null,
            "visibility": null,
            "width": null
          }
        },
        "3dbe627874c846aea748697022d1f539": {
          "model_module": "@jupyter-widgets/base",
          "model_name": "LayoutModel",
          "model_module_version": "1.2.0",
          "state": {
            "_model_module": "@jupyter-widgets/base",
            "_model_module_version": "1.2.0",
            "_model_name": "LayoutModel",
            "_view_count": null,
            "_view_module": "@jupyter-widgets/base",
            "_view_module_version": "1.2.0",
            "_view_name": "LayoutView",
            "align_content": null,
            "align_items": null,
            "align_self": null,
            "border": null,
            "bottom": null,
            "display": null,
            "flex": null,
            "flex_flow": null,
            "grid_area": null,
            "grid_auto_columns": null,
            "grid_auto_flow": null,
            "grid_auto_rows": null,
            "grid_column": null,
            "grid_gap": null,
            "grid_row": null,
            "grid_template_areas": null,
            "grid_template_columns": null,
            "grid_template_rows": null,
            "height": null,
            "justify_content": null,
            "justify_items": null,
            "left": null,
            "margin": null,
            "max_height": null,
            "max_width": null,
            "min_height": null,
            "min_width": null,
            "object_fit": null,
            "object_position": null,
            "order": null,
            "overflow": null,
            "overflow_x": null,
            "overflow_y": null,
            "padding": null,
            "right": null,
            "top": null,
            "visibility": null,
            "width": null
          }
        },
        "0d57d80adf54475e979ad66369ec1e96": {
          "model_module": "@jupyter-widgets/controls",
          "model_name": "DescriptionStyleModel",
          "model_module_version": "1.5.0",
          "state": {
            "_model_module": "@jupyter-widgets/controls",
            "_model_module_version": "1.5.0",
            "_model_name": "DescriptionStyleModel",
            "_view_count": null,
            "_view_module": "@jupyter-widgets/base",
            "_view_module_version": "1.2.0",
            "_view_name": "StyleView",
            "description_width": ""
          }
        },
        "0feda790cfaf4918bfbc729d8082abfb": {
          "model_module": "@jupyter-widgets/base",
          "model_name": "LayoutModel",
          "model_module_version": "1.2.0",
          "state": {
            "_model_module": "@jupyter-widgets/base",
            "_model_module_version": "1.2.0",
            "_model_name": "LayoutModel",
            "_view_count": null,
            "_view_module": "@jupyter-widgets/base",
            "_view_module_version": "1.2.0",
            "_view_name": "LayoutView",
            "align_content": null,
            "align_items": null,
            "align_self": null,
            "border": null,
            "bottom": null,
            "display": null,
            "flex": null,
            "flex_flow": null,
            "grid_area": null,
            "grid_auto_columns": null,
            "grid_auto_flow": null,
            "grid_auto_rows": null,
            "grid_column": null,
            "grid_gap": null,
            "grid_row": null,
            "grid_template_areas": null,
            "grid_template_columns": null,
            "grid_template_rows": null,
            "height": null,
            "justify_content": null,
            "justify_items": null,
            "left": null,
            "margin": null,
            "max_height": null,
            "max_width": null,
            "min_height": null,
            "min_width": null,
            "object_fit": null,
            "object_position": null,
            "order": null,
            "overflow": null,
            "overflow_x": null,
            "overflow_y": null,
            "padding": null,
            "right": null,
            "top": null,
            "visibility": null,
            "width": null
          }
        },
        "2f441b564a8f4f2fa8817045023933ac": {
          "model_module": "@jupyter-widgets/controls",
          "model_name": "ProgressStyleModel",
          "model_module_version": "1.5.0",
          "state": {
            "_model_module": "@jupyter-widgets/controls",
            "_model_module_version": "1.5.0",
            "_model_name": "ProgressStyleModel",
            "_view_count": null,
            "_view_module": "@jupyter-widgets/base",
            "_view_module_version": "1.2.0",
            "_view_name": "StyleView",
            "bar_color": null,
            "description_width": ""
          }
        },
        "7398e61639b549c080fd15ad39d3b544": {
          "model_module": "@jupyter-widgets/controls",
          "model_name": "VBoxModel",
          "model_module_version": "1.5.0",
          "state": {
            "_dom_classes": [],
            "_model_module": "@jupyter-widgets/controls",
            "_model_module_version": "1.5.0",
            "_model_name": "VBoxModel",
            "_view_count": null,
            "_view_module": "@jupyter-widgets/controls",
            "_view_module_version": "1.5.0",
            "_view_name": "VBoxView",
            "box_style": "",
            "children": [
              "IPY_MODEL_218f2e755b7541b884d4102fae26418a",
              "IPY_MODEL_64268c49dc924e54ac013badf64ce257"
            ],
            "layout": "IPY_MODEL_14c4150895ba41bfa1ca656975dbe02c"
          }
        },
        "218f2e755b7541b884d4102fae26418a": {
          "model_module": "@jupyter-widgets/controls",
          "model_name": "LabelModel",
          "model_module_version": "1.5.0",
          "state": {
            "_dom_classes": [],
            "_model_module": "@jupyter-widgets/controls",
            "_model_module_version": "1.5.0",
            "_model_name": "LabelModel",
            "_view_count": null,
            "_view_module": "@jupyter-widgets/controls",
            "_view_module_version": "1.5.0",
            "_view_name": "LabelView",
            "description": "",
            "description_tooltip": null,
            "layout": "IPY_MODEL_5e533fb3b6cf4975bc7b50808740b7bf",
            "placeholder": "​",
            "style": "IPY_MODEL_d55423dca99d4bfa9410d747fdab6025",
            "value": "0.015 MB of 0.015 MB uploaded\r"
          }
        },
        "64268c49dc924e54ac013badf64ce257": {
          "model_module": "@jupyter-widgets/controls",
          "model_name": "FloatProgressModel",
          "model_module_version": "1.5.0",
          "state": {
            "_dom_classes": [],
            "_model_module": "@jupyter-widgets/controls",
            "_model_module_version": "1.5.0",
            "_model_name": "FloatProgressModel",
            "_view_count": null,
            "_view_module": "@jupyter-widgets/controls",
            "_view_module_version": "1.5.0",
            "_view_name": "ProgressView",
            "bar_style": "",
            "description": "",
            "description_tooltip": null,
            "layout": "IPY_MODEL_438996be351d4e51861357cd7e258506",
            "max": 1,
            "min": 0,
            "orientation": "horizontal",
            "style": "IPY_MODEL_1f84184964824146a99b3f6ad4784586",
            "value": 1
          }
        },
        "14c4150895ba41bfa1ca656975dbe02c": {
          "model_module": "@jupyter-widgets/base",
          "model_name": "LayoutModel",
          "model_module_version": "1.2.0",
          "state": {
            "_model_module": "@jupyter-widgets/base",
            "_model_module_version": "1.2.0",
            "_model_name": "LayoutModel",
            "_view_count": null,
            "_view_module": "@jupyter-widgets/base",
            "_view_module_version": "1.2.0",
            "_view_name": "LayoutView",
            "align_content": null,
            "align_items": null,
            "align_self": null,
            "border": null,
            "bottom": null,
            "display": null,
            "flex": null,
            "flex_flow": null,
            "grid_area": null,
            "grid_auto_columns": null,
            "grid_auto_flow": null,
            "grid_auto_rows": null,
            "grid_column": null,
            "grid_gap": null,
            "grid_row": null,
            "grid_template_areas": null,
            "grid_template_columns": null,
            "grid_template_rows": null,
            "height": null,
            "justify_content": null,
            "justify_items": null,
            "left": null,
            "margin": null,
            "max_height": null,
            "max_width": null,
            "min_height": null,
            "min_width": null,
            "object_fit": null,
            "object_position": null,
            "order": null,
            "overflow": null,
            "overflow_x": null,
            "overflow_y": null,
            "padding": null,
            "right": null,
            "top": null,
            "visibility": null,
            "width": null
          }
        },
        "5e533fb3b6cf4975bc7b50808740b7bf": {
          "model_module": "@jupyter-widgets/base",
          "model_name": "LayoutModel",
          "model_module_version": "1.2.0",
          "state": {
            "_model_module": "@jupyter-widgets/base",
            "_model_module_version": "1.2.0",
            "_model_name": "LayoutModel",
            "_view_count": null,
            "_view_module": "@jupyter-widgets/base",
            "_view_module_version": "1.2.0",
            "_view_name": "LayoutView",
            "align_content": null,
            "align_items": null,
            "align_self": null,
            "border": null,
            "bottom": null,
            "display": null,
            "flex": null,
            "flex_flow": null,
            "grid_area": null,
            "grid_auto_columns": null,
            "grid_auto_flow": null,
            "grid_auto_rows": null,
            "grid_column": null,
            "grid_gap": null,
            "grid_row": null,
            "grid_template_areas": null,
            "grid_template_columns": null,
            "grid_template_rows": null,
            "height": null,
            "justify_content": null,
            "justify_items": null,
            "left": null,
            "margin": null,
            "max_height": null,
            "max_width": null,
            "min_height": null,
            "min_width": null,
            "object_fit": null,
            "object_position": null,
            "order": null,
            "overflow": null,
            "overflow_x": null,
            "overflow_y": null,
            "padding": null,
            "right": null,
            "top": null,
            "visibility": null,
            "width": null
          }
        },
        "d55423dca99d4bfa9410d747fdab6025": {
          "model_module": "@jupyter-widgets/controls",
          "model_name": "DescriptionStyleModel",
          "model_module_version": "1.5.0",
          "state": {
            "_model_module": "@jupyter-widgets/controls",
            "_model_module_version": "1.5.0",
            "_model_name": "DescriptionStyleModel",
            "_view_count": null,
            "_view_module": "@jupyter-widgets/base",
            "_view_module_version": "1.2.0",
            "_view_name": "StyleView",
            "description_width": ""
          }
        },
        "438996be351d4e51861357cd7e258506": {
          "model_module": "@jupyter-widgets/base",
          "model_name": "LayoutModel",
          "model_module_version": "1.2.0",
          "state": {
            "_model_module": "@jupyter-widgets/base",
            "_model_module_version": "1.2.0",
            "_model_name": "LayoutModel",
            "_view_count": null,
            "_view_module": "@jupyter-widgets/base",
            "_view_module_version": "1.2.0",
            "_view_name": "LayoutView",
            "align_content": null,
            "align_items": null,
            "align_self": null,
            "border": null,
            "bottom": null,
            "display": null,
            "flex": null,
            "flex_flow": null,
            "grid_area": null,
            "grid_auto_columns": null,
            "grid_auto_flow": null,
            "grid_auto_rows": null,
            "grid_column": null,
            "grid_gap": null,
            "grid_row": null,
            "grid_template_areas": null,
            "grid_template_columns": null,
            "grid_template_rows": null,
            "height": null,
            "justify_content": null,
            "justify_items": null,
            "left": null,
            "margin": null,
            "max_height": null,
            "max_width": null,
            "min_height": null,
            "min_width": null,
            "object_fit": null,
            "object_position": null,
            "order": null,
            "overflow": null,
            "overflow_x": null,
            "overflow_y": null,
            "padding": null,
            "right": null,
            "top": null,
            "visibility": null,
            "width": null
          }
        },
        "1f84184964824146a99b3f6ad4784586": {
          "model_module": "@jupyter-widgets/controls",
          "model_name": "ProgressStyleModel",
          "model_module_version": "1.5.0",
          "state": {
            "_model_module": "@jupyter-widgets/controls",
            "_model_module_version": "1.5.0",
            "_model_name": "ProgressStyleModel",
            "_view_count": null,
            "_view_module": "@jupyter-widgets/base",
            "_view_module_version": "1.2.0",
            "_view_name": "StyleView",
            "bar_color": null,
            "description_width": ""
          }
        }
      }
    }
  },
  "cells": [
    {
      "cell_type": "code",
      "execution_count": null,
      "metadata": {
        "id": "eMDMQ81o0Asx"
      },
      "outputs": [],
      "source": [
        "import torch\n",
        "import torch.nn as nn\n",
        "import torch.nn.functional as F\n",
        "import torch.optim as optim\n",
        "from torch.distributions import Categorical\n",
        "\n",
        "import gym\n",
        "from tqdm import tqdm_notebook\n",
        "import numpy as np\n",
        "from collections import deque"
      ]
    },
    {
      "cell_type": "code",
      "source": [
        "#discount factor for future utilities\n",
        "DISCOUNT_FACTOR = 0.99\n",
        "gamma = 0.99\n",
        "#number of episodes to run\n",
        "NUM_EPISODES = 10000\n",
        "\n",
        "#max steps per episode\n",
        "MAX_STEPS = 10000\n",
        "\n",
        "#score agent needs for environment to be solved\n",
        "SOLVED_SCORE = 475\n",
        "\n",
        "#device to run model on\n",
        "DEVICE = \"cuda\" if torch.cuda.is_available() else \"cpu\""
      ],
      "metadata": {
        "id": "shstWM5M0GmH",
        "colab": {
          "base_uri": "https://localhost:8080/"
        },
        "outputId": "0a388790-eeac-4ac4-e26f-6ca3da996be1"
      },
      "execution_count": null,
      "outputs": [
        {
          "output_type": "stream",
          "name": "stderr",
          "text": [
            "/usr/local/lib/python3.10/dist-packages/ipykernel/ipkernel.py:283: DeprecationWarning: `should_run_async` will not call `transform_cell` automatically in the future. Please pass the result to `transformed_cell` argument and any exception that happen during thetransform in `preprocessing_exc_tuple` in IPython 7.17 and above.\n",
            "  and should_run_async(code)\n"
          ]
        }
      ]
    },
    {
      "cell_type": "code",
      "source": [
        "class PolicyNetwork(nn.Module):\n",
        "  def __init__(self, observation_space, action_space,seed,layer_size):\n",
        "        super(PolicyNetwork, self).__init__()\n",
        "        self.seed = torch.manual_seed(seed)\n",
        "        self.input_layer = nn.Linear(observation_space, layer_size)\n",
        "        self.output_layer = nn.Linear(layer_size, action_space)\n",
        "  def forward(self, x):\n",
        "        x = self.input_layer(x)\n",
        "        x = F.relu(x)\n",
        "        actions = self.output_layer(x)\n",
        "        action_probs = F.softmax(actions, dim=-1)\n",
        "        return action_probs"
      ],
      "metadata": {
        "id": "zUzMP6SW0JiN"
      },
      "execution_count": null,
      "outputs": []
    },
    {
      "cell_type": "code",
      "source": [
        "\n",
        "class StateValueNetwork(nn.Module):\n",
        "    def __init__(self, observation_space,seed,layer_size):\n",
        "        super(StateValueNetwork, self).__init__()\n",
        "        self.seed = torch.manual_seed(seed)\n",
        "        self.input_layer = nn.Linear(observation_space, layer_size)\n",
        "        self.output_layer = nn.Linear(layer_size, 1)\n",
        "    def forward(self, x):\n",
        "        x = self.input_layer(x)\n",
        "        x = F.relu(x)\n",
        "        state_value = self.output_layer(x)\n",
        "        return state_value"
      ],
      "metadata": {
        "id": "tRTcs42v1SnQ"
      },
      "execution_count": null,
      "outputs": []
    },
    {
      "cell_type": "code",
      "source": [
        "def process_rewards(rewards,gamma):\n",
        "    G = []\n",
        "    total_r = 0\n",
        "    for r in reversed(rewards):\n",
        "        total_r = r + total_r * DISCOUNT_FACTOR\n",
        "        G.insert(0, total_r)\n",
        "    G = torch.tensor(G)\n",
        "    #G = (G - G.mean())/G.std()\n",
        "    return G"
      ],
      "metadata": {
        "id": "fjmFbOmX1Zy8"
      },
      "execution_count": null,
      "outputs": []
    },
    {
      "cell_type": "code",
      "source": [
        "def train_value(G, state_vals, optimizer):\n",
        "    val_loss = F.mse_loss(state_vals, G)\n",
        "    optimizer.zero_grad()\n",
        "    val_loss.backward()\n",
        "    optimizer.step()"
      ],
      "metadata": {
        "id": "LgawT7xh3RWt"
      },
      "execution_count": null,
      "outputs": []
    },
    {
      "cell_type": "code",
      "source": [
        "#Make environment\n",
        "#env = gym.make('Acrobot-v1')\n",
        "env = gym.make('CartPole-v1')\n",
        "#Init network\n",
        "'''\n",
        "policy_network = PolicyNetwork(env.observation_space.shape[0], env.action_space.n)\n",
        "stateval_network = StateValueNetwork(env.observation_space.shape[0])'''\n",
        "\n",
        "\n",
        "#Init optimizer\n"
      ],
      "metadata": {
        "id": "mL7BCLUX3e6a",
        "colab": {
          "base_uri": "https://localhost:8080/",
          "height": 125
        },
        "outputId": "ca7604a3-e86d-403b-bbcb-0312565a6aca"
      },
      "execution_count": null,
      "outputs": [
        {
          "output_type": "stream",
          "name": "stderr",
          "text": [
            "/usr/local/lib/python3.10/dist-packages/gym/core.py:317: DeprecationWarning: \u001b[33mWARN: Initializing wrapper in old step API which returns one bool instead of two. It is recommended to set `new_step_api=True` to use new step API. This will be the default behaviour in future.\u001b[0m\n",
            "  deprecation(\n",
            "/usr/local/lib/python3.10/dist-packages/gym/wrappers/step_api_compatibility.py:39: DeprecationWarning: \u001b[33mWARN: Initializing environment in old step API which returns one bool instead of two. It is recommended to set `new_step_api=True` to use new step API. This will be the default behaviour in future.\u001b[0m\n",
            "  deprecation(\n"
          ]
        },
        {
          "output_type": "execute_result",
          "data": {
            "text/plain": [
              "'\\npolicy_network = PolicyNetwork(env.observation_space.shape[0], env.action_space.n)\\nstateval_network = StateValueNetwork(env.observation_space.shape[0])'"
            ],
            "application/vnd.google.colaboratory.intrinsic+json": {
              "type": "string"
            }
          },
          "metadata": {},
          "execution_count": 7
        }
      ]
    },
    {
      "cell_type": "code",
      "source": [
        "pip install scikit-optimize\n"
      ],
      "metadata": {
        "colab": {
          "base_uri": "https://localhost:8080/"
        },
        "id": "nDuBXWy0fowR",
        "outputId": "1e5252b7-2eea-4c56-fe17-8d8c72afe22c"
      },
      "execution_count": null,
      "outputs": [
        {
          "output_type": "stream",
          "name": "stdout",
          "text": [
            "Collecting scikit-optimize\n",
            "  Downloading scikit_optimize-0.10.1-py2.py3-none-any.whl (107 kB)\n",
            "\u001b[2K     \u001b[90m━━━━━━━━━━━━━━━━━━━━━━━━━━━━━━━━━━━━━━━━\u001b[0m \u001b[32m107.7/107.7 kB\u001b[0m \u001b[31m1.0 MB/s\u001b[0m eta \u001b[36m0:00:00\u001b[0m\n",
            "\u001b[?25hRequirement already satisfied: joblib>=0.11 in /usr/local/lib/python3.10/dist-packages (from scikit-optimize) (1.3.2)\n",
            "Collecting pyaml>=16.9 (from scikit-optimize)\n",
            "  Downloading pyaml-23.12.0-py3-none-any.whl (23 kB)\n",
            "Requirement already satisfied: numpy>=1.20.3 in /usr/local/lib/python3.10/dist-packages (from scikit-optimize) (1.25.2)\n",
            "Requirement already satisfied: scipy>=1.1.0 in /usr/local/lib/python3.10/dist-packages (from scikit-optimize) (1.11.4)\n",
            "Requirement already satisfied: scikit-learn>=1.0.0 in /usr/local/lib/python3.10/dist-packages (from scikit-optimize) (1.2.2)\n",
            "Requirement already satisfied: packaging>=21.3 in /usr/local/lib/python3.10/dist-packages (from scikit-optimize) (24.0)\n",
            "Requirement already satisfied: PyYAML in /usr/local/lib/python3.10/dist-packages (from pyaml>=16.9->scikit-optimize) (6.0.1)\n",
            "Requirement already satisfied: threadpoolctl>=2.0.0 in /usr/local/lib/python3.10/dist-packages (from scikit-learn>=1.0.0->scikit-optimize) (3.4.0)\n",
            "Installing collected packages: pyaml, scikit-optimize\n",
            "Successfully installed pyaml-23.12.0 scikit-optimize-0.10.1\n"
          ]
        }
      ]
    },
    {
      "cell_type": "code",
      "source": [
        "seed_list = [1,42,30,25,17]"
      ],
      "metadata": {
        "id": "eClLxjLqU3rI"
      },
      "execution_count": null,
      "outputs": []
    },
    {
      "cell_type": "code",
      "source": [
        "def reset_weights(model):\n",
        "    for layer in model.children():\n",
        "        if hasattr(layer, 'reset_parameters'):\n",
        "            layer.reset_parameters()"
      ],
      "metadata": {
        "id": "QMYp_9UEiWxY"
      },
      "execution_count": null,
      "outputs": []
    },
    {
      "cell_type": "code",
      "source": [
        "from skopt import gp_minimize\n",
        "\n",
        "# Define the objective function\n",
        "def objective(params):\n",
        "\n",
        "    regret_avg = 0\n",
        "    print(params,\"Its just getting started \")\n",
        "    for i in range(5):\n",
        "      seed = seed_list[i]\n",
        "      policy_network = PolicyNetwork(env.observation_space.shape[0], env.action_space.n,seed,params[\"network_size\"])\n",
        "      #stateval_network = StateValueNetwork(env.observation_space.shape[0],seed,params[\"network_size\"])\n",
        "      reset_weights(policy_network)\n",
        "      #reset_weights(stateval_network)\n",
        "      policy_optimizer = optim.Adam(policy_network.parameters(), params[\"LR\"])\n",
        "      #stateval_optimizer = optim.Adam(stateval_network.parameters(), params[\"LR\"])\n",
        "      ep = 0\n",
        "      action_space = np.arange(env.action_space.n)\n",
        "      total_rewards = []\n",
        "      regret = 0\n",
        "      while ep < NUM_EPISODES:\n",
        "        state = env.reset()\n",
        "        states = []\n",
        "        rewards = []\n",
        "        actions = []\n",
        "        done = False\n",
        "        while done == False:\n",
        "          state = torch.from_numpy(state).float().unsqueeze(0)[0]\n",
        "          action_probability = policy_network.forward(state).detach().numpy()\n",
        "          if np.isnan(action_probability).any():\n",
        "            return -float('inf')\n",
        "          else:\n",
        "            action = np.random.choice(action_space,p=action_probability)\n",
        "            state.detach()\n",
        "            next_state,r,done,_ = env.step(action)\n",
        "            states.append(state)\n",
        "            rewards.append(r)\n",
        "            actions.append(action)\n",
        "            if done :\n",
        "              break\n",
        "            state = next_state\n",
        "\n",
        "        total_rewards.append(sum(rewards))\n",
        "        G = process_rewards(rewards,gamma)\n",
        "        G = torch.FloatTensor(G)\n",
        "\n",
        "        rewards = torch.FloatTensor(rewards)\n",
        "\n",
        "        policy_optimizer.zero_grad()\n",
        "        deltas = [gt for gt in zip(G)]\n",
        "        deltas = torch.tensor(deltas)\n",
        "        logprob = [torch.log(policy_network.forward(states[i])) for i in range(len(deltas))]\n",
        "        policy_loss = []\n",
        "        for i in range(len(deltas)):\n",
        "\n",
        "              d = deltas[i]\n",
        "\n",
        "              lp = logprob[i][actions[i]]\n",
        "\n",
        "              policy_loss.append(-d * lp)\n",
        "        policy_optimizer.zero_grad()\n",
        "        #print(policy_loss,len(actions))\n",
        "        sum(policy_loss).backward()\n",
        "        policy_optimizer.step()\n",
        "        avg_rewards = np.mean(total_rewards[-100:])\n",
        "        ep +=1\n",
        "        if ep % 400  == 0:\n",
        "          print(\"Ep:\",ep,\"last 100 episodes reward is  :\",avg_rewards, end=\"\\n\")\n",
        "        if avg_rewards > 475:\n",
        "            print(\"problem solved at episode\",ep)\n",
        "            break\n",
        "        regret += 475 - avg_rewards\n",
        "      print(params,regret)\n",
        "      regret_avg += regret\n",
        "    print(\"regret_avg:\",regret_avg,\"for\",params)\n",
        "    return regret_avg\n",
        "\n",
        "\n",
        "\n",
        "\n",
        "\n",
        "\n"
      ],
      "metadata": {
        "id": "Yr0q-YJXLkTq"
      },
      "execution_count": null,
      "outputs": []
    },
    {
      "cell_type": "code",
      "source": [
        "'''\n",
        "from skopt import gp_minimize\n",
        "from skopt.space import Real, Categorical\n",
        "\n",
        "# Define the search space\n",
        "space = [Real(0.0001, 0.01, name='lr'),  # Continuous parameter from 0.01 to 0.0001\n",
        "         Categorical(categories=[16, 32, 64, 128, 256], name='layer_size')]   #\n",
        "         '''"
      ],
      "metadata": {
        "colab": {
          "base_uri": "https://localhost:8080/",
          "height": 107
        },
        "id": "WnBY7j_fV8Lw",
        "outputId": "ff39e8ca-6da3-4633-e501-83a95a84cbaa"
      },
      "execution_count": null,
      "outputs": [
        {
          "output_type": "stream",
          "name": "stderr",
          "text": [
            "/usr/local/lib/python3.10/dist-packages/ipykernel/ipkernel.py:283: DeprecationWarning: `should_run_async` will not call `transform_cell` automatically in the future. Please pass the result to `transformed_cell` argument and any exception that happen during thetransform in `preprocessing_exc_tuple` in IPython 7.17 and above.\n",
            "  and should_run_async(code)\n"
          ]
        },
        {
          "output_type": "execute_result",
          "data": {
            "text/plain": [
              "\"\\nfrom skopt import gp_minimize\\nfrom skopt.space import Real, Categorical\\n\\n# Define the search space\\nspace = [Real(0.0001, 0.01, name='lr'),  # Continuous parameter from 0.01 to 0.0001\\n         Categorical(categories=[16, 32, 64, 128, 256], name='layer_size')]   #\\n         \""
            ],
            "application/vnd.google.colaboratory.intrinsic+json": {
              "type": "string"
            }
          },
          "metadata": {},
          "execution_count": 12
        }
      ]
    },
    {
      "cell_type": "code",
      "source": [
        "#bounds = [(1e-4, 1e-2),]\n",
        "'''\n",
        "# Run the Bayesian optimization\n",
        "res = gp_minimize(objective, space, n_calls=10, random_state=0)\n",
        "print(res)\n",
        "# Print the best parameters\n",
        "print(f\"Best parameters: learning rate = {res.x[0]}\")\n",
        "'''"
      ],
      "metadata": {
        "colab": {
          "base_uri": "https://localhost:8080/",
          "height": 53
        },
        "id": "zjPmvvzBfbSV",
        "outputId": "0811dd10-26f9-4e21-aff9-ca7fb4003c5d"
      },
      "execution_count": null,
      "outputs": [
        {
          "output_type": "execute_result",
          "data": {
            "text/plain": [
              "'\\n# Run the Bayesian optimization\\nres = gp_minimize(objective, space, n_calls=10, random_state=0)\\nprint(res)\\n# Print the best parameters\\nprint(f\"Best parameters: learning rate = {res.x[0]}\")\\n'"
            ],
            "application/vnd.google.colaboratory.intrinsic+json": {
              "type": "string"
            }
          },
          "metadata": {},
          "execution_count": 13
        }
      ]
    },
    {
      "cell_type": "code",
      "source": [
        "!pip install wandb\n"
      ],
      "metadata": {
        "colab": {
          "base_uri": "https://localhost:8080/"
        },
        "id": "m2iUzFkd5pYa",
        "outputId": "079d6e47-08df-4efd-faa0-ea0f4c74d6ad"
      },
      "execution_count": null,
      "outputs": [
        {
          "output_type": "stream",
          "name": "stdout",
          "text": [
            "Collecting wandb\n",
            "  Downloading wandb-0.16.6-py3-none-any.whl (2.2 MB)\n",
            "\u001b[2K     \u001b[90m━━━━━━━━━━━━━━━━━━━━━━━━━━━━━━━━━━━━━━━━\u001b[0m \u001b[32m2.2/2.2 MB\u001b[0m \u001b[31m9.4 MB/s\u001b[0m eta \u001b[36m0:00:00\u001b[0m\n",
            "\u001b[?25hRequirement already satisfied: Click!=8.0.0,>=7.1 in /usr/local/lib/python3.10/dist-packages (from wandb) (8.1.7)\n",
            "Collecting GitPython!=3.1.29,>=1.0.0 (from wandb)\n",
            "  Downloading GitPython-3.1.43-py3-none-any.whl (207 kB)\n",
            "\u001b[2K     \u001b[90m━━━━━━━━━━━━━━━━━━━━━━━━━━━━━━━━━━━━━━━━\u001b[0m \u001b[32m207.3/207.3 kB\u001b[0m \u001b[31m25.4 MB/s\u001b[0m eta \u001b[36m0:00:00\u001b[0m\n",
            "\u001b[?25hRequirement already satisfied: requests<3,>=2.0.0 in /usr/local/lib/python3.10/dist-packages (from wandb) (2.31.0)\n",
            "Requirement already satisfied: psutil>=5.0.0 in /usr/local/lib/python3.10/dist-packages (from wandb) (5.9.5)\n",
            "Collecting sentry-sdk>=1.0.0 (from wandb)\n",
            "  Downloading sentry_sdk-1.44.1-py2.py3-none-any.whl (266 kB)\n",
            "\u001b[2K     \u001b[90m━━━━━━━━━━━━━━━━━━━━━━━━━━━━━━━━━━━━━━━━\u001b[0m \u001b[32m266.1/266.1 kB\u001b[0m \u001b[31m26.6 MB/s\u001b[0m eta \u001b[36m0:00:00\u001b[0m\n",
            "\u001b[?25hCollecting docker-pycreds>=0.4.0 (from wandb)\n",
            "  Downloading docker_pycreds-0.4.0-py2.py3-none-any.whl (9.0 kB)\n",
            "Requirement already satisfied: PyYAML in /usr/local/lib/python3.10/dist-packages (from wandb) (6.0.1)\n",
            "Collecting setproctitle (from wandb)\n",
            "  Downloading setproctitle-1.3.3-cp310-cp310-manylinux_2_5_x86_64.manylinux1_x86_64.manylinux_2_17_x86_64.manylinux2014_x86_64.whl (30 kB)\n",
            "Requirement already satisfied: setuptools in /usr/local/lib/python3.10/dist-packages (from wandb) (67.7.2)\n",
            "Requirement already satisfied: appdirs>=1.4.3 in /usr/local/lib/python3.10/dist-packages (from wandb) (1.4.4)\n",
            "Requirement already satisfied: protobuf!=4.21.0,<5,>=3.19.0 in /usr/local/lib/python3.10/dist-packages (from wandb) (3.20.3)\n",
            "Requirement already satisfied: six>=1.4.0 in /usr/local/lib/python3.10/dist-packages (from docker-pycreds>=0.4.0->wandb) (1.16.0)\n",
            "Collecting gitdb<5,>=4.0.1 (from GitPython!=3.1.29,>=1.0.0->wandb)\n",
            "  Downloading gitdb-4.0.11-py3-none-any.whl (62 kB)\n",
            "\u001b[2K     \u001b[90m━━━━━━━━━━━━━━━━━━━━━━━━━━━━━━━━━━━━━━━━\u001b[0m \u001b[32m62.7/62.7 kB\u001b[0m \u001b[31m7.7 MB/s\u001b[0m eta \u001b[36m0:00:00\u001b[0m\n",
            "\u001b[?25hRequirement already satisfied: charset-normalizer<4,>=2 in /usr/local/lib/python3.10/dist-packages (from requests<3,>=2.0.0->wandb) (3.3.2)\n",
            "Requirement already satisfied: idna<4,>=2.5 in /usr/local/lib/python3.10/dist-packages (from requests<3,>=2.0.0->wandb) (3.6)\n",
            "Requirement already satisfied: urllib3<3,>=1.21.1 in /usr/local/lib/python3.10/dist-packages (from requests<3,>=2.0.0->wandb) (2.0.7)\n",
            "Requirement already satisfied: certifi>=2017.4.17 in /usr/local/lib/python3.10/dist-packages (from requests<3,>=2.0.0->wandb) (2024.2.2)\n",
            "Collecting smmap<6,>=3.0.1 (from gitdb<5,>=4.0.1->GitPython!=3.1.29,>=1.0.0->wandb)\n",
            "  Downloading smmap-5.0.1-py3-none-any.whl (24 kB)\n",
            "Installing collected packages: smmap, setproctitle, sentry-sdk, docker-pycreds, gitdb, GitPython, wandb\n",
            "Successfully installed GitPython-3.1.43 docker-pycreds-0.4.0 gitdb-4.0.11 sentry-sdk-1.44.1 setproctitle-1.3.3 smmap-5.0.1 wandb-0.16.6\n"
          ]
        }
      ]
    },
    {
      "cell_type": "code",
      "source": [
        "!wandb login"
      ],
      "metadata": {
        "colab": {
          "base_uri": "https://localhost:8080/"
        },
        "id": "IhceVq555tZx",
        "outputId": "c18fd812-98a6-45a1-a00f-57a1ebe5c333"
      },
      "execution_count": null,
      "outputs": [
        {
          "output_type": "stream",
          "name": "stdout",
          "text": [
            "\u001b[34m\u001b[1mwandb\u001b[0m: Logging into wandb.ai. (Learn how to deploy a W&B server locally: https://wandb.me/wandb-server)\n",
            "\u001b[34m\u001b[1mwandb\u001b[0m: You can find your API key in your browser here: https://wandb.ai/authorize\n",
            "\u001b[34m\u001b[1mwandb\u001b[0m: Paste an API key from your profile and hit enter, or press ctrl+c to quit: \n",
            "\u001b[34m\u001b[1mwandb\u001b[0m: Appending key for api.wandb.ai to your netrc file: /root/.netrc\n"
          ]
        }
      ]
    },
    {
      "cell_type": "code",
      "source": [
        "import wandb\n",
        "\n",
        "def main():\n",
        "    wandb.init(project=\"RLA2cartepole-wobase\")\n",
        "    #agent = TutorialAgent(state_size=state_shape,action_size = action_shape,seed = 0, config=wandb.config)\n",
        "    score = objective(wandb.config)\n",
        "    wandb.log({\"score\": score})\n",
        "\n",
        "# 2: Define the search space\n",
        "sweep_configuration = {\n",
        "    \"method\": \"bayes\",\n",
        "\n",
        "    \"metric\": {\"goal\": \"minimize\", \"name\": \"score\"},\n",
        "    \"parameters\": {\n",
        "        \"LR\": {\"max\": 1e-2, \"min\": 1e-5},\n",
        "        \"network_size\": {\"values\": [64,256,128]},\n",
        "    },\n",
        "}\n",
        "\n",
        "# 3: Start the sweep\n",
        "sweep_id = wandb.sweep(sweep=sweep_configuration, project=\"RLA2cartepole-wobase\")\n",
        "\n",
        "wandb.agent(sweep_id, function=main, count=10)"
      ],
      "metadata": {
        "colab": {
          "base_uri": "https://localhost:8080/",
          "height": 1000,
          "referenced_widgets": [
            "079bf80a644646c48bd8a705dba04539",
            "4f9c62532b684838a5e37a60605409be",
            "6e53c280e97a492095b618426e37f6d2",
            "a109b6af980c483aaf61772306fb2710",
            "b10d1cd5b876412eb2a35cea410261e0",
            "610e780532834ae196d87cd0af1a7f0a",
            "53d4a082b1b44da4931b5e841bdaf97b",
            "8268c67d980c4ac98cfbad3a116c598a",
            "86320e6d63a241b18a392ca90a7e12c8",
            "f0040edc610548f5a5126ce45e7f57ba",
            "1984f6c971544e55b7ecf682e67ffdc3",
            "0e331022842b4320a6ee74eb13de373e",
            "3dbe627874c846aea748697022d1f539",
            "0d57d80adf54475e979ad66369ec1e96",
            "0feda790cfaf4918bfbc729d8082abfb",
            "2f441b564a8f4f2fa8817045023933ac",
            "7398e61639b549c080fd15ad39d3b544",
            "218f2e755b7541b884d4102fae26418a",
            "64268c49dc924e54ac013badf64ce257",
            "14c4150895ba41bfa1ca656975dbe02c",
            "5e533fb3b6cf4975bc7b50808740b7bf",
            "d55423dca99d4bfa9410d747fdab6025",
            "438996be351d4e51861357cd7e258506",
            "1f84184964824146a99b3f6ad4784586"
          ]
        },
        "id": "Jobp64hL6G33",
        "outputId": "8f511756-94c0-4353-bb48-23c29712f7b5"
      },
      "execution_count": null,
      "outputs": [
        {
          "output_type": "stream",
          "name": "stderr",
          "text": [
            "/usr/local/lib/python3.10/dist-packages/notebook/utils.py:280: DeprecationWarning: distutils Version classes are deprecated. Use packaging.version instead.\n",
            "  return LooseVersion(v) >= LooseVersion(check)\n"
          ]
        },
        {
          "output_type": "stream",
          "name": "stdout",
          "text": [
            "Create sweep with ID: hmh76vmf\n",
            "Sweep URL: https://wandb.ai/deep_learning_duri/RLA2cartepole-wobase/sweeps/hmh76vmf\n"
          ]
        },
        {
          "output_type": "stream",
          "name": "stderr",
          "text": [
            "\u001b[34m\u001b[1mwandb\u001b[0m: Agent Starting Run: gpxzb2l9 with config:\n",
            "\u001b[34m\u001b[1mwandb\u001b[0m: \tLR: 0.004645806369298588\n",
            "\u001b[34m\u001b[1mwandb\u001b[0m: \tnetwork_size: 128\n",
            "\u001b[34m\u001b[1mwandb\u001b[0m: Currently logged in as: \u001b[33mdhurilkun\u001b[0m (\u001b[33mdeep_learning_duri\u001b[0m). Use \u001b[1m`wandb login --relogin`\u001b[0m to force relogin\n",
            "\u001b[34m\u001b[1mwandb\u001b[0m: \u001b[33mWARNING\u001b[0m Ignored wandb.init() arg project when running a sweep.\n"
          ]
        },
        {
          "output_type": "display_data",
          "data": {
            "text/plain": [
              "<IPython.core.display.HTML object>"
            ],
            "text/html": [
              "Tracking run with wandb version 0.16.6"
            ]
          },
          "metadata": {}
        },
        {
          "output_type": "display_data",
          "data": {
            "text/plain": [
              "<IPython.core.display.HTML object>"
            ],
            "text/html": [
              "Run data is saved locally in <code>/content/wandb/run-20240405_032251-gpxzb2l9</code>"
            ]
          },
          "metadata": {}
        },
        {
          "output_type": "display_data",
          "data": {
            "text/plain": [
              "<IPython.core.display.HTML object>"
            ],
            "text/html": [
              "Syncing run <strong><a href='https://wandb.ai/deep_learning_duri/RLA2cartepole-wobase/runs/gpxzb2l9' target=\"_blank\">sunny-sweep-1</a></strong> to <a href='https://wandb.ai/deep_learning_duri/RLA2cartepole-wobase' target=\"_blank\">Weights & Biases</a> (<a href='https://wandb.me/run' target=\"_blank\">docs</a>)<br/>Sweep page: <a href='https://wandb.ai/deep_learning_duri/RLA2cartepole-wobase/sweeps/hmh76vmf' target=\"_blank\">https://wandb.ai/deep_learning_duri/RLA2cartepole-wobase/sweeps/hmh76vmf</a>"
            ]
          },
          "metadata": {}
        },
        {
          "output_type": "display_data",
          "data": {
            "text/plain": [
              "<IPython.core.display.HTML object>"
            ],
            "text/html": [
              " View project at <a href='https://wandb.ai/deep_learning_duri/RLA2cartepole-wobase' target=\"_blank\">https://wandb.ai/deep_learning_duri/RLA2cartepole-wobase</a>"
            ]
          },
          "metadata": {}
        },
        {
          "output_type": "display_data",
          "data": {
            "text/plain": [
              "<IPython.core.display.HTML object>"
            ],
            "text/html": [
              " View sweep at <a href='https://wandb.ai/deep_learning_duri/RLA2cartepole-wobase/sweeps/hmh76vmf' target=\"_blank\">https://wandb.ai/deep_learning_duri/RLA2cartepole-wobase/sweeps/hmh76vmf</a>"
            ]
          },
          "metadata": {}
        },
        {
          "output_type": "display_data",
          "data": {
            "text/plain": [
              "<IPython.core.display.HTML object>"
            ],
            "text/html": [
              " View run at <a href='https://wandb.ai/deep_learning_duri/RLA2cartepole-wobase/runs/gpxzb2l9' target=\"_blank\">https://wandb.ai/deep_learning_duri/RLA2cartepole-wobase/runs/gpxzb2l9</a>"
            ]
          },
          "metadata": {}
        },
        {
          "output_type": "stream",
          "name": "stdout",
          "text": [
            "{'LR': 0.004645806369298588, 'network_size': 128} Its just getting started \n"
          ]
        },
        {
          "output_type": "stream",
          "name": "stderr",
          "text": [
            "/usr/local/lib/python3.10/dist-packages/gym/utils/passive_env_checker.py:241: DeprecationWarning: `np.bool8` is a deprecated alias for `np.bool_`.  (Deprecated NumPy 1.24)\n",
            "  if not isinstance(terminated, (bool, np.bool8)):\n"
          ]
        },
        {
          "output_type": "stream",
          "name": "stdout",
          "text": [
            "Ep: 400 last 100 episodes reward is  : 256.77\n",
            "problem solved at episode 490\n",
            "{'LR': 0.004645806369298588, 'network_size': 128} 141680.91117138852\n",
            "Ep: 400 last 100 episodes reward is  : 274.94\n",
            "Ep: 800 last 100 episodes reward is  : 241.59\n",
            "problem solved at episode 886\n",
            "{'LR': 0.004645806369298588, 'network_size': 128} 259334.08986103907\n",
            "Ep: 400 last 100 episodes reward is  : 203.57\n",
            "problem solved at episode 736\n",
            "{'LR': 0.004645806369298588, 'network_size': 128} 230915.85514226148\n",
            "Ep: 400 last 100 episodes reward is  : 168.1\n",
            "Ep: 800 last 100 episodes reward is  : 138.34\n",
            "Ep: 1200 last 100 episodes reward is  : 450.3\n",
            "Ep: 1600 last 100 episodes reward is  : 341.7\n",
            "problem solved at episode 1716\n",
            "{'LR': 0.004645806369298588, 'network_size': 128} 451552.6458379373\n",
            "Ep: 400 last 100 episodes reward is  : 110.74\n",
            "problem solved at episode 614\n",
            "{'LR': 0.004645806369298588, 'network_size': 128} 194783.56433373253\n",
            "regret_avg: 1278267.0663463587 for {'LR': 0.004645806369298588, 'network_size': 128}\n"
          ]
        },
        {
          "output_type": "display_data",
          "data": {
            "text/plain": [
              "VBox(children=(Label(value='0.001 MB of 0.001 MB uploaded\\r'), FloatProgress(value=1.0, max=1.0)))"
            ],
            "application/vnd.jupyter.widget-view+json": {
              "version_major": 2,
              "version_minor": 0,
              "model_id": "079bf80a644646c48bd8a705dba04539"
            }
          },
          "metadata": {}
        },
        {
          "output_type": "display_data",
          "data": {
            "text/plain": [
              "<IPython.core.display.HTML object>"
            ],
            "text/html": [
              "<style>\n",
              "    table.wandb td:nth-child(1) { padding: 0 10px; text-align: left ; width: auto;} td:nth-child(2) {text-align: left ; width: 100%}\n",
              "    .wandb-row { display: flex; flex-direction: row; flex-wrap: wrap; justify-content: flex-start; width: 100% }\n",
              "    .wandb-col { display: flex; flex-direction: column; flex-basis: 100%; flex: 1; padding: 10px; }\n",
              "    </style>\n",
              "<div class=\"wandb-row\"><div class=\"wandb-col\"><h3>Run history:</h3><br/><table class=\"wandb\"><tr><td>score</td><td>▁</td></tr></table><br/></div><div class=\"wandb-col\"><h3>Run summary:</h3><br/><table class=\"wandb\"><tr><td>score</td><td>1278267.06635</td></tr></table><br/></div></div>"
            ]
          },
          "metadata": {}
        },
        {
          "output_type": "display_data",
          "data": {
            "text/plain": [
              "<IPython.core.display.HTML object>"
            ],
            "text/html": [
              " View run <strong style=\"color:#cdcd00\">sunny-sweep-1</strong> at: <a href='https://wandb.ai/deep_learning_duri/RLA2cartepole-wobase/runs/gpxzb2l9' target=\"_blank\">https://wandb.ai/deep_learning_duri/RLA2cartepole-wobase/runs/gpxzb2l9</a><br/> View project at: <a href='https://wandb.ai/deep_learning_duri/RLA2cartepole-wobase' target=\"_blank\">https://wandb.ai/deep_learning_duri/RLA2cartepole-wobase</a><br/>Synced 5 W&B file(s), 0 media file(s), 0 artifact file(s) and 0 other file(s)"
            ]
          },
          "metadata": {}
        },
        {
          "output_type": "display_data",
          "data": {
            "text/plain": [
              "<IPython.core.display.HTML object>"
            ],
            "text/html": [
              "Find logs at: <code>./wandb/run-20240405_032251-gpxzb2l9/logs</code>"
            ]
          },
          "metadata": {}
        },
        {
          "output_type": "stream",
          "name": "stderr",
          "text": [
            "\u001b[34m\u001b[1mwandb\u001b[0m: Sweep Agent: Waiting for job.\n",
            "\u001b[34m\u001b[1mwandb\u001b[0m: Job received.\n",
            "\u001b[34m\u001b[1mwandb\u001b[0m: Agent Starting Run: is72v6gw with config:\n",
            "\u001b[34m\u001b[1mwandb\u001b[0m: \tLR: 0.0038212385249032583\n",
            "\u001b[34m\u001b[1mwandb\u001b[0m: \tnetwork_size: 256\n",
            "\u001b[34m\u001b[1mwandb\u001b[0m: \u001b[33mWARNING\u001b[0m Ignored wandb.init() arg project when running a sweep.\n"
          ]
        },
        {
          "output_type": "display_data",
          "data": {
            "text/plain": [
              "<IPython.core.display.HTML object>"
            ],
            "text/html": [
              "Tracking run with wandb version 0.16.6"
            ]
          },
          "metadata": {}
        },
        {
          "output_type": "display_data",
          "data": {
            "text/plain": [
              "<IPython.core.display.HTML object>"
            ],
            "text/html": [
              "Run data is saved locally in <code>/content/wandb/run-20240405_033746-is72v6gw</code>"
            ]
          },
          "metadata": {}
        },
        {
          "output_type": "display_data",
          "data": {
            "text/plain": [
              "<IPython.core.display.HTML object>"
            ],
            "text/html": [
              "Syncing run <strong><a href='https://wandb.ai/deep_learning_duri/RLA2cartepole-wobase/runs/is72v6gw' target=\"_blank\">super-sweep-2</a></strong> to <a href='https://wandb.ai/deep_learning_duri/RLA2cartepole-wobase' target=\"_blank\">Weights & Biases</a> (<a href='https://wandb.me/run' target=\"_blank\">docs</a>)<br/>Sweep page: <a href='https://wandb.ai/deep_learning_duri/RLA2cartepole-wobase/sweeps/hmh76vmf' target=\"_blank\">https://wandb.ai/deep_learning_duri/RLA2cartepole-wobase/sweeps/hmh76vmf</a>"
            ]
          },
          "metadata": {}
        },
        {
          "output_type": "display_data",
          "data": {
            "text/plain": [
              "<IPython.core.display.HTML object>"
            ],
            "text/html": [
              " View project at <a href='https://wandb.ai/deep_learning_duri/RLA2cartepole-wobase' target=\"_blank\">https://wandb.ai/deep_learning_duri/RLA2cartepole-wobase</a>"
            ]
          },
          "metadata": {}
        },
        {
          "output_type": "display_data",
          "data": {
            "text/plain": [
              "<IPython.core.display.HTML object>"
            ],
            "text/html": [
              " View sweep at <a href='https://wandb.ai/deep_learning_duri/RLA2cartepole-wobase/sweeps/hmh76vmf' target=\"_blank\">https://wandb.ai/deep_learning_duri/RLA2cartepole-wobase/sweeps/hmh76vmf</a>"
            ]
          },
          "metadata": {}
        },
        {
          "output_type": "display_data",
          "data": {
            "text/plain": [
              "<IPython.core.display.HTML object>"
            ],
            "text/html": [
              " View run at <a href='https://wandb.ai/deep_learning_duri/RLA2cartepole-wobase/runs/is72v6gw' target=\"_blank\">https://wandb.ai/deep_learning_duri/RLA2cartepole-wobase/runs/is72v6gw</a>"
            ]
          },
          "metadata": {}
        },
        {
          "output_type": "stream",
          "name": "stdout",
          "text": [
            "{'LR': 0.0038212385249032583, 'network_size': 256} Its just getting started \n",
            "Ep: 400 last 100 episodes reward is  : 11.92\n",
            "Ep: 800 last 100 episodes reward is  : 83.17\n",
            "Ep: 1200 last 100 episodes reward is  : 204.27\n",
            "Ep: 1600 last 100 episodes reward is  : 221.02\n",
            "Ep: 2000 last 100 episodes reward is  : 137.64\n",
            "Ep: 2400 last 100 episodes reward is  : 115.26\n",
            "problem solved at episode 2720\n",
            "{'LR': 0.0038212385249032583, 'network_size': 256} 958452.8748216162\n",
            "Ep: 400 last 100 episodes reward is  : 87.98\n",
            "Ep: 800 last 100 episodes reward is  : 102.89\n",
            "Ep: 1200 last 100 episodes reward is  : 101.95\n",
            "Ep: 1600 last 100 episodes reward is  : 110.87\n",
            "problem solved at episode 1727\n",
            "{'LR': 0.0038212385249032583, 'network_size': 256} 604892.7964239748\n",
            "Ep: 400 last 100 episodes reward is  : 9.43\n",
            "Ep: 800 last 100 episodes reward is  : 9.55\n",
            "Ep: 1200 last 100 episodes reward is  : 9.55\n",
            "Ep: 1600 last 100 episodes reward is  : 9.33\n",
            "Ep: 2000 last 100 episodes reward is  : 9.47\n",
            "Ep: 2400 last 100 episodes reward is  : 9.34\n",
            "Ep: 2800 last 100 episodes reward is  : 9.18\n",
            "Ep: 3200 last 100 episodes reward is  : 9.36\n",
            "Ep: 3600 last 100 episodes reward is  : 9.3\n",
            "Ep: 4000 last 100 episodes reward is  : 9.35\n",
            "Ep: 4400 last 100 episodes reward is  : 9.29\n",
            "Ep: 4800 last 100 episodes reward is  : 9.44\n",
            "Ep: 5200 last 100 episodes reward is  : 9.28\n",
            "Ep: 5600 last 100 episodes reward is  : 9.45\n",
            "Ep: 6000 last 100 episodes reward is  : 9.28\n",
            "Ep: 6400 last 100 episodes reward is  : 9.36\n",
            "Ep: 6800 last 100 episodes reward is  : 9.32\n",
            "Ep: 7200 last 100 episodes reward is  : 9.44\n",
            "Ep: 7600 last 100 episodes reward is  : 9.3\n",
            "Ep: 8000 last 100 episodes reward is  : 9.46\n",
            "Ep: 8400 last 100 episodes reward is  : 9.44\n",
            "Ep: 8800 last 100 episodes reward is  : 9.44\n",
            "Ep: 9200 last 100 episodes reward is  : 9.38\n",
            "Ep: 9600 last 100 episodes reward is  : 9.42\n",
            "Ep: 10000 last 100 episodes reward is  : 9.33\n",
            "{'LR': 0.0038212385249032583, 'network_size': 256} 4656192.861325736\n",
            "Ep: 400 last 100 episodes reward is  : 16.68\n",
            "Ep: 800 last 100 episodes reward is  : 77.62\n",
            "Ep: 1200 last 100 episodes reward is  : 60.27\n",
            "Ep: 1600 last 100 episodes reward is  : 141.71\n",
            "Ep: 2000 last 100 episodes reward is  : 116.98\n",
            "Ep: 2400 last 100 episodes reward is  : 140.55\n",
            "Ep: 2800 last 100 episodes reward is  : 136.91\n",
            "Ep: 3200 last 100 episodes reward is  : 318.38\n",
            "Ep: 3600 last 100 episodes reward is  : 135.26\n",
            "Ep: 4000 last 100 episodes reward is  : 126.68\n",
            "Ep: 4400 last 100 episodes reward is  : 111.96\n",
            "Ep: 4800 last 100 episodes reward is  : 106.02\n",
            "Ep: 5200 last 100 episodes reward is  : 447.42\n",
            "problem solved at episode 5214\n",
            "{'LR': 0.0038212385249032583, 'network_size': 256} 1762799.201034805\n",
            "Ep: 400 last 100 episodes reward is  : 271.14\n",
            "Ep: 800 last 100 episodes reward is  : 80.2\n",
            "Ep: 1200 last 100 episodes reward is  : 90.42\n",
            "Ep: 1600 last 100 episodes reward is  : 119.26\n",
            "Ep: 2000 last 100 episodes reward is  : 105.53\n",
            "Ep: 2400 last 100 episodes reward is  : 10.22\n",
            "Ep: 2800 last 100 episodes reward is  : 80.79\n",
            "Ep: 3200 last 100 episodes reward is  : 197.95\n",
            "problem solved at episode 3456\n",
            "{'LR': 0.0038212385249032583, 'network_size': 256} 1143086.210142466\n",
            "regret_avg: 9125423.943748597 for {'LR': 0.0038212385249032583, 'network_size': 256}\n"
          ]
        },
        {
          "output_type": "display_data",
          "data": {
            "text/plain": [
              "VBox(children=(Label(value='0.013 MB of 0.013 MB uploaded\\r'), FloatProgress(value=1.0, max=1.0)))"
            ],
            "application/vnd.jupyter.widget-view+json": {
              "version_major": 2,
              "version_minor": 0,
              "model_id": "86320e6d63a241b18a392ca90a7e12c8"
            }
          },
          "metadata": {}
        },
        {
          "output_type": "display_data",
          "data": {
            "text/plain": [
              "<IPython.core.display.HTML object>"
            ],
            "text/html": [
              "<style>\n",
              "    table.wandb td:nth-child(1) { padding: 0 10px; text-align: left ; width: auto;} td:nth-child(2) {text-align: left ; width: 100%}\n",
              "    .wandb-row { display: flex; flex-direction: row; flex-wrap: wrap; justify-content: flex-start; width: 100% }\n",
              "    .wandb-col { display: flex; flex-direction: column; flex-basis: 100%; flex: 1; padding: 10px; }\n",
              "    </style>\n",
              "<div class=\"wandb-row\"><div class=\"wandb-col\"><h3>Run history:</h3><br/><table class=\"wandb\"><tr><td>score</td><td>▁</td></tr></table><br/></div><div class=\"wandb-col\"><h3>Run summary:</h3><br/><table class=\"wandb\"><tr><td>score</td><td>9125423.94375</td></tr></table><br/></div></div>"
            ]
          },
          "metadata": {}
        },
        {
          "output_type": "display_data",
          "data": {
            "text/plain": [
              "<IPython.core.display.HTML object>"
            ],
            "text/html": [
              " View run <strong style=\"color:#cdcd00\">super-sweep-2</strong> at: <a href='https://wandb.ai/deep_learning_duri/RLA2cartepole-wobase/runs/is72v6gw' target=\"_blank\">https://wandb.ai/deep_learning_duri/RLA2cartepole-wobase/runs/is72v6gw</a><br/> View project at: <a href='https://wandb.ai/deep_learning_duri/RLA2cartepole-wobase' target=\"_blank\">https://wandb.ai/deep_learning_duri/RLA2cartepole-wobase</a><br/>Synced 5 W&B file(s), 0 media file(s), 0 artifact file(s) and 0 other file(s)"
            ]
          },
          "metadata": {}
        },
        {
          "output_type": "display_data",
          "data": {
            "text/plain": [
              "<IPython.core.display.HTML object>"
            ],
            "text/html": [
              "Find logs at: <code>./wandb/run-20240405_033746-is72v6gw/logs</code>"
            ]
          },
          "metadata": {}
        },
        {
          "output_type": "stream",
          "name": "stderr",
          "text": [
            "\u001b[34m\u001b[1mwandb\u001b[0m: Agent Starting Run: j6iyjx50 with config:\n",
            "\u001b[34m\u001b[1mwandb\u001b[0m: \tLR: 0.006853077550144784\n",
            "\u001b[34m\u001b[1mwandb\u001b[0m: \tnetwork_size: 256\n",
            "\u001b[34m\u001b[1mwandb\u001b[0m: \u001b[33mWARNING\u001b[0m Ignored wandb.init() arg project when running a sweep.\n"
          ]
        },
        {
          "output_type": "display_data",
          "data": {
            "text/plain": [
              "<IPython.core.display.HTML object>"
            ],
            "text/html": [
              "Tracking run with wandb version 0.16.6"
            ]
          },
          "metadata": {}
        },
        {
          "output_type": "display_data",
          "data": {
            "text/plain": [
              "<IPython.core.display.HTML object>"
            ],
            "text/html": [
              "Run data is saved locally in <code>/content/wandb/run-20240405_040624-j6iyjx50</code>"
            ]
          },
          "metadata": {}
        },
        {
          "output_type": "display_data",
          "data": {
            "text/plain": [
              "<IPython.core.display.HTML object>"
            ],
            "text/html": [
              "Syncing run <strong><a href='https://wandb.ai/deep_learning_duri/RLA2cartepole-wobase/runs/j6iyjx50' target=\"_blank\">whole-sweep-3</a></strong> to <a href='https://wandb.ai/deep_learning_duri/RLA2cartepole-wobase' target=\"_blank\">Weights & Biases</a> (<a href='https://wandb.me/run' target=\"_blank\">docs</a>)<br/>Sweep page: <a href='https://wandb.ai/deep_learning_duri/RLA2cartepole-wobase/sweeps/hmh76vmf' target=\"_blank\">https://wandb.ai/deep_learning_duri/RLA2cartepole-wobase/sweeps/hmh76vmf</a>"
            ]
          },
          "metadata": {}
        },
        {
          "output_type": "display_data",
          "data": {
            "text/plain": [
              "<IPython.core.display.HTML object>"
            ],
            "text/html": [
              " View project at <a href='https://wandb.ai/deep_learning_duri/RLA2cartepole-wobase' target=\"_blank\">https://wandb.ai/deep_learning_duri/RLA2cartepole-wobase</a>"
            ]
          },
          "metadata": {}
        },
        {
          "output_type": "display_data",
          "data": {
            "text/plain": [
              "<IPython.core.display.HTML object>"
            ],
            "text/html": [
              " View sweep at <a href='https://wandb.ai/deep_learning_duri/RLA2cartepole-wobase/sweeps/hmh76vmf' target=\"_blank\">https://wandb.ai/deep_learning_duri/RLA2cartepole-wobase/sweeps/hmh76vmf</a>"
            ]
          },
          "metadata": {}
        },
        {
          "output_type": "display_data",
          "data": {
            "text/plain": [
              "<IPython.core.display.HTML object>"
            ],
            "text/html": [
              " View run at <a href='https://wandb.ai/deep_learning_duri/RLA2cartepole-wobase/runs/j6iyjx50' target=\"_blank\">https://wandb.ai/deep_learning_duri/RLA2cartepole-wobase/runs/j6iyjx50</a>"
            ]
          },
          "metadata": {}
        },
        {
          "output_type": "stream",
          "name": "stdout",
          "text": [
            "{'LR': 0.006853077550144784, 'network_size': 256} Its just getting started \n",
            "Ep: 400 last 100 episodes reward is  : 87.39\n",
            "Ep: 800 last 100 episodes reward is  : 9.35\n",
            "Ep: 1200 last 100 episodes reward is  : 9.44\n",
            "Ep: 1600 last 100 episodes reward is  : 9.39\n",
            "Ep: 2000 last 100 episodes reward is  : 9.33\n",
            "Ep: 2400 last 100 episodes reward is  : 9.38\n",
            "Ep: 2800 last 100 episodes reward is  : 9.35\n",
            "Ep: 3200 last 100 episodes reward is  : 9.59\n",
            "Ep: 3600 last 100 episodes reward is  : 9.3\n",
            "Ep: 4000 last 100 episodes reward is  : 9.37\n",
            "Ep: 4400 last 100 episodes reward is  : 9.36\n",
            "Ep: 4800 last 100 episodes reward is  : 9.41\n",
            "Ep: 5200 last 100 episodes reward is  : 9.31\n",
            "Ep: 5600 last 100 episodes reward is  : 9.38\n",
            "Ep: 6000 last 100 episodes reward is  : 9.4\n",
            "Ep: 6400 last 100 episodes reward is  : 9.3\n",
            "Ep: 6800 last 100 episodes reward is  : 9.47\n",
            "Ep: 7200 last 100 episodes reward is  : 9.31\n",
            "Ep: 7600 last 100 episodes reward is  : 9.36\n",
            "Ep: 8000 last 100 episodes reward is  : 9.5\n",
            "Ep: 8400 last 100 episodes reward is  : 9.29\n",
            "Ep: 8800 last 100 episodes reward is  : 9.42\n",
            "Ep: 9200 last 100 episodes reward is  : 9.31\n",
            "Ep: 9600 last 100 episodes reward is  : 9.4\n",
            "Ep: 10000 last 100 episodes reward is  : 9.39\n",
            "{'LR': 0.006853077550144784, 'network_size': 256} 4577051.7585119475\n",
            "Ep: 400 last 100 episodes reward is  : 9.18\n",
            "Ep: 800 last 100 episodes reward is  : 9.32\n",
            "Ep: 1200 last 100 episodes reward is  : 9.36\n",
            "Ep: 1600 last 100 episodes reward is  : 9.41\n",
            "Ep: 2000 last 100 episodes reward is  : 9.41\n",
            "Ep: 2400 last 100 episodes reward is  : 9.31\n",
            "Ep: 2800 last 100 episodes reward is  : 9.39\n",
            "Ep: 3200 last 100 episodes reward is  : 9.38\n",
            "Ep: 3600 last 100 episodes reward is  : 9.38\n",
            "Ep: 4000 last 100 episodes reward is  : 9.27\n",
            "Ep: 4400 last 100 episodes reward is  : 9.31\n",
            "Ep: 4800 last 100 episodes reward is  : 9.39\n",
            "Ep: 5200 last 100 episodes reward is  : 9.25\n",
            "Ep: 5600 last 100 episodes reward is  : 9.45\n",
            "Ep: 6000 last 100 episodes reward is  : 9.48\n",
            "Ep: 6400 last 100 episodes reward is  : 9.36\n",
            "Ep: 6800 last 100 episodes reward is  : 9.31\n",
            "Ep: 7200 last 100 episodes reward is  : 9.38\n",
            "Ep: 7600 last 100 episodes reward is  : 9.49\n",
            "Ep: 8000 last 100 episodes reward is  : 9.3\n",
            "Ep: 8400 last 100 episodes reward is  : 9.31\n",
            "Ep: 8800 last 100 episodes reward is  : 9.37\n",
            "Ep: 9200 last 100 episodes reward is  : 9.39\n",
            "Ep: 9600 last 100 episodes reward is  : 9.43\n",
            "Ep: 10000 last 100 episodes reward is  : 9.38\n",
            "{'LR': 0.006853077550144784, 'network_size': 256} 4645303.236653192\n",
            "Ep: 400 last 100 episodes reward is  : 123.13\n",
            "Ep: 800 last 100 episodes reward is  : 142.58\n",
            "Ep: 1200 last 100 episodes reward is  : 85.75\n",
            "Ep: 1600 last 100 episodes reward is  : 244.62\n",
            "problem solved at episode 1784\n",
            "{'LR': 0.006853077550144784, 'network_size': 256} 568379.067009852\n",
            "Ep: 400 last 100 episodes reward is  : 120.61\n",
            "Ep: 800 last 100 episodes reward is  : 303.68\n",
            "Ep: 1200 last 100 episodes reward is  : 376.49\n",
            "Ep: 1600 last 100 episodes reward is  : 118.65\n",
            "Ep: 2000 last 100 episodes reward is  : 100.44\n",
            "Ep: 2400 last 100 episodes reward is  : 290.12\n",
            "problem solved at episode 2477\n",
            "{'LR': 0.006853077550144784, 'network_size': 256} 720395.2159819384\n",
            "Ep: 400 last 100 episodes reward is  : 51.71\n",
            "Ep: 800 last 100 episodes reward is  : 187.0\n",
            "Ep: 1200 last 100 episodes reward is  : 9.5\n",
            "Ep: 1600 last 100 episodes reward is  : 9.58\n",
            "Ep: 2000 last 100 episodes reward is  : 9.44\n",
            "Ep: 2400 last 100 episodes reward is  : 9.49\n",
            "Ep: 2800 last 100 episodes reward is  : 9.46\n",
            "Ep: 3200 last 100 episodes reward is  : 9.44\n",
            "Ep: 3600 last 100 episodes reward is  : 9.92\n",
            "Ep: 4000 last 100 episodes reward is  : 12.68\n",
            "Ep: 4400 last 100 episodes reward is  : 56.7\n",
            "Ep: 4800 last 100 episodes reward is  : 9.45\n",
            "Ep: 5200 last 100 episodes reward is  : 9.31\n",
            "Ep: 5600 last 100 episodes reward is  : 9.43\n",
            "Ep: 6000 last 100 episodes reward is  : 9.44\n",
            "Ep: 6400 last 100 episodes reward is  : 9.27\n",
            "Ep: 6800 last 100 episodes reward is  : 9.38\n",
            "Ep: 7200 last 100 episodes reward is  : 9.41\n",
            "Ep: 7600 last 100 episodes reward is  : 9.22\n",
            "Ep: 8000 last 100 episodes reward is  : 9.3\n",
            "Ep: 8400 last 100 episodes reward is  : 9.32\n",
            "Ep: 8800 last 100 episodes reward is  : 9.37\n",
            "Ep: 9200 last 100 episodes reward is  : 9.41\n",
            "Ep: 9600 last 100 episodes reward is  : 9.27\n",
            "Ep: 10000 last 100 episodes reward is  : 9.35\n",
            "{'LR': 0.006853077550144784, 'network_size': 256} 4484798.8290595515\n",
            "regret_avg: 14995928.107216481 for {'LR': 0.006853077550144784, 'network_size': 256}\n"
          ]
        },
        {
          "output_type": "display_data",
          "data": {
            "text/plain": [
              "VBox(children=(Label(value='0.001 MB of 0.001 MB uploaded\\r'), FloatProgress(value=1.0, max=1.0)))"
            ],
            "application/vnd.jupyter.widget-view+json": {
              "version_major": 2,
              "version_minor": 0,
              "model_id": "7398e61639b549c080fd15ad39d3b544"
            }
          },
          "metadata": {}
        },
        {
          "output_type": "display_data",
          "data": {
            "text/plain": [
              "<IPython.core.display.HTML object>"
            ],
            "text/html": [
              "<style>\n",
              "    table.wandb td:nth-child(1) { padding: 0 10px; text-align: left ; width: auto;} td:nth-child(2) {text-align: left ; width: 100%}\n",
              "    .wandb-row { display: flex; flex-direction: row; flex-wrap: wrap; justify-content: flex-start; width: 100% }\n",
              "    .wandb-col { display: flex; flex-direction: column; flex-basis: 100%; flex: 1; padding: 10px; }\n",
              "    </style>\n",
              "<div class=\"wandb-row\"><div class=\"wandb-col\"><h3>Run history:</h3><br/><table class=\"wandb\"><tr><td>score</td><td>▁</td></tr></table><br/></div><div class=\"wandb-col\"><h3>Run summary:</h3><br/><table class=\"wandb\"><tr><td>score</td><td>14995928.10722</td></tr></table><br/></div></div>"
            ]
          },
          "metadata": {}
        },
        {
          "output_type": "display_data",
          "data": {
            "text/plain": [
              "<IPython.core.display.HTML object>"
            ],
            "text/html": [
              " View run <strong style=\"color:#cdcd00\">whole-sweep-3</strong> at: <a href='https://wandb.ai/deep_learning_duri/RLA2cartepole-wobase/runs/j6iyjx50' target=\"_blank\">https://wandb.ai/deep_learning_duri/RLA2cartepole-wobase/runs/j6iyjx50</a><br/> View project at: <a href='https://wandb.ai/deep_learning_duri/RLA2cartepole-wobase' target=\"_blank\">https://wandb.ai/deep_learning_duri/RLA2cartepole-wobase</a><br/>Synced 5 W&B file(s), 0 media file(s), 0 artifact file(s) and 0 other file(s)"
            ]
          },
          "metadata": {}
        },
        {
          "output_type": "display_data",
          "data": {
            "text/plain": [
              "<IPython.core.display.HTML object>"
            ],
            "text/html": [
              "Find logs at: <code>./wandb/run-20240405_040624-j6iyjx50/logs</code>"
            ]
          },
          "metadata": {}
        },
        {
          "output_type": "stream",
          "name": "stderr",
          "text": [
            "\u001b[34m\u001b[1mwandb\u001b[0m: Agent Starting Run: hfsintoc with config:\n",
            "\u001b[34m\u001b[1mwandb\u001b[0m: \tLR: 0.004698292646577228\n",
            "\u001b[34m\u001b[1mwandb\u001b[0m: \tnetwork_size: 128\n",
            "\u001b[34m\u001b[1mwandb\u001b[0m: \u001b[33mWARNING\u001b[0m Ignored wandb.init() arg project when running a sweep.\n"
          ]
        },
        {
          "output_type": "display_data",
          "data": {
            "text/plain": [
              "<IPython.core.display.HTML object>"
            ],
            "text/html": [
              "Tracking run with wandb version 0.16.6"
            ]
          },
          "metadata": {}
        },
        {
          "output_type": "display_data",
          "data": {
            "text/plain": [
              "<IPython.core.display.HTML object>"
            ],
            "text/html": [
              "Run data is saved locally in <code>/content/wandb/run-20240405_042646-hfsintoc</code>"
            ]
          },
          "metadata": {}
        },
        {
          "output_type": "display_data",
          "data": {
            "text/plain": [
              "<IPython.core.display.HTML object>"
            ],
            "text/html": [
              "Syncing run <strong><a href='https://wandb.ai/deep_learning_duri/RLA2cartepole-wobase/runs/hfsintoc' target=\"_blank\">crisp-sweep-4</a></strong> to <a href='https://wandb.ai/deep_learning_duri/RLA2cartepole-wobase' target=\"_blank\">Weights & Biases</a> (<a href='https://wandb.me/run' target=\"_blank\">docs</a>)<br/>Sweep page: <a href='https://wandb.ai/deep_learning_duri/RLA2cartepole-wobase/sweeps/hmh76vmf' target=\"_blank\">https://wandb.ai/deep_learning_duri/RLA2cartepole-wobase/sweeps/hmh76vmf</a>"
            ]
          },
          "metadata": {}
        },
        {
          "output_type": "display_data",
          "data": {
            "text/plain": [
              "<IPython.core.display.HTML object>"
            ],
            "text/html": [
              " View project at <a href='https://wandb.ai/deep_learning_duri/RLA2cartepole-wobase' target=\"_blank\">https://wandb.ai/deep_learning_duri/RLA2cartepole-wobase</a>"
            ]
          },
          "metadata": {}
        },
        {
          "output_type": "display_data",
          "data": {
            "text/plain": [
              "<IPython.core.display.HTML object>"
            ],
            "text/html": [
              " View sweep at <a href='https://wandb.ai/deep_learning_duri/RLA2cartepole-wobase/sweeps/hmh76vmf' target=\"_blank\">https://wandb.ai/deep_learning_duri/RLA2cartepole-wobase/sweeps/hmh76vmf</a>"
            ]
          },
          "metadata": {}
        },
        {
          "output_type": "display_data",
          "data": {
            "text/plain": [
              "<IPython.core.display.HTML object>"
            ],
            "text/html": [
              " View run at <a href='https://wandb.ai/deep_learning_duri/RLA2cartepole-wobase/runs/hfsintoc' target=\"_blank\">https://wandb.ai/deep_learning_duri/RLA2cartepole-wobase/runs/hfsintoc</a>"
            ]
          },
          "metadata": {}
        },
        {
          "output_type": "stream",
          "name": "stdout",
          "text": [
            "{'LR': 0.004698292646577228, 'network_size': 128} Its just getting started \n",
            "Ep: 400 last 100 episodes reward is  : 403.01\n",
            "problem solved at episode 424\n",
            "{'LR': 0.004698292646577228, 'network_size': 128} 92589.81004913758\n",
            "Ep: 400 last 100 episodes reward is  : 152.97\n",
            "Ep: 800 last 100 episodes reward is  : 446.21\n",
            "Ep: 1200 last 100 episodes reward is  : 94.1\n",
            "problem solved at episode 1456\n",
            "{'LR': 0.004698292646577228, 'network_size': 128} 397661.93824103306\n",
            "Ep: 400 last 100 episodes reward is  : 81.48\n",
            "Ep: 800 last 100 episodes reward is  : 88.35\n",
            "problem solved at episode 1103\n",
            "{'LR': 0.004698292646577228, 'network_size': 128} 394229.5553144145\n",
            "problem solved at episode 394\n",
            "{'LR': 0.004698292646577228, 'network_size': 128} 143361.9515457032\n",
            "Ep: 400 last 100 episodes reward is  : 140.3\n",
            "Ep: 800 last 100 episodes reward is  : 142.57\n",
            "Ep: 1200 last 100 episodes reward is  : 226.06\n",
            "Ep: 1600 last 100 episodes reward is  : 103.25\n",
            "Ep: 2000 last 100 episodes reward is  : 110.19\n",
            "Ep: 2400 last 100 episodes reward is  : 100.9\n"
          ]
        }
      ]
    },
    {
      "cell_type": "code",
      "source": [
        "import matplotlib.pyplot as plt"
      ],
      "metadata": {
        "id": "FOHCGgXNN0dL"
      },
      "execution_count": null,
      "outputs": []
    },
    {
      "cell_type": "code",
      "source": [
        "'''\n",
        "plt.plot(total_rewards)\n",
        "plt.plot()\n",
        "plt.xlabel('Episode')\n",
        "plt.ylabel('Reward')\n",
        "\n",
        "plt.show()'''\n"
      ],
      "metadata": {
        "id": "_t7RS5cGL5cq"
      },
      "execution_count": null,
      "outputs": []
    },
    {
      "cell_type": "code",
      "source": [],
      "metadata": {
        "id": "HJdaEEBPNw6U"
      },
      "execution_count": null,
      "outputs": []
    }
  ]
}